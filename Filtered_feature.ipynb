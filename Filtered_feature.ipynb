{
  "nbformat": 4,
  "nbformat_minor": 0,
  "metadata": {
    "colab": {
      "provenance": [],
      "authorship_tag": "ABX9TyM3IgnQhVYwd/HAyswS1g0I",
      "include_colab_link": true
    },
    "kernelspec": {
      "name": "python3",
      "display_name": "Python 3"
    },
    "language_info": {
      "name": "python"
    }
  },
  "cells": [
    {
      "cell_type": "markdown",
      "metadata": {
        "id": "view-in-github",
        "colab_type": "text"
      },
      "source": [
        "<a href=\"https://colab.research.google.com/github/Mahmuda-104/Thesis/blob/main/Filtered_feature.ipynb\" target=\"_parent\"><img src=\"https://colab.research.google.com/assets/colab-badge.svg\" alt=\"Open In Colab\"/></a>"
      ]
    },
    {
      "cell_type": "code",
      "execution_count": 1,
      "metadata": {
        "id": "wbjraiLgwsoQ"
      },
      "outputs": [],
      "source": [
        "from google.colab import drive\n",
        "import os\n",
        "from scipy.io import loadmat"
      ]
    },
    {
      "cell_type": "code",
      "source": [
        "drive.mount('/content/drive')"
      ],
      "metadata": {
        "colab": {
          "base_uri": "https://localhost:8080/"
        },
        "id": "fQ8deT7Kw0Rv",
        "outputId": "a3534e20-4eaa-4590-bae0-c438c1f0af45"
      },
      "execution_count": 2,
      "outputs": [
        {
          "output_type": "stream",
          "name": "stdout",
          "text": [
            "Mounted at /content/drive\n"
          ]
        }
      ]
    },
    {
      "cell_type": "code",
      "source": [
        "data_path = '/content/drive/My Drive/Data'"
      ],
      "metadata": {
        "id": "Cw1qz26sw0TX"
      },
      "execution_count": 3,
      "outputs": []
    },
    {
      "cell_type": "code",
      "source": [
        "import os\n",
        "import scipy.io\n",
        "import numpy as np\n",
        "from scipy import signal\n",
        "\n",
        "lowcut = 0.5 \n",
        "highcut = 100  \n",
        "fs_original = 500\n",
        "fs_new = 250\n",
        "\n",
        "control_data = []\n",
        "control_path = os.path.join(data_path, 'Control')\n",
        "for foldername in os.listdir(control_path):\n",
        "    subfolder_path = os.path.join(control_path, foldername)\n",
        "    control_data.append(subfolder_path)\n",
        "\n",
        "Control30 = []\n",
        "for control_data_path in control_data:\n",
        "    n_epochs = 35 #len([f for f in os.listdir(control_data_path) if f.endswith('.mat')])\n",
        "    control_arr = []\n",
        "    for i in range(1, n_epochs+1):\n",
        "        epoch_path = f\"{control_data_path}/trial{i}.mat\"\n",
        "        mat_data = scipy.io.loadmat(epoch_path)\n",
        "        mat_data1 = mat_data[\"trialData_i\"]\n",
        "        \n",
        "        b, a = signal.butter(4, [lowcut, highcut], fs=fs_original, btype='band')\n",
        "        filtered_data = signal.filtfilt(b, a, mat_data1, axis=-1)\n",
        "        #filtered_data=mat_data1\n",
        "        \n",
        "        # Downsampling\n",
        "        num_samples_original = filtered_data.shape[-1]\n",
        "        num_samples_new = int(num_samples_original * fs_new / fs_original)\n",
        "        downsampled_data = signal.resample(filtered_data, num_samples_new, axis=-1)\n",
        "        \n",
        "        control_arr.append(np.array(downsampled_data))\n",
        "        \n",
        "    Control30.append(np.array(control_arr))\n",
        "\n",
        "Control30 = np.array(Control30)\n",
        "print( Control30[0].shape)\n"
      ],
      "metadata": {
        "id": "K6BF8N7Pw0Xf",
        "colab": {
          "base_uri": "https://localhost:8080/"
        },
        "outputId": "625f868c-c1a2-4c8f-d84e-d837ff905ea5"
      },
      "execution_count": 4,
      "outputs": [
        {
          "output_type": "stream",
          "name": "stdout",
          "text": [
            "(35, 60, 1000)\n"
          ]
        }
      ]
    },
    {
      "cell_type": "code",
      "source": [
        "# print(len(Control30))"
      ],
      "metadata": {
        "id": "IGNw982t2_8_"
      },
      "execution_count": 5,
      "outputs": []
    },
    {
      "cell_type": "code",
      "source": [
        "# import numpy as np\n",
        "# from sklearn.preprocessing import MinMaxScaler\n",
        "# import json\n",
        "# from google.colab import drive\n",
        "\n",
        "# scaler = MinMaxScaler()\n",
        "# control_data = Control30[31]\n",
        "# control_normalized = []\n",
        "# for epoch in control_data:\n",
        "#     epoch_normalized = []\n",
        "#     for channel_data in epoch:\n",
        "#         channel_data = np.array(channel_data).astype(float)\n",
        "#         if len(channel_data.shape) == 1:\n",
        "#             channel_data = channel_data.reshape(-1, 1)\n",
        "#         normalized_data = scaler.fit_transform(channel_data.reshape(-1, 1)).flatten()\n",
        "#         epoch_normalized.append(normalized_data.tolist())\n",
        "#     control_normalized.append(epoch_normalized)\n",
        "\n",
        "# file_path = '/content/drive/My Drive/Filtered_Data/Control/control_normalized_32.json'\n",
        "# data_json = json.dumps(control_normalized)\n",
        "# with open(file_path, 'w') as file:\n",
        "#     file.write(data_json)\n",
        "# drive.mount('/content/drive')\n"
      ],
      "metadata": {
        "id": "jQyQ7l6tw0ZQ"
      },
      "execution_count": 6,
      "outputs": []
    },
    {
      "cell_type": "code",
      "source": [
        "# import os\n",
        "# import scipy.io\n",
        "# import numpy as np\n",
        "# from scipy import signal\n",
        "\n",
        "# lowcut = 0.5 \n",
        "# highcut = 100  \n",
        "# fs_original = 500\n",
        "# fs_new = 250  \n",
        "\n",
        "# concussed_data = []\n",
        "# concussed_path = os.path.join(data_path, 'Concussed')\n",
        "# for foldername in os.listdir(concussed_path):\n",
        "#     subfolder_path = os.path.join(concussed_path, foldername)\n",
        "#     concussed_data.append(subfolder_path)\n",
        "\n",
        "# Concussed52 = []\n",
        "# for concussed_data_path in concussed_data:\n",
        "#     n_epochs = 35 #len([f for f in os.listdir(control_data_path) if f.endswith('.mat')])\n",
        "#     concussed_arr = []\n",
        "#     for i in range(1, n_epochs+1):\n",
        "#         epoch_path = f\"{concussed_data_path}/trial{i}.mat\"\n",
        "#         mat_data = scipy.io.loadmat(epoch_path)\n",
        "#         mat_data1 = mat_data[\"trialData_i\"]\n",
        "        \n",
        "#         b, a = signal.butter(4, [lowcut, highcut], fs=fs_original, btype='band')\n",
        "#         filtered_data = signal.filtfilt(b, a, mat_data1, axis=-1)\n",
        "#         # filtered_data=mat_data1\n",
        "        \n",
        "#         # Downsampling\n",
        "#         num_samples_original = filtered_data.shape[-1]\n",
        "#         num_samples_new = int(num_samples_original * fs_new / fs_original)\n",
        "#         downsampled_data = signal.resample(filtered_data, num_samples_new, axis=-1)\n",
        "        \n",
        "#         concussed_arr.append(np.array(downsampled_data))\n",
        "        \n",
        "#     Concussed52.append(np.array(concussed_arr))\n",
        "\n",
        "# Concussed52 = np.array(Concussed52)\n",
        "# print( Concussed52[0].shape)\n"
      ],
      "metadata": {
        "id": "OHn1fwV06uTv"
      },
      "execution_count": 7,
      "outputs": []
    },
    {
      "cell_type": "code",
      "source": [
        "# print(len(Concussed52))"
      ],
      "metadata": {
        "id": "W1BgPwGwA827"
      },
      "execution_count": 8,
      "outputs": []
    },
    {
      "cell_type": "code",
      "source": [
        "# import numpy as np\n",
        "# from sklearn.preprocessing import MinMaxScaler\n",
        "# import json\n",
        "# from google.colab import drive\n",
        "\n",
        "# scaler = MinMaxScaler()\n",
        "# concussed_data = Concussed52[51]\n",
        "# concussed_normalized = []\n",
        "# for epoch in concussed_data:\n",
        "#     epoch_normalized = []\n",
        "#     for channel_data in epoch:\n",
        "#         channel_data = np.array(channel_data).astype(float)\n",
        "#         if len(channel_data.shape) == 1:\n",
        "#             channel_data = channel_data.reshape(-1, 1)\n",
        "#         normalized_data = scaler.fit_transform(channel_data.reshape(-1, 1)).flatten()\n",
        "#         epoch_normalized.append(normalized_data.tolist())\n",
        "#     concussed_normalized.append(epoch_normalized)\n",
        "\n",
        "# file_path = '/content/drive/My Drive/Filtered_Data/Concussed/concussed_normalized_52.json'\n",
        "# data_json = json.dumps(concussed_normalized)\n",
        "# with open(file_path, 'w') as file:\n",
        "#     file.write(data_json)\n",
        "# drive.mount('/content/drive')\n"
      ],
      "metadata": {
        "id": "nnC6QzOv6d_Y"
      },
      "execution_count": 9,
      "outputs": []
    },
    {
      "cell_type": "code",
      "source": [
        "# import numpy as np\n",
        "# import json\n",
        "# from sklearn.preprocessing import MinMaxScaler\n",
        "# from google.colab import drive\n",
        "# #all_control_normalized = []\n",
        "# file_path = '/content/drive/My Drive/Filtered_Data/Concussed/concussed_normalized_52.json'\n",
        "# with open(file_path, 'r') as file:\n",
        "#     data_json = file.read()\n",
        "# concussed_normalized = json.loads(data_json)\n",
        "# #all_control_normalized.append(control_normalized)\n",
        "\n",
        "# delta_band = (0.5, 4)\n",
        "# theta_band = (4, 8)\n",
        "# alpha_band = (8, 12)\n",
        "# beta_band = (12, 35)\n",
        "# gamma_band = (35, 100)\n",
        "\n",
        "# all_concussed_power = []\n",
        "# scaler = MinMaxScaler()\n",
        "\n",
        "# #for i in range(len(Control32)):\n",
        "# concussed_data = Concussed52[51]\n",
        "# #control_normalized = all_control_normalized[0]\n",
        "# concussed_power = []\n",
        "\n",
        "# for epoch, normalized_epoch in zip(concussed_data, concussed_normalized):\n",
        "#     epoch_power = []\n",
        "#     for channel_data, normalized_data in zip(epoch, normalized_epoch):\n",
        "#         freq_spectrum = np.fft.fft(channel_data)\n",
        "#         power_spectrum = np.abs(freq_spectrum) ** 2\n",
        "\n",
        "#         alpha_power = np.sum(power_spectrum[(alpha_band[0] <= freq_spectrum) & (freq_spectrum <= alpha_band[1])])\n",
        "#         beta_power = np.sum(power_spectrum[(beta_band[0] <= freq_spectrum) & (freq_spectrum <= beta_band[1])])\n",
        "#         delta_power = np.sum(power_spectrum[(delta_band[0] <= freq_spectrum) & (freq_spectrum <= delta_band[1])])\n",
        "\n",
        "#         concatenated_data = np.concatenate((normalized_data, [alpha_power, beta_power, delta_power]))\n",
        "#         epoch_power.append(concatenated_data.tolist())\n",
        "\n",
        "#     concussed_power.append(epoch_power)\n",
        "\n",
        "# #all_control_power.append(control_power)\n",
        "\n",
        "# file_path = '/content/drive/My Drive/Concatenated_Data/Concussed/concussed_featured_52.json'\n",
        "# data_json = json.dumps(concussed_power)\n",
        "# with open(file_path, 'w') as file:\n",
        "#     file.write(data_json)\n",
        "\n",
        "# drive.mount('/content/drive')\n"
      ],
      "metadata": {
        "id": "i2cS2VJ1w0dt"
      },
      "execution_count": 10,
      "outputs": []
    },
    {
      "cell_type": "code",
      "source": [
        "import numpy as np\n",
        "import json\n",
        "from sklearn.preprocessing import MinMaxScaler\n",
        "from google.colab import drive\n",
        "#all_control_normalized = []\n",
        "file_path = '/content/drive/My Drive/Filtered_Data/Control/control_normalized_32.json'\n",
        "with open(file_path, 'r') as file:\n",
        "    data_json = file.read()\n",
        "control_normalized = json.loads(data_json)\n",
        "#all_control_normalized.append(control_normalized)\n",
        "\n",
        "delta_band = (0.5, 4)\n",
        "theta_band = (4, 8)\n",
        "alpha_band = (8, 12)\n",
        "beta_band = (12, 35)\n",
        "gamma_band = (35, 100)\n",
        "\n",
        "all_control_power = []\n",
        "scaler = MinMaxScaler()\n",
        "\n",
        "#for i in range(len(Control32)):\n",
        "control_data = Control30[31]\n",
        "#control_normalized = all_control_normalized[0]\n",
        "control_power = []\n",
        "\n",
        "for epoch, normalized_epoch in zip(control_data, control_normalized):\n",
        "    epoch_power = []\n",
        "    for channel_data, normalized_data in zip(epoch, normalized_epoch):\n",
        "        freq_spectrum = np.fft.fft(channel_data)\n",
        "        power_spectrum = np.abs(freq_spectrum) ** 2\n",
        "\n",
        "        alpha_power = np.sum(power_spectrum[(alpha_band[0] <= freq_spectrum) & (freq_spectrum <= alpha_band[1])])\n",
        "        beta_power = np.sum(power_spectrum[(beta_band[0] <= freq_spectrum) & (freq_spectrum <= beta_band[1])])\n",
        "        delta_power = np.sum(power_spectrum[(delta_band[0] <= freq_spectrum) & (freq_spectrum <= delta_band[1])])\n",
        "\n",
        "        concatenated_data = np.concatenate((normalized_data, [alpha_power, beta_power, delta_power]))\n",
        "        epoch_power.append(concatenated_data.tolist())\n",
        "\n",
        "    control_power.append(epoch_power)\n",
        "\n",
        "#all_control_power.append(control_power)\n",
        "\n",
        "file_path = '/content/drive/My Drive/Concatenated_Data/Control/control_featured_32.json'\n",
        "data_json = json.dumps(control_power)\n",
        "with open(file_path, 'w') as file:\n",
        "    file.write(data_json)\n",
        "\n",
        "drive.mount('/content/drive')\n"
      ],
      "metadata": {
        "colab": {
          "base_uri": "https://localhost:8080/"
        },
        "id": "3KcGkE0Z2A09",
        "outputId": "d7ca48a0-2c5a-4fa6-9558-a087416e1400"
      },
      "execution_count": 11,
      "outputs": [
        {
          "output_type": "stream",
          "name": "stdout",
          "text": [
            "Drive already mounted at /content/drive; to attempt to forcibly remount, call drive.mount(\"/content/drive\", force_remount=True).\n"
          ]
        }
      ]
    },
    {
      "cell_type": "code",
      "source": [
        "file_path = '/content/drive/My Drive/Concatenated_Data/Concussed/concussed_featured_1.json'\n",
        "with open(file_path, 'r') as file:\n",
        "    data_json = file.read()\n",
        "concussed_normalized = json.loads(data_json)\n",
        "print(len(concussed_normalized[0][0]))"
      ],
      "metadata": {
        "id": "8sxENRZ9w0fd",
        "colab": {
          "base_uri": "https://localhost:8080/"
        },
        "outputId": "6ec907fd-72e9-4ce0-e3dd-bdb7eca703ab"
      },
      "execution_count": 12,
      "outputs": [
        {
          "output_type": "stream",
          "name": "stdout",
          "text": [
            "1003\n"
          ]
        }
      ]
    },
    {
      "cell_type": "code",
      "source": [
        "import json\n",
        "import os\n",
        "import numpy as np\n",
        "\n",
        "data_path = '/content/drive/My Drive/Concatenated_Data/Control'\n",
        "num_persons = 32\n",
        "control_featured_data = []\n",
        "\n",
        "for i in range(1, num_persons + 1):\n",
        "    file_path = os.path.join(data_path, f'control_featured_{i}.json')\n",
        "    \n",
        "    with open(file_path, 'r') as file:\n",
        "        data_json = file.read()\n",
        "        person_features = json.loads(data_json)\n",
        "        \n",
        "        control_featured_data.append(person_features)\n",
        "\n",
        "control_featured_data = np.array(control_featured_data)\n"
      ],
      "metadata": {
        "id": "gCcV7ntDorwr"
      },
      "execution_count": 13,
      "outputs": []
    },
    {
      "cell_type": "code",
      "source": [
        "print(control_featured_data.shape)"
      ],
      "metadata": {
        "colab": {
          "base_uri": "https://localhost:8080/"
        },
        "id": "YHtMB_hRpst0",
        "outputId": "3b319579-1ba4-44ed-9fe2-45766bf4aa08"
      },
      "execution_count": 14,
      "outputs": [
        {
          "output_type": "stream",
          "name": "stdout",
          "text": [
            "(32, 35, 60, 1003)\n"
          ]
        }
      ]
    },
    {
      "cell_type": "code",
      "source": [
        "import json\n",
        "import os\n",
        "import numpy as np\n",
        "\n",
        "data_path = '/content/drive/My Drive/Concatenated_Data/Concussed'\n",
        "num_persons = 52\n",
        "concussed_featured_data = []\n",
        "\n",
        "for i in range(1, num_persons + 1):\n",
        "    file_path = os.path.join(data_path, f'concussed_featured_{i}.json')\n",
        "    \n",
        "    with open(file_path, 'r') as file:\n",
        "        data_json = file.read()\n",
        "        person_features = json.loads(data_json)\n",
        "        \n",
        "        concussed_featured_data.append(person_features)\n",
        "\n",
        "concussed_featured_data = np.array(concussed_featured_data)\n"
      ],
      "metadata": {
        "id": "jolPLKIdps0z"
      },
      "execution_count": 15,
      "outputs": []
    },
    {
      "cell_type": "code",
      "source": [
        "print(concussed_featured_data.shape)"
      ],
      "metadata": {
        "colab": {
          "base_uri": "https://localhost:8080/"
        },
        "id": "rI-DilH5ps7D",
        "outputId": "24a98e92-0592-4c6f-95aa-0616d7a884f1"
      },
      "execution_count": 16,
      "outputs": [
        {
          "output_type": "stream",
          "name": "stdout",
          "text": [
            "(52, 35, 60, 1003)\n"
          ]
        }
      ]
    },
    {
      "cell_type": "code",
      "source": [
        "import numpy as np\n",
        "from sklearn.model_selection import train_test_split\n",
        "dataset = np.concatenate((control_featured_data, concussed_featured_data), axis=0)\n",
        "\n",
        "#(0 for control, 1 for concussed)\n",
        "labels = np.concatenate((np.zeros(len(control_featured_data)), np.ones(len(concussed_featured_data))))"
      ],
      "metadata": {
        "id": "2YXOC3-AptAG"
      },
      "execution_count": 17,
      "outputs": []
    },
    {
      "cell_type": "code",
      "source": [
        "train_ratio = 0.8  # 80% for training\n",
        "val_ratio = 0.1   # 10% for validation\n",
        "test_ratio = 0.1  # 10% for testing"
      ],
      "metadata": {
        "id": "GSATU4qYptUh"
      },
      "execution_count": 18,
      "outputs": []
    },
    {
      "cell_type": "code",
      "source": [
        "X_train, X_test, y_train, y_test = train_test_split(dataset, labels, test_size=test_ratio, stratify=labels, random_state=42)\n",
        "X_train, X_val, y_train, y_val = train_test_split(X_train, y_train, test_size=val_ratio/(train_ratio+val_ratio), stratify=y_train, random_state=42)"
      ],
      "metadata": {
        "id": "oT7jtaTiptb6"
      },
      "execution_count": 19,
      "outputs": []
    },
    {
      "cell_type": "code",
      "source": [
        "import tensorflow as tf\n",
        "from tensorflow.keras import layers\n",
        "\n",
        "# Normalize the input data (if required)\n",
        "# X_train = X_train / 255.0\n",
        "# X_val = X_val / 255.0\n",
        "# X_test = X_test / 255.0\n",
        "\n",
        "# Reshape the input data based on the expected input shape of the model\n",
        "input_shape = X_train.shape[1:]  # Assuming the first dimension is the number of samples\n",
        "X_train = X_train.reshape((-1,) + input_shape)\n",
        "X_val = X_val.reshape((-1,) + input_shape)\n",
        "X_test = X_test.reshape((-1,) + input_shape)\n",
        "\n",
        "# Build the CNN model\n",
        "model = tf.keras.Sequential()\n",
        "model.add(layers.Conv2D(16, kernel_size=(6, 6),strides=2, activation='relu',padding='same', input_shape=input_shape))\n",
        "model.add(layers.MaxPooling2D(pool_size=(2, 2)))\n",
        "model.add(layers.Dropout(0.5))\n",
        "model.add(layers.Conv2D(32, kernel_size=(3, 3), activation='relu', strides=1,padding='same'))\n",
        "model.add(layers.MaxPooling2D(pool_size=(2, 2)))\n",
        "model.add(layers.Dropout(0.5))\n",
        "model.add(layers.Conv2D(64, kernel_size=(3, 3), activation='relu', strides=1,padding='same'))\n",
        "model.add(layers.MaxPooling2D(pool_size=(2, 2)))\n",
        "model.add(layers.Dropout(0.5))\n",
        "model.add(layers.Conv2D(128, kernel_size=(3, 3), activation='relu', strides=1,padding='same'))\n",
        "model.add(layers.MaxPooling2D(pool_size=(2, 2)))\n",
        "model.add(layers.Dropout(0.5))\n",
        "model.add(layers.Flatten())\n",
        "model.add(layers.Dense(256, activation='relu'))\n",
        "model.add(layers.Dropout(0.5))\n",
        "model.add(layers.Dense(2, activation='softmax'))  \n",
        "from keras.callbacks import EarlyStopping\n",
        "\n",
        "\n",
        "callback_list = EarlyStopping(monitor = 'val_loss',\n",
        "                              patience = 20,\n",
        "                              restore_best_weights=True)\n",
        "\n",
        "\n",
        "learning_rate = 0.005  # Specify your desired learning rate\n",
        "optimizer = tf.keras.optimizers.Adam(learning_rate=learning_rate)\n",
        "model.compile(optimizer=optimizer, loss='sparse_categorical_crossentropy', metrics=['accuracy'])\n",
        "\n",
        "# Train the model\n",
        "history = model.fit(X_train, y_train, validation_data=(X_val, y_val), epochs=20, batch_size=64)\n",
        "\n",
        "# Evaluate the model on the test set\n",
        "test_loss, test_accuracy = model.evaluate(X_test, y_test)\n",
        "val_accuracy=model.evaluate(X_val,y_val)\n",
        "\n",
        "# Print the test accuracy\n",
        "print(\"Test Accuracy:\", test_accuracy)\n",
        "#print(\"Validation Accuracy\", val_accuracy)"
      ],
      "metadata": {
        "colab": {
          "base_uri": "https://localhost:8080/"
        },
        "id": "sEvZi_KOptdk",
        "outputId": "4b59fd38-055d-4a18-f5fc-ad39e97db84c"
      },
      "execution_count": 26,
      "outputs": [
        {
          "output_type": "stream",
          "name": "stdout",
          "text": [
            "Epoch 1/20\n",
            "2/2 [==============================] - 10s 698ms/step - loss: 1073691.7500 - accuracy: 0.4242 - val_loss: 45677.6797 - val_accuracy: 0.6667\n",
            "Epoch 2/20\n",
            "2/2 [==============================] - 7s 907ms/step - loss: 1964675.5000 - accuracy: 0.6061 - val_loss: 9950.6826 - val_accuracy: 0.6667\n",
            "Epoch 3/20\n",
            "2/2 [==============================] - 7s 491ms/step - loss: 430910.7812 - accuracy: 0.6061 - val_loss: 1962.9440 - val_accuracy: 0.6667\n",
            "Epoch 4/20\n",
            "2/2 [==============================] - 8s 1s/step - loss: 169931.3594 - accuracy: 0.6364 - val_loss: 951.3114 - val_accuracy: 0.3333\n",
            "Epoch 5/20\n",
            "2/2 [==============================] - 7s 524ms/step - loss: 38194.7891 - accuracy: 0.5000 - val_loss: 4310.7554 - val_accuracy: 0.3333\n",
            "Epoch 6/20\n",
            "2/2 [==============================] - 8s 1s/step - loss: 36566.0625 - accuracy: 0.4394 - val_loss: 4208.1748 - val_accuracy: 0.3333\n",
            "Epoch 7/20\n",
            "2/2 [==============================] - 7s 545ms/step - loss: 29114.5039 - accuracy: 0.3636 - val_loss: 3629.2974 - val_accuracy: 0.3333\n",
            "Epoch 8/20\n",
            "2/2 [==============================] - 8s 994ms/step - loss: 35599.9727 - accuracy: 0.3788 - val_loss: 2506.0046 - val_accuracy: 0.3333\n",
            "Epoch 9/20\n",
            "2/2 [==============================] - 7s 517ms/step - loss: 24782.2070 - accuracy: 0.4545 - val_loss: 1608.3433 - val_accuracy: 0.3333\n",
            "Epoch 10/20\n",
            "2/2 [==============================] - 8s 954ms/step - loss: 57925.1758 - accuracy: 0.4242 - val_loss: 758.5786 - val_accuracy: 0.3333\n",
            "Epoch 11/20\n",
            "2/2 [==============================] - 7s 470ms/step - loss: 25094.0312 - accuracy: 0.4848 - val_loss: 489.6790 - val_accuracy: 0.5556\n",
            "Epoch 12/20\n",
            "2/2 [==============================] - 8s 1000ms/step - loss: 17582.7500 - accuracy: 0.4848 - val_loss: 222.5360 - val_accuracy: 0.5556\n",
            "Epoch 13/20\n",
            "2/2 [==============================] - 7s 479ms/step - loss: 4905.5312 - accuracy: 0.6212 - val_loss: 127.7643 - val_accuracy: 0.4444\n",
            "Epoch 14/20\n",
            "2/2 [==============================] - 8s 872ms/step - loss: 10892.3604 - accuracy: 0.5303 - val_loss: 232.5253 - val_accuracy: 0.4444\n",
            "Epoch 15/20\n",
            "2/2 [==============================] - 7s 510ms/step - loss: 22455.9395 - accuracy: 0.6515 - val_loss: 251.8737 - val_accuracy: 0.5556\n",
            "Epoch 16/20\n",
            "2/2 [==============================] - 8s 967ms/step - loss: 15632.0596 - accuracy: 0.6061 - val_loss: 246.9161 - val_accuracy: 0.5556\n",
            "Epoch 17/20\n",
            "2/2 [==============================] - 7s 527ms/step - loss: 5537.7803 - accuracy: 0.6818 - val_loss: 216.6796 - val_accuracy: 0.4444\n",
            "Epoch 18/20\n",
            "2/2 [==============================] - 8s 974ms/step - loss: 5660.3652 - accuracy: 0.5000 - val_loss: 276.0633 - val_accuracy: 0.5556\n",
            "Epoch 19/20\n",
            "2/2 [==============================] - 7s 514ms/step - loss: 12890.6914 - accuracy: 0.5000 - val_loss: 360.2308 - val_accuracy: 0.3333\n",
            "Epoch 20/20\n",
            "2/2 [==============================] - 8s 970ms/step - loss: 10061.4395 - accuracy: 0.5455 - val_loss: 486.2667 - val_accuracy: 0.2222\n",
            "1/1 [==============================] - 0s 295ms/step - loss: 263.2964 - accuracy: 0.7778\n",
            "1/1 [==============================] - 0s 296ms/step - loss: 486.2667 - accuracy: 0.2222\n",
            "Test Accuracy: 0.7777777910232544\n"
          ]
        }
      ]
    },
    {
      "cell_type": "code",
      "source": [
        "import tensorflow as tf\n",
        "from tensorflow.keras import layers\n",
        "from sklearn.model_selection import train_test_split\n",
        "\n",
        "# Split the dataset into training, validation, and test sets\n",
        "X_train, X_test, y_train, y_test = train_test_split(dataset, labels, test_size=test_ratio, stratify=labels, random_state=42)\n",
        "X_train, X_val, y_train, y_val = train_test_split(X_train, y_train, test_size=val_ratio/(train_ratio+val_ratio), stratify=y_train, random_state=42)\n",
        "\n",
        "# Normalize the input data (if required)\n",
        "# X_train = X_train / 255.0\n",
        "# X_val = X_val / 255.0\n",
        "# X_test = X_test / 255.0\n",
        "\n",
        "# Reshape the input data based on the expected input shape of the model\n",
        "input_shape = X_train.shape[1:]  # Assuming the first dimension is the number of samples\n",
        "X_train = X_train.reshape((-1,) + input_shape)\n",
        "X_val = X_val.reshape((-1,) + input_shape)\n",
        "X_test = X_test.reshape((-1,) + input_shape)\n",
        "\n",
        "# Build the CNN model\n",
        "model = tf.keras.Sequential()\n",
        "model.add(layers.Conv2D(32, kernel_size=(3, 3), activation='relu', input_shape=input_shape))\n",
        "model.add(layers.MaxPooling2D(pool_size=(2, 2)))\n",
        "model.add(layers.Conv2D(64, kernel_size=(3, 3), activation='relu'))\n",
        "model.add(layers.MaxPooling2D(pool_size=(2, 2)))\n",
        "model.add(layers.Flatten())\n",
        "model.add(layers.Dense(128, activation='relu'))\n",
        "model.add(layers.Dense(1, activation='sigmoid'))\n",
        "\n",
        "# Compile the model with the desired loss function and optimizer\n",
        "learning_rate = 0.05  # Specify your desired learning rate\n",
        "optimizer = tf.keras.optimizers.Adam(learning_rate=learning_rate)\n",
        "model.compile(optimizer=optimizer, loss='binary_crossentropy', metrics=['accuracy'])\n",
        "\n",
        "# Train the model\n",
        "history = model.fit(X_train, y_train, validation_data=(X_val, y_val), epochs=30, batch_size=64)\n",
        "\n",
        "# Evaluate the model on the test set\n",
        "test_loss, test_accuracy = model.evaluate(X_test, y_test)\n",
        "\n",
        "# Print the test accuracy\n",
        "print(\"Test Accuracy:\", test_accuracy)\n"
      ],
      "metadata": {
        "colab": {
          "base_uri": "https://localhost:8080/"
        },
        "id": "Rw_6v1yZor7n",
        "outputId": "f1a55c20-e6bb-43ad-8ff5-27cb9a52260a"
      },
      "execution_count": 25,
      "outputs": [
        {
          "output_type": "stream",
          "name": "stdout",
          "text": [
            "Epoch 1/30\n",
            "2/2 [==============================] - 10s 1s/step - loss: 17376650.0000 - accuracy: 0.3636 - val_loss: 1828285.1250 - val_accuracy: 0.6667\n",
            "Epoch 2/30\n",
            "2/2 [==============================] - 10s 882ms/step - loss: 19109244.0000 - accuracy: 0.6061 - val_loss: 0.7040 - val_accuracy: 0.3333\n",
            "Epoch 3/30\n",
            "2/2 [==============================] - 8s 1s/step - loss: 106677.4531 - accuracy: 0.3939 - val_loss: 0.7167 - val_accuracy: 0.3333\n",
            "Epoch 4/30\n",
            "2/2 [==============================] - 8s 603ms/step - loss: 85.6815 - accuracy: 0.4394 - val_loss: 0.7295 - val_accuracy: 0.3333\n",
            "Epoch 5/30\n",
            "2/2 [==============================] - 10s 571ms/step - loss: 2047.8324 - accuracy: 0.3939 - val_loss: 0.7373 - val_accuracy: 0.3333\n",
            "Epoch 6/30\n",
            "2/2 [==============================] - 8s 906ms/step - loss: 0.7236 - accuracy: 0.3939 - val_loss: 0.7370 - val_accuracy: 0.3333\n",
            "Epoch 7/30\n",
            "2/2 [==============================] - 9s 573ms/step - loss: 0.7234 - accuracy: 0.3939 - val_loss: 0.7302 - val_accuracy: 0.3333\n",
            "Epoch 8/30\n",
            "2/2 [==============================] - 9s 1s/step - loss: 0.7184 - accuracy: 0.3939 - val_loss: 0.7215 - val_accuracy: 0.3333\n",
            "Epoch 9/30\n",
            "2/2 [==============================] - 8s 589ms/step - loss: 0.7126 - accuracy: 0.3939 - val_loss: 0.7172 - val_accuracy: 0.3333\n",
            "Epoch 10/30\n",
            "2/2 [==============================] - 9s 612ms/step - loss: 0.7093 - accuracy: 0.3939 - val_loss: 0.7191 - val_accuracy: 0.3333\n",
            "Epoch 11/30\n",
            "2/2 [==============================] - 8s 869ms/step - loss: 0.7106 - accuracy: 0.3939 - val_loss: 0.7217 - val_accuracy: 0.3333\n",
            "Epoch 12/30\n",
            "2/2 [==============================] - 10s 584ms/step - loss: 0.7124 - accuracy: 0.3939 - val_loss: 0.7209 - val_accuracy: 0.3333\n",
            "Epoch 13/30\n",
            "2/2 [==============================] - 14s 995ms/step - loss: 0.7118 - accuracy: 0.3939 - val_loss: 0.7175 - val_accuracy: 0.3333\n",
            "Epoch 14/30\n",
            "2/2 [==============================] - 15s 878ms/step - loss: 0.7094 - accuracy: 0.3939 - val_loss: 0.7120 - val_accuracy: 0.3333\n",
            "Epoch 15/30\n",
            "2/2 [==============================] - 8s 1s/step - loss: 0.7056 - accuracy: 0.3939 - val_loss: 0.7052 - val_accuracy: 0.3333\n",
            "Epoch 16/30\n",
            "2/2 [==============================] - 9s 679ms/step - loss: 0.7010 - accuracy: 0.3939 - val_loss: 0.6978 - val_accuracy: 0.3333\n",
            "Epoch 17/30\n",
            "2/2 [==============================] - 10s 889ms/step - loss: 0.6961 - accuracy: 0.3939 - val_loss: 0.6902 - val_accuracy: 0.6667\n",
            "Epoch 18/30\n",
            "2/2 [==============================] - 7s 536ms/step - loss: 0.6913 - accuracy: 0.6061 - val_loss: 0.6830 - val_accuracy: 0.6667\n",
            "Epoch 19/30\n",
            "2/2 [==============================] - 10s 872ms/step - loss: 0.6869 - accuracy: 0.6061 - val_loss: 0.6772 - val_accuracy: 0.6667\n",
            "Epoch 20/30\n",
            "2/2 [==============================] - 9s 1s/step - loss: 0.6835 - accuracy: 0.6061 - val_loss: 0.6739 - val_accuracy: 0.6667\n",
            "Epoch 21/30\n",
            "2/2 [==============================] - 8s 711ms/step - loss: 0.6817 - accuracy: 0.6061 - val_loss: 0.6711 - val_accuracy: 0.6667\n",
            "Epoch 22/30\n",
            "2/2 [==============================] - 10s 725ms/step - loss: 0.6800 - accuracy: 0.6061 - val_loss: 0.6671 - val_accuracy: 0.6667\n",
            "Epoch 23/30\n",
            "2/2 [==============================] - 8s 883ms/step - loss: 0.6781 - accuracy: 0.6061 - val_loss: 0.6627 - val_accuracy: 0.6667\n",
            "Epoch 24/30\n",
            "2/2 [==============================] - 10s 854ms/step - loss: 0.6760 - accuracy: 0.6061 - val_loss: 0.6593 - val_accuracy: 0.6667\n",
            "Epoch 25/30\n",
            "2/2 [==============================] - 9s 567ms/step - loss: 0.6747 - accuracy: 0.6061 - val_loss: 0.6580 - val_accuracy: 0.6667\n",
            "Epoch 26/30\n",
            "2/2 [==============================] - 7s 614ms/step - loss: 0.6739 - accuracy: 0.6061 - val_loss: 0.6584 - val_accuracy: 0.6667\n",
            "Epoch 27/30\n",
            "2/2 [==============================] - 10s 897ms/step - loss: 0.6741 - accuracy: 0.6061 - val_loss: 0.6575 - val_accuracy: 0.6667\n",
            "Epoch 28/30\n",
            "2/2 [==============================] - 8s 1s/step - loss: 0.6737 - accuracy: 0.6061 - val_loss: 0.6559 - val_accuracy: 0.6667\n",
            "Epoch 29/30\n",
            "2/2 [==============================] - 9s 869ms/step - loss: 0.6730 - accuracy: 0.6061 - val_loss: 0.6537 - val_accuracy: 0.6667\n",
            "Epoch 30/30\n",
            "2/2 [==============================] - 9s 604ms/step - loss: 0.6721 - accuracy: 0.6061 - val_loss: 0.6503 - val_accuracy: 0.6667\n",
            "1/1 [==============================] - 0s 405ms/step - loss: 0.6503 - accuracy: 0.6667\n",
            "Test Accuracy: 0.6666666865348816\n"
          ]
        }
      ]
    },
    {
      "cell_type": "code",
      "source": [
        "import tensorflow as tf\n",
        "from tensorflow.keras import layers\n",
        "from sklearn.model_selection import train_test_split\n",
        "\n",
        "# Split the dataset into training, validation, and test sets\n",
        "X_train, X_test, y_train, y_test = train_test_split(dataset, labels, test_size=test_ratio, stratify=labels, random_state=42)\n",
        "X_train, X_val, y_train, y_val = train_test_split(X_train, y_train, test_size=val_ratio/(train_ratio+val_ratio), stratify=y_train, random_state=42)\n",
        "\n",
        "# Normalize the input data (if required)\n",
        "# X_train = X_train / 255.0\n",
        "# X_val = X_val / 255.0\n",
        "# X_test = X_test / 255.0\n",
        "\n",
        "# Reshape the input data based on the expected input shape of the model\n",
        "input_shape = X_train.shape[1:]  # Assuming the first dimension is the number of samples\n",
        "X_train = X_train.reshape((-1,) + input_shape)\n",
        "X_val = X_val.reshape((-1,) + input_shape)\n",
        "X_test = X_test.reshape((-1,) + input_shape)\n",
        "\n",
        "# Build the CNN model\n",
        "model = tf.keras.Sequential()\n",
        "model.add(layers.Conv2D(32, kernel_size=(3, 3), activation='relu', input_shape=input_shape))\n",
        "model.add(layers.MaxPooling2D(pool_size=(2, 2)))\n",
        "model.add(layers.Conv2D(64, kernel_size=(3, 3), activation='relu'))\n",
        "model.add(layers.MaxPooling2D(pool_size=(2, 2)))\n",
        "model.add(layers.Flatten())\n",
        "model.add(layers.Dense(128, activation='relu'))\n",
        "model.add(layers.Dense(1, activation='linear'))\n",
        "\n",
        "# Compile the model with the desired loss function and optimizer\n",
        "learning_rate = 0.05  # Specify your desired learning rate\n",
        "optimizer = tf.keras.optimizers.Adam(learning_rate=learning_rate)\n",
        "model.compile(optimizer=optimizer, loss='mean_squared_error', metrics=['accuracy'])\n",
        "\n",
        "# Train the model\n",
        "history = model.fit(X_train, y_train, validation_data=(X_val, y_val), epochs=20, batch_size=64)\n",
        "\n",
        "# Evaluate the model on the test set\n",
        "test_loss, test_accuracy = model.evaluate(X_test, y_test)\n",
        "\n",
        "# Print the test accuracy\n",
        "print(\"Test Accuracy:\", test_accuracy)\n"
      ],
      "metadata": {
        "colab": {
          "base_uri": "https://localhost:8080/"
        },
        "id": "G2cT5L12slHx",
        "outputId": "992ddf8c-df43-4e90-b970-6210abbfb788"
      },
      "execution_count": 22,
      "outputs": [
        {
          "output_type": "stream",
          "name": "stdout",
          "text": [
            "Epoch 1/20\n",
            "2/2 [==============================] - 10s 2s/step - loss: 965074990661632.0000 - accuracy: 0.6061 - val_loss: 50017561336610816.0000 - val_accuracy: 0.3333\n",
            "Epoch 2/20\n",
            "2/2 [==============================] - 10s 600ms/step - loss: 1923458153840640000.0000 - accuracy: 0.3788 - val_loss: 639557828608.0000 - val_accuracy: 0.6667\n",
            "Epoch 3/20\n",
            "2/2 [==============================] - 9s 1s/step - loss: 306967922868224.0000 - accuracy: 0.6364 - val_loss: 7739776.0000 - val_accuracy: 0.4444\n",
            "Epoch 4/20\n",
            "2/2 [==============================] - 8s 580ms/step - loss: 447895601152.0000 - accuracy: 0.3939 - val_loss: 0.5778 - val_accuracy: 0.3333\n",
            "Epoch 5/20\n",
            "2/2 [==============================] - 10s 619ms/step - loss: 0.5241 - accuracy: 0.3939 - val_loss: 0.4630 - val_accuracy: 0.3333\n",
            "Epoch 6/20\n",
            "2/2 [==============================] - 8s 644ms/step - loss: 0.4224 - accuracy: 0.3939 - val_loss: 0.4127 - val_accuracy: 0.3333\n",
            "Epoch 7/20\n",
            "2/2 [==============================] - 10s 583ms/step - loss: 0.3795 - accuracy: 0.3939 - val_loss: 0.3604 - val_accuracy: 0.3333\n",
            "Epoch 8/20\n",
            "2/2 [==============================] - 9s 1s/step - loss: 0.3351 - accuracy: 0.3939 - val_loss: 0.3026 - val_accuracy: 0.3333\n",
            "Epoch 9/20\n",
            "2/2 [==============================] - 8s 602ms/step - loss: 0.2863 - accuracy: 0.3939 - val_loss: 0.2417 - val_accuracy: 0.6667\n",
            "Epoch 10/20\n",
            "2/2 [==============================] - 9s 630ms/step - loss: 0.2454 - accuracy: 0.6061 - val_loss: 0.2233 - val_accuracy: 0.6667\n",
            "Epoch 11/20\n",
            "2/2 [==============================] - 8s 1s/step - loss: 0.2508 - accuracy: 0.6061 - val_loss: 0.2340 - val_accuracy: 0.6667\n",
            "Epoch 12/20\n",
            "2/2 [==============================] - 9s 583ms/step - loss: 0.2675 - accuracy: 0.6061 - val_loss: 0.2342 - val_accuracy: 0.6667\n",
            "Epoch 13/20\n",
            "2/2 [==============================] - 10s 907ms/step - loss: 0.2675 - accuracy: 0.6061 - val_loss: 0.2270 - val_accuracy: 0.6667\n",
            "Epoch 14/20\n",
            "2/2 [==============================] - 8s 911ms/step - loss: 0.2550 - accuracy: 0.6061 - val_loss: 0.2238 - val_accuracy: 0.6667\n",
            "Epoch 15/20\n",
            "2/2 [==============================] - 10s 905ms/step - loss: 0.2370 - accuracy: 0.6061 - val_loss: 0.2633 - val_accuracy: 0.3333\n",
            "Epoch 16/20\n",
            "2/2 [==============================] - 9s 1s/step - loss: 0.2618 - accuracy: 0.3939 - val_loss: 0.3095 - val_accuracy: 0.3333\n",
            "Epoch 17/20\n",
            "2/2 [==============================] - 10s 2s/step - loss: 0.2935 - accuracy: 0.3939 - val_loss: 0.2719 - val_accuracy: 0.3333\n",
            "Epoch 18/20\n",
            "2/2 [==============================] - 22s 1s/step - loss: 0.2629 - accuracy: 0.4242 - val_loss: 0.2248 - val_accuracy: 0.6667\n",
            "Epoch 19/20\n",
            "2/2 [==============================] - 8s 601ms/step - loss: 0.2369 - accuracy: 0.6061 - val_loss: 0.2455 - val_accuracy: 0.6667\n",
            "Epoch 20/20\n",
            "2/2 [==============================] - 9s 594ms/step - loss: 0.2886 - accuracy: 0.6061 - val_loss: 0.2754 - val_accuracy: 0.6667\n",
            "1/1 [==============================] - 1s 614ms/step - loss: 0.2754 - accuracy: 0.6667\n",
            "Test Accuracy: 0.6666666865348816\n"
          ]
        }
      ]
    }
  ]
}