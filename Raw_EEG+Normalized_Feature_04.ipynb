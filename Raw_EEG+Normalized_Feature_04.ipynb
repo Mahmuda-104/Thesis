{
  "cells": [
    {
      "cell_type": "markdown",
      "metadata": {
        "id": "view-in-github",
        "colab_type": "text"
      },
      "source": [
        "<a href=\"https://colab.research.google.com/github/Mahmuda-104/Thesis/blob/main/Raw_EEG%2BNormalized_Feature_04.ipynb\" target=\"_parent\"><img src=\"https://colab.research.google.com/assets/colab-badge.svg\" alt=\"Open In Colab\"/></a>"
      ]
    },
    {
      "cell_type": "code",
      "execution_count": 1,
      "metadata": {
        "id": "QdDQH_njzDCJ"
      },
      "outputs": [],
      "source": [
        "from google.colab import drive\n",
        "import os\n",
        "from scipy.io import loadmat"
      ]
    },
    {
      "cell_type": "code",
      "execution_count": 2,
      "metadata": {
        "colab": {
          "base_uri": "https://localhost:8080/"
        },
        "id": "L1La8re4zWFe",
        "outputId": "45e00684-25ba-4006-9ce3-7e628d05b188"
      },
      "outputs": [
        {
          "output_type": "stream",
          "name": "stdout",
          "text": [
            "Mounted at /content/drive\n"
          ]
        }
      ],
      "source": [
        "drive.mount('/content/drive')"
      ]
    },
    {
      "cell_type": "code",
      "execution_count": 3,
      "metadata": {
        "id": "ROq8198wzWHF"
      },
      "outputs": [],
      "source": [
        "data_path = '/content/drive/My Drive/Data'"
      ]
    },
    {
      "cell_type": "code",
      "execution_count": 4,
      "metadata": {
        "id": "NzRWUuE-zWKp"
      },
      "outputs": [],
      "source": [
        "# import os\n",
        "# import scipy.io\n",
        "# import numpy as np\n",
        "# from scipy import signal\n",
        "# fs_original = 500\n",
        "# fs_new = 250\n",
        "\n",
        "# control_data = []\n",
        "# control_path = os.path.join(data_path, 'Control')\n",
        "# for foldername in os.listdir(control_path):\n",
        "#     subfolder_path = os.path.join(control_path, foldername)\n",
        "#     control_data.append(subfolder_path)\n",
        "\n",
        "# Control30 = []\n",
        "# for control_data_path in control_data:\n",
        "#     n_epochs = 40 #len([f for f in os.listdir(control_data_path) if f.endswith('.mat')])\n",
        "#     control_arr = []\n",
        "#     for i in range(1, n_epochs+1):\n",
        "#         epoch_path = f\"{control_data_path}/trial{i}.mat\"\n",
        "#         mat_data = scipy.io.loadmat(epoch_path)\n",
        "#         mat_data1 = mat_data[\"trialData_i\"]\n",
        "        \n",
        "#         # Downsampling\n",
        "#         num_samples_original = mat_data1.shape[-1]\n",
        "#         num_samples_new = int(num_samples_original * fs_new / fs_original)\n",
        "#         downsampled_data = signal.resample(mat_data1, num_samples_new, axis=-1)\n",
        "        \n",
        "#         control_arr.append(np.array(downsampled_data))\n",
        "        \n",
        "#     Control30.append(np.array(control_arr))\n",
        "\n",
        "# Control30 = np.array(Control30)\n",
        "# print( Control30[0].shape)\n"
      ]
    },
    {
      "cell_type": "code",
      "source": [
        "import os\n",
        "import scipy.io\n",
        "import numpy as np\n",
        "from scipy import signal\n",
        "\n",
        "lowcut = 0.4 \n",
        "highcut = 100  \n",
        "fs_original = 500\n",
        "fs_new = 250\n",
        "\n",
        "control_data = []\n",
        "control_path = os.path.join(data_path, 'Control')\n",
        "for foldername in os.listdir(control_path):\n",
        "    subfolder_path = os.path.join(control_path, foldername)\n",
        "    control_data.append(subfolder_path)\n",
        "\n",
        "Control30 = []\n",
        "for control_data_path in control_data:\n",
        "    n_epochs = 40 #len([f for f in os.listdir(control_data_path) if f.endswith('.mat')])\n",
        "    control_arr = []\n",
        "    for i in range(1, n_epochs+1):\n",
        "        epoch_path = f\"{control_data_path}/trial{i}.mat\"\n",
        "        mat_data = scipy.io.loadmat(epoch_path)\n",
        "        mat_data1 = mat_data[\"trialData_i\"]\n",
        "        \n",
        "        average_potential = np.mean(mat_data1, axis=0, keepdims=True)\n",
        "        referenced_data = mat_data1 - average_potential\n",
        "        \n",
        "        # Bandpass \n",
        "        b, a = signal.butter(4, [lowcut, highcut], fs=fs_original, btype='band')\n",
        "        filtered_data = signal.filtfilt(b, a, referenced_data, axis=-1)\n",
        "        \n",
        "        # notch \n",
        "        f0 = 60 \n",
        "        Q = 30   \n",
        "        w0 = f0 / (fs_original / 2)\n",
        "        b, a = signal.iirnotch(w0, Q)\n",
        "        filtered_data = signal.filtfilt(b, a, filtered_data, axis=-1)\n",
        "\n",
        "        # Downsampling\n",
        "        num_samples_original = filtered_data.shape[-1]\n",
        "        num_samples_new = int(num_samples_original * fs_new / fs_original)\n",
        "        downsampled_data = signal.resample(filtered_data, num_samples_new, axis=-1)\n",
        "        \n",
        "        control_arr.append(np.array(downsampled_data))\n",
        "        \n",
        "    Control30.append(np.array(control_arr))\n",
        "\n",
        "Control30 = np.array(Control30)\n",
        "print(Control30[0].shape)\n"
      ],
      "metadata": {
        "colab": {
          "base_uri": "https://localhost:8080/"
        },
        "id": "Uzzcsk8BELwN",
        "outputId": "8d7a4731-f324-435c-f0c3-38b6a2c9b862"
      },
      "execution_count": 5,
      "outputs": [
        {
          "output_type": "stream",
          "name": "stdout",
          "text": [
            "(40, 60, 1000)\n"
          ]
        }
      ]
    },
    {
      "cell_type": "code",
      "execution_count": 6,
      "metadata": {
        "colab": {
          "base_uri": "https://localhost:8080/"
        },
        "id": "C-KOjAmZzWMZ",
        "outputId": "da7a4a6d-4452-4477-b81f-eef6edd677a1"
      },
      "outputs": [
        {
          "output_type": "stream",
          "name": "stdout",
          "text": [
            "(32, 40, 60, 1004)\n",
            "32\n"
          ]
        }
      ],
      "source": [
        "import numpy as np\n",
        "import json\n",
        "from sklearn.preprocessing import MinMaxScaler\n",
        "from google.colab import drive\n",
        "from scipy.stats import entropy\n",
        "\n",
        "delta_band = (0.5, 4)\n",
        "alpha_band = (8, 12)\n",
        "beta_band = (12, 35)\n",
        "\n",
        "all_control_power = []\n",
        "scaler = MinMaxScaler()\n",
        "epsilon = 1e-10\n",
        "\n",
        "# Normalizing the features\n",
        "for i in range(len(Control30)):\n",
        "    control_data = Control30[i]\n",
        "    control_power = []\n",
        "    for epoch in control_data:\n",
        "        epoch_power = []\n",
        "        for channel_data in epoch:\n",
        "            freq_spectrum = np.fft.fft(channel_data)\n",
        "            power_spectrum = np.abs(freq_spectrum) ** 2\n",
        "\n",
        "            alpha_power = np.sum(power_spectrum[(alpha_band[0] <= freq_spectrum) & (freq_spectrum <= alpha_band[1])])\n",
        "            beta_power = np.sum(power_spectrum[(beta_band[0] <= freq_spectrum) & (freq_spectrum <= beta_band[1])])\n",
        "            delta_power = np.sum(power_spectrum[(delta_band[0] <= freq_spectrum) & (freq_spectrum <= delta_band[1])])\n",
        "\n",
        "            channel_min_value = np.min(channel_data)\n",
        "            channel_max_value = np.max(channel_data)\n",
        "\n",
        "            # alpha_power_normalized = (alpha_power - channel_min_value) / (4*((channel_max_value-channel_min_value) * (channel_max_value-channel_min_value )))\n",
        "            # beta_power_normalized = (beta_power - channel_min_value) /  (4*((channel_max_value-channel_min_value) * (channel_max_value-channel_min_value) ))\n",
        "            # delta_power_normalized = (delta_power - channel_min_value) /  (4*((channel_max_value-channel_min_value) * (channel_max_value-channel_min_value)))\n",
        "\n",
        "            power_spectrum_adjusted = power_spectrum + epsilon\n",
        "            entropy_values = entropy(power_spectrum_adjusted)\n",
        "            values=np.array([alpha_power,beta_power,delta_power,entropy_values])\n",
        "            rescaled_values = (values - values.min()) * (channel_max_value - channel_min_value) / (values.max() - values.min()) + channel_min_value\n",
        "            concatenated_data = np.concatenate((channel_data, rescaled_values))\n",
        "\n",
        "            #concatenated_data = np.concatenate((channel_data, [alpha_power_normalized, beta_power_normalized, delta_power_normalized, entropy_values]))\n",
        "            #print(alpha_power_normalized, beta_power_normalized, delta_power_normalized, entropy_values)\n",
        "            epoch_power.append(concatenated_data.tolist())\n",
        "\n",
        "        control_power.append(np.array(epoch_power))\n",
        "\n",
        "    all_control_power.append(np.array(control_power))\n",
        "\n",
        "all_control_power = np.array(all_control_power)\n",
        "print(all_control_power.shape)\n",
        "print(len(Control30))\n"
      ]
    },
    {
      "cell_type": "code",
      "source": [
        "import os\n",
        "import scipy.io\n",
        "import numpy as np\n",
        "from scipy import signal\n",
        "\n",
        "lowcut = 0.4\n",
        "highcut = 100  \n",
        "fs_original = 500\n",
        "fs_new = 250  \n",
        "\n",
        "concussed_data = []\n",
        "concussed_path = os.path.join(data_path, 'Concussed')\n",
        "for foldername in os.listdir(concussed_path):\n",
        "    subfolder_path = os.path.join(concussed_path, foldername)\n",
        "    concussed_data.append(subfolder_path)\n",
        "\n",
        "Concussed52 = []\n",
        "for concussed_data_path in concussed_data:\n",
        "    n_epochs = 40 #len([f for f in os.listdir(control_data_path) if f.endswith('.mat')])\n",
        "    concussed_arr = []\n",
        "    for i in range(1, n_epochs+1):\n",
        "        epoch_path = f\"{concussed_data_path}/trial{i}.mat\"\n",
        "        mat_data = scipy.io.loadmat(epoch_path)\n",
        "        mat_data1 = mat_data[\"trialData_i\"]\n",
        "        \n",
        "        # Average referencing\n",
        "        average_potential = np.mean(mat_data1, axis=0, keepdims=True)\n",
        "        referenced_data = mat_data1 - average_potential\n",
        "        \n",
        "        # Bandpass\n",
        "        b, a = signal.butter(4, [lowcut, highcut], fs=fs_original, btype='band')\n",
        "        filtered_data = signal.filtfilt(b, a, referenced_data, axis=-1)\n",
        "        \n",
        "        # notch\n",
        "        f0 = 60  \n",
        "        Q = 30  \n",
        "        w0 = f0 / (fs_original / 2)\n",
        "        b, a = signal.iirnotch(w0, Q)\n",
        "        filtered_data = signal.filtfilt(b, a, filtered_data, axis=-1)\n",
        "\n",
        "        # Downsampling\n",
        "        num_samples_original = filtered_data.shape[-1]\n",
        "        num_samples_new = int(num_samples_original * fs_new / fs_original)\n",
        "        downsampled_data = signal.resample(filtered_data, num_samples_new, axis=-1)\n",
        "        \n",
        "        concussed_arr.append(np.array(downsampled_data))\n",
        "        \n",
        "    Concussed52.append(np.array(concussed_arr))\n",
        "\n",
        "Concussed52 = np.array(Concussed52)\n",
        "print(Concussed52[0].shape)"
      ],
      "metadata": {
        "colab": {
          "base_uri": "https://localhost:8080/"
        },
        "id": "N5qhcP9gD706",
        "outputId": "673908cd-0b12-4033-9865-257cf7f8ce22"
      },
      "execution_count": 7,
      "outputs": [
        {
          "output_type": "stream",
          "name": "stdout",
          "text": [
            "(40, 60, 1000)\n"
          ]
        }
      ]
    },
    {
      "cell_type": "code",
      "execution_count": 8,
      "metadata": {
        "id": "x4379MjPzWQI"
      },
      "outputs": [],
      "source": [
        "# import os\n",
        "# import scipy.io\n",
        "# import numpy as np\n",
        "# from scipy import signal\n",
        " \n",
        "# fs_original = 500\n",
        "# fs_new = 250  \n",
        "\n",
        "# concussed_data = []\n",
        "# concussed_path = os.path.join(data_path, 'Concussed')\n",
        "# for foldername in os.listdir(concussed_path):\n",
        "#     subfolder_path = os.path.join(concussed_path, foldername)\n",
        "#     concussed_data.append(subfolder_path)\n",
        "\n",
        "# Concussed52 = []\n",
        "# for concussed_data_path in concussed_data:\n",
        "#     n_epochs = 40 #len([f for f in os.listdir(control_data_path) if f.endswith('.mat')])\n",
        "#     concussed_arr = []\n",
        "#     for i in range(1, n_epochs+1):\n",
        "#         epoch_path = f\"{concussed_data_path}/trial{i}.mat\"\n",
        "#         mat_data = scipy.io.loadmat(epoch_path)\n",
        "#         mat_data1 = mat_data[\"trialData_i\"]\n",
        "        \n",
        "#         # Downsampling\n",
        "#         num_samples_original = mat_data1.shape[-1]\n",
        "#         num_samples_new = int(num_samples_original * fs_new / fs_original)\n",
        "#         downsampled_data = signal.resample(mat_data1, num_samples_new, axis=-1)\n",
        "        \n",
        "#         concussed_arr.append(np.array(downsampled_data))\n",
        "        \n",
        "#     Concussed52.append(np.array(concussed_arr))\n",
        "\n",
        "# Concussed52 = np.array(Concussed52)\n",
        "# print( Concussed52[0].shape)\n"
      ]
    },
    {
      "cell_type": "code",
      "execution_count": 9,
      "metadata": {
        "colab": {
          "base_uri": "https://localhost:8080/"
        },
        "id": "yNlN51CPzWR6",
        "outputId": "cd1838c7-5d3b-493a-8763-840b1ed7e115"
      },
      "outputs": [
        {
          "output_type": "stream",
          "name": "stdout",
          "text": [
            "(52, 40, 60, 1004)\n",
            "52\n"
          ]
        }
      ],
      "source": [
        "import numpy as np\n",
        "import json\n",
        "from sklearn.preprocessing import MinMaxScaler\n",
        "from google.colab import drive\n",
        "from scipy.stats import entropy\n",
        "\n",
        "delta_band = (0.5, 4)\n",
        "alpha_band = (8, 12)\n",
        "beta_band = (12, 35)\n",
        "\n",
        "all_concussed_power = []\n",
        "scaler = MinMaxScaler()\n",
        "epsilon = 1e-10\n",
        "\n",
        "# Normalizing the features within the range of the minimum and maximum values of the corresponding channel\n",
        "for i in range(len(Concussed52)):\n",
        "    concussed_data = Concussed52[i]\n",
        "    concussed_power = []\n",
        "    for epoch in concussed_data:\n",
        "        epoch_power = []\n",
        "        for channel_data in epoch:\n",
        "            freq_spectrum = np.fft.fft(channel_data)\n",
        "            power_spectrum = np.abs(freq_spectrum) ** 2\n",
        "\n",
        "            alpha_power = np.sum(power_spectrum[(alpha_band[0] <= freq_spectrum) & (freq_spectrum <= alpha_band[1])])\n",
        "            beta_power = np.sum(power_spectrum[(beta_band[0] <= freq_spectrum) & (freq_spectrum <= beta_band[1])])\n",
        "            delta_power = np.sum(power_spectrum[(delta_band[0] <= freq_spectrum) & (freq_spectrum <= delta_band[1])])\n",
        "\n",
        "            channel_min_value = np.min(channel_data)\n",
        "            channel_max_value = np.max(channel_data)\n",
        "\n",
        "            # alpha_power_normalized = (alpha_power - channel_min_value) / (4*((channel_max_value-channel_min_value) * (channel_max_value-channel_min_value )))\n",
        "            # beta_power_normalized = (beta_power - channel_min_value) /  (4*((channel_max_value-channel_min_value) * (channel_max_value-channel_min_value) ))\n",
        "            # delta_power_normalized = (delta_power - channel_min_value) /  (4*((channel_max_value-channel_min_value) * (channel_max_value-channel_min_value)))\n",
        "\n",
        "            power_spectrum_adjusted = power_spectrum + epsilon\n",
        "            entropy_values = entropy(power_spectrum_adjusted)\n",
        "            values=np.array([alpha_power,beta_power,delta_power,entropy_values])\n",
        "            rescaled_values = (values - values.min()) * (channel_max_value - channel_min_value) / (values.max() - values.min()) + channel_min_value\n",
        "            concatenated_data = np.concatenate((channel_data, rescaled_values))\n",
        "\n",
        "            #concatenated_data = np.concatenate((channel_data, [alpha_power_normalized, beta_power_normalized, delta_power_normalized, entropy_values]))\n",
        "            #print(alpha_power_normalized, beta_power_normalized, delta_power_normalized, entropy_values)\n",
        "            epoch_power.append(concatenated_data.tolist())\n",
        "\n",
        "        concussed_power.append(np.array(epoch_power))\n",
        "\n",
        "    all_concussed_power.append(np.array(concussed_power))\n",
        "\n",
        "all_concussed_power = np.array(all_concussed_power)\n",
        "print(all_concussed_power.shape)\n",
        "print(len(Concussed52))\n"
      ]
    },
    {
      "cell_type": "code",
      "execution_count": 10,
      "metadata": {
        "id": "MnGshZr9zWVr",
        "colab": {
          "base_uri": "https://localhost:8080/"
        },
        "outputId": "bc4ddf22-5487-4d57-cbb6-e0d2b0a06813"
      },
      "outputs": [
        {
          "output_type": "stream",
          "name": "stdout",
          "text": [
            "(52, 40, 60, 1004)\n"
          ]
        }
      ],
      "source": [
        "#concussed_power=np.array(concussed_power)\n",
        "print(all_concussed_power.shape)"
      ]
    },
    {
      "cell_type": "code",
      "source": [
        "import numpy as np\n",
        "import tensorflow as tf\n",
        "from tensorflow.keras import layers\n",
        "from tensorflow.keras.callbacks import EarlyStopping\n",
        "import matplotlib.pyplot as plt\n",
        "\n",
        "dataset = np.concatenate((Control30, Concussed52), axis=0)\n",
        "labels = np.concatenate((np.zeros(len(Control30)), np.ones(len(Concussed52))))\n",
        "\n",
        "iteration = 5\n",
        "\n",
        "train_ratio = 0.8\n",
        "test_ratio = 0.2\n",
        "\n",
        "total_datasets = len(dataset)\n",
        "step_size = int((total_datasets - train_ratio * total_datasets) / (iteration - 1))\n",
        "test_accuracies = []\n",
        "validation_accuracies = []\n",
        "training_losses = []\n",
        "validation_losses = []\n",
        "\n",
        "for i in range(iteration):\n",
        "    start_idx = i * step_size\n",
        "    end_idx = int(start_idx + train_ratio * total_datasets)\n",
        "    X_train = dataset[start_idx:end_idx]\n",
        "    y_train = labels[start_idx:end_idx]\n",
        "    X_test = dataset[end_idx:]\n",
        "    y_test = labels[end_idx:]\n",
        "    input_shape = X_train.shape[1:]\n",
        "    X_train = X_train.reshape((-1,) + input_shape)\n",
        "    X_test = X_test.reshape((-1,) + input_shape)\n",
        "    \n",
        "    model = tf.keras.Sequential()\n",
        "    model.add(layers.Conv2D(16, kernel_size=(6, 6), strides=2, activation='relu', padding='same', input_shape=input_shape))\n",
        "    model.add(layers.MaxPooling2D(pool_size=(2, 2)))\n",
        "    model.add(layers.Dropout(0.5))\n",
        "    model.add(layers.Conv2D(32, kernel_size=(3, 3), activation='relu', strides=1, padding='same'))\n",
        "    model.add(layers.MaxPooling2D(pool_size=(2, 2)))\n",
        "    model.add(layers.Dropout(0.5))\n",
        "    model.add(layers.Conv2D(64, kernel_size=(3, 3), activation='relu', strides=1, padding='same'))\n",
        "    model.add(layers.MaxPooling2D(pool_size=(2, 2)))\n",
        "    model.add(layers.Dropout(0.5))\n",
        "    model.add(layers.Flatten())\n",
        "    model.add(layers.Dense(256, activation='relu'))\n",
        "    model.add(layers.Dropout(0.5))\n",
        "    model.add(layers.Dense(2, activation='softmax'))\n",
        "\n",
        "    learning_rate = 0.0001\n",
        "    optimizer = tf.keras.optimizers.Adam(learning_rate=learning_rate)\n",
        "    model.compile(optimizer=optimizer, loss='sparse_categorical_crossentropy', metrics=['accuracy'])\n",
        "    \n",
        "    early_stopping = EarlyStopping(monitor='val_loss', patience=10, restore_best_weights=True)\n",
        "\n",
        "    history = model.fit(X_train, y_train, epochs=100, batch_size=32, verbose=0, validation_data=(X_test, y_test), callbacks=[early_stopping])\n",
        "    test_loss, test_accuracy = model.evaluate(X_test, y_test)\n",
        "    val_loss, val_accuracy = model.evaluate(X_test, y_test)\n",
        "    test_accuracies.append(test_accuracy)\n",
        "    validation_accuracies.append(val_accuracy)\n",
        "    training_losses.append(history.history['loss'])\n",
        "    validation_losses.append(history.history['val_loss'])\n",
        "\n",
        "mean_accuracy = np.mean(test_accuracies)\n",
        "mean_val_accuracy = np.mean(validation_accuracies)\n",
        "# print(\"Mean Test Accuracy:\", mean_accuracy)\n",
        "# print(\"Mean Validation Accuracy:\", mean_val_accuracy)\n",
        "\n"
      ],
      "metadata": {
        "colab": {
          "base_uri": "https://localhost:8080/"
        },
        "id": "j_AkzI7djpxD",
        "outputId": "7160045f-f82e-46b8-fffa-947a06d61e2c"
      },
      "execution_count": 11,
      "outputs": [
        {
          "output_type": "stream",
          "name": "stdout",
          "text": [
            "1/1 [==============================] - 1s 649ms/step - loss: 0.2015 - accuracy: 0.9412\n",
            "1/1 [==============================] - 1s 614ms/step - loss: 0.2015 - accuracy: 0.9412\n",
            "1/1 [==============================] - 0s 462ms/step - loss: 0.1178 - accuracy: 0.9231\n",
            "1/1 [==============================] - 0s 492ms/step - loss: 0.1178 - accuracy: 0.9231\n",
            "1/1 [==============================] - 0s 321ms/step - loss: 0.8069 - accuracy: 0.6667\n",
            "1/1 [==============================] - 0s 323ms/step - loss: 0.8069 - accuracy: 0.6667\n",
            "1/1 [==============================] - 0s 194ms/step - loss: 0.5057 - accuracy: 0.6000\n",
            "1/1 [==============================] - 0s 196ms/step - loss: 0.5057 - accuracy: 0.6000\n",
            "1/1 [==============================] - 0s 93ms/step - loss: 0.0000e+00 - accuracy: 1.0000\n",
            "1/1 [==============================] - 0s 98ms/step - loss: 0.0000e+00 - accuracy: 1.0000\n"
          ]
        }
      ]
    },
    {
      "cell_type": "code",
      "source": [
        "print(\"Mean Test Accuracy:\", mean_accuracy)\n",
        "print(\"Mean Validation Accuracy:\", mean_val_accuracy)\n"
      ],
      "metadata": {
        "colab": {
          "base_uri": "https://localhost:8080/"
        },
        "id": "EBk56FE5Zoij",
        "outputId": "182ab6eb-0628-4010-9d15-569da39be0b3"
      },
      "execution_count": 15,
      "outputs": [
        {
          "output_type": "stream",
          "name": "stdout",
          "text": [
            "Mean Test Accuracy: 0.8261840224266053\n",
            "Mean Validation Accuracy: 0.8261840224266053\n"
          ]
        }
      ]
    },
    {
      "cell_type": "code",
      "source": [
        "# plt.figure(figsize=(12, 6))\n",
        "# for i in range(iteration):\n",
        "#     plt.plot(history.history['loss'], label=f'Training Loss (Iteration {i+1})')\n",
        "#     plt.plot(history.history['val_loss'], label=f'Validation Loss (Iteration {i+1})')\n",
        "# plt.xlabel('Epochs')\n",
        "# plt.ylabel('Loss')\n",
        "# plt.legend()\n",
        "# plt.show()"
      ],
      "metadata": {
        "colab": {
          "base_uri": "https://localhost:8080/",
          "height": 542
        },
        "id": "i-larKQlj3PL",
        "outputId": "4dd8b525-8f76-458f-cde8-f42dfa141c46"
      },
      "execution_count": 12,
      "outputs": [
        {
          "output_type": "display_data",
          "data": {
            "text/plain": [
              "<Figure size 1200x600 with 1 Axes>"
            ],
            "image/png": "[encoded data removed]"
          },
          "metadata": {}
        }
      ]
    },
    {
      "cell_type": "code",
      "source": [],
      "metadata": {
        "id": "gj0f8V8vj3aE"
      },
      "execution_count": 12,
      "outputs": []
    },
    {
      "cell_type": "code",
      "source": [
        "# import numpy as np\n",
        "# import tensorflow as tf\n",
        "# from tensorflow.keras import layers\n",
        "\n",
        "# dataset = np.concatenate((Control30, Concussed52), axis=0)\n",
        "# labels = np.concatenate((np.zeros(len(Control30)), np.ones(len(Concussed52))))\n",
        "\n",
        "# iteration = 5\n",
        "\n",
        "# train_ratio = 0.8\n",
        "# test_ratio = 0.2\n",
        "\n",
        "# total_datasets = len(dataset)\n",
        "# step_size = int((total_datasets - train_ratio * total_datasets) / (iteration - 1))\n",
        "# test_accuracies = []\n",
        "# for i in range(iteration):\n",
        "#     start_idx = i * step_size\n",
        "#     end_idx = int(start_idx + train_ratio * total_datasets)\n",
        "#     X_train = dataset[start_idx:end_idx]\n",
        "#     y_train = labels[start_idx:end_idx]\n",
        "#     X_test = dataset[end_idx:]\n",
        "#     y_test = labels[end_idx:]\n",
        "#     input_shape = X_train.shape[1:]\n",
        "#     X_train = X_train.reshape((-1,) + input_shape)\n",
        "#     X_test = X_test.reshape((-1,) + input_shape)\n",
        "#     print(\"Training data shape:\", X_train.shape)\n",
        "#     print(\"Training labels shape:\", y_train.shape)\n",
        "#     print(\"Testing data shape:\", X_test.shape)\n",
        "#     print(\"Testing labels shape:\", y_test.shape)\n",
        "#     model = tf.keras.Sequential()\n",
        "#     model.add(layers.Conv2D(16, kernel_size=(6, 6), strides=2, activation='relu', padding='same', input_shape=input_shape))\n",
        "#     model.add(layers.MaxPooling2D(pool_size=(2, 2)))\n",
        "#     model.add(layers.Dropout(0.5))\n",
        "#     model.add(layers.Conv2D(32, kernel_size=(3, 3), activation='relu', strides=1, padding='same'))\n",
        "#     model.add(layers.MaxPooling2D(pool_size=(2, 2)))\n",
        "#     model.add(layers.Dropout(0.5))\n",
        "#     model.add(layers.Conv2D(64, kernel_size=(3, 3), activation='relu', strides=1, padding='same'))\n",
        "#     model.add(layers.MaxPooling2D(pool_size=(2, 2)))\n",
        "#     model.add(layers.Dropout(0.5))\n",
        "#     model.add(layers.Flatten())\n",
        "#     model.add(layers.Dense(256, activation='relu'))\n",
        "#     model.add(layers.Dropout(0.5))\n",
        "#     model.add(layers.Dense(2, activation='softmax'))\n",
        "\n",
        "#     learning_rate = 0.005\n",
        "#     optimizer = tf.keras.optimizers.Adam(learning_rate=learning_rate)\n",
        "#     model.compile(optimizer=optimizer, loss='sparse_categorical_crossentropy', metrics=['accuracy'])\n",
        "#     model.fit(X_train, y_train, epochs=100, batch_size=32, verbose=0)\n",
        "#     test_loss, test_accuracy = model.evaluate(X_test, y_test)\n",
        "#     print(\"Iteration:\", i+1)\n",
        "#     print(\"Test Accuracy:\", test_accuracy)\n",
        "#     test_accuracies.append(test_accuracy)\n",
        "\n",
        "# mean_accuracy = np.mean(test_accuracies)\n",
        "# std_accuracy = np.std(test_accuracies)\n",
        "# print(\"Mean_Accuracy\",mean_accuracy)\n",
        "# print(\"Std_Accuracy\",std_accuracy)\n"
      ],
      "metadata": {
        "id": "AvX1pd9jUUvy"
      },
      "execution_count": 13,
      "outputs": []
    },
    {
      "cell_type": "code",
      "execution_count": 14,
      "metadata": {
        "id": "HkNvxqw-PqfS"
      },
      "outputs": [],
      "source": [
        "# import tensorflow as tf\n",
        "# from tensorflow.keras import layers\n",
        "# from tensorflow.keras.callbacks import EarlyStopping\n",
        "# import matplotlib.pyplot as plt\n",
        "\n",
        "# # Normalize the input data\n",
        "# # X_train = X_train / 255.0\n",
        "# # X_val = X_val / 255.0\n",
        "# # X_test = X_test / 255.0\n",
        "# input_shape = X_train.shape[1:]\n",
        "# # Build the CNN model\n",
        "# model = tf.keras.Sequential()\n",
        "# model.add(layers.Conv2D(16, kernel_size=(6, 6), strides=1, activation='relu', padding='same', input_shape=input_shape))\n",
        "# model.add(layers.MaxPooling2D(pool_size=(2, 2)))\n",
        "# model.add(layers.Dropout(0.5))\n",
        "# model.add(layers.Conv2D(32, kernel_size=(3, 3), activation='relu', strides=1, padding='same'))\n",
        "# model.add(layers.MaxPooling2D(pool_size=(2, 2)))\n",
        "# model.add(layers.Dropout(0.5))\n",
        "# model.add(layers.Conv2D(64, kernel_size=(3, 3), activation='relu', strides=1, padding='same'))\n",
        "# model.add(layers.MaxPooling2D(pool_size=(2, 2)))\n",
        "# model.add(layers.Dropout(0.5))\n",
        "# model.add(layers.Flatten())\n",
        "# model.add(layers.Dense(256, activation='relu'))\n",
        "# model.add(layers.Dropout(0.5))\n",
        "# model.add(layers.Dense(2, activation='softmax'))\n",
        "\n",
        "# learning_rate = 0.001\n",
        "# optimizer = tf.keras.optimizers.Adam(learning_rate=learning_rate)\n",
        "# model.compile(optimizer=optimizer, loss='sparse_categorical_crossentropy', metrics=['accuracy'])\n",
        "\n",
        "# # Define the early stopping callback\n",
        "# early_stopping = EarlyStopping(monitor='val_loss', patience=10, restore_best_weights=True)\n",
        "\n",
        "# # Train the model with early stopping\n",
        "# history = model.fit(X_train, y_train, validation_data=(X_val, y_val), epochs=100, batch_size=32, callbacks=[early_stopping])\n",
        "\n",
        "# # Evaluate the model on the test set\n",
        "# test_loss, test_accuracy = model.evaluate(X_test, y_test)\n",
        "# val_loss, val_accuracy = model.evaluate(X_val, y_val)\n",
        "\n",
        "# # Print the test accuracy\n",
        "# print(\"Test Accuracy:\", test_accuracy)\n",
        "\n",
        "# # Generate training and testing accuracy\n",
        "# training_accuracy = history.history['accuracy']\n",
        "# testing_accuracy = history.history['val_accuracy']\n",
        "\n",
        "# # Generate learning curve\n",
        "# training_loss = history.history['loss']\n",
        "# validation_loss = history.history['val_loss']\n",
        "\n",
        "# # Plot training and testing accuracy\n",
        "# plt.plot(training_accuracy, label='Training Accuracy')\n",
        "# plt.plot(testing_accuracy, label='Testing Accuracy')\n",
        "# plt.xlabel('Epochs')\n",
        "# plt.ylabel('Accuracy')\n",
        "# plt.legend()\n",
        "# plt.show()\n",
        "\n",
        "# # Plot learning curve\n",
        "# plt.plot(training_loss, label='Training Loss')\n",
        "# plt.plot(validation_loss, label='Validation Loss')\n",
        "# plt.xlabel('Epochs')\n",
        "# plt.ylabel('Loss')\n",
        "# plt.legend()\n",
        "# plt.show()\n"
      ]
    }
  ],
  "metadata": {
    "accelerator": "GPU",
    "colab": {
      "provenance": [],
      "authorship_tag": "ABX9TyPEtluoE70m9ziEHIaSKa8b",
      "include_colab_link": true
    },
    "kernelspec": {
      "display_name": "Python 3",
      "name": "python3"
    },
    "language_info": {
      "name": "python"
    }
  },
  "nbformat": 4,
  "nbformat_minor": 0
}