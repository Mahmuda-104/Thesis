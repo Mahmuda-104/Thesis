{
  "nbformat": 4,
  "nbformat_minor": 0,
  "metadata": {
    "colab": {
      "provenance": [],
      "authorship_tag": "ABX9TyNfxvcXRDR0qxQHI0/xIg81",
      "include_colab_link": true
    },
    "kernelspec": {
      "name": "python3",
      "display_name": "Python 3"
    },
    "language_info": {
      "name": "python"
    }
  },
  "cells": [
    {
      "cell_type": "markdown",
      "metadata": {
        "id": "view-in-github",
        "colab_type": "text"
      },
      "source": [
        "<a href=\"https://colab.research.google.com/github/Mahmuda-104/Thesis/blob/main/CNN_New.ipynb\" target=\"_parent\"><img src=\"https://colab.research.google.com/assets/colab-badge.svg\" alt=\"Open In Colab\"/></a>"
      ]
    },
    {
      "cell_type": "code",
      "execution_count": 1,
      "metadata": {
        "id": "Ys5wsnPiDABT"
      },
      "outputs": [],
      "source": [
        "from google.colab import drive\n",
        "import os\n",
        "from scipy.io import loadmat"
      ]
    },
    {
      "cell_type": "code",
      "source": [
        "drive.mount('/content/drive')"
      ],
      "metadata": {
        "colab": {
          "base_uri": "https://localhost:8080/"
        },
        "id": "LBfziNCXDEUH",
        "outputId": "c8ed48bb-213a-4fa5-c6bc-6ba1c9a6ad40"
      },
      "execution_count": 2,
      "outputs": [
        {
          "output_type": "stream",
          "name": "stdout",
          "text": [
            "Mounted at /content/drive\n"
          ]
        }
      ]
    },
    {
      "cell_type": "code",
      "source": [
        "data_path = '/content/drive/My Drive/Data'"
      ],
      "metadata": {
        "id": "vHuWQYqvDEV0"
      },
      "execution_count": 3,
      "outputs": []
    },
    {
      "cell_type": "code",
      "source": [
        "import os\n",
        "import scipy.io\n",
        "import numpy as np\n",
        "from scipy import signal\n",
        "\n",
        "lowcut = 0.5 \n",
        "highcut = 100  \n",
        "fs_original = 500\n",
        "fs_new = 250\n",
        "\n",
        "control_data = []\n",
        "control_path = os.path.join(data_path, 'Control')\n",
        "for foldername in os.listdir(control_path):\n",
        "    subfolder_path = os.path.join(control_path, foldername)\n",
        "    control_data.append(subfolder_path)\n",
        "\n",
        "Control30 = []\n",
        "for control_data_path in control_data:\n",
        "    n_epochs = 35 #len([f for f in os.listdir(control_data_path) if f.endswith('.mat')])\n",
        "    control_arr = []\n",
        "    for i in range(1, n_epochs+1):\n",
        "        epoch_path = f\"{control_data_path}/trial{i}.mat\"\n",
        "        mat_data = scipy.io.loadmat(epoch_path)\n",
        "        mat_data1 = mat_data[\"trialData_i\"]\n",
        "        \n",
        "        b, a = signal.butter(4, [lowcut, highcut], fs=fs_original, btype='band')\n",
        "        filtered_data = signal.filtfilt(b, a, mat_data1, axis=-1)\n",
        "        #filtered_data=mat_data1\n",
        "        \n",
        "        # Downsampling\n",
        "        num_samples_original = filtered_data.shape[-1]\n",
        "        num_samples_new = int(num_samples_original * fs_new / fs_original)\n",
        "        downsampled_data = signal.resample(filtered_data, num_samples_new, axis=-1)\n",
        "        \n",
        "        control_arr.append(np.array(downsampled_data))\n",
        "        \n",
        "    Control30.append(np.array(control_arr))\n",
        "\n",
        "Control30 = np.array(Control30)\n",
        "print( Control30[0].shape)\n"
      ],
      "metadata": {
        "colab": {
          "base_uri": "https://localhost:8080/"
        },
        "id": "8N7M_q0rDEZG",
        "outputId": "4c55e3ce-3af2-428b-bb58-66678a864e20"
      },
      "execution_count": 4,
      "outputs": [
        {
          "output_type": "stream",
          "name": "stdout",
          "text": [
            "(35, 60, 1000)\n"
          ]
        }
      ]
    },
    {
      "cell_type": "code",
      "source": [
        "print(\"Filtered and downsampled data shape:\", Control30.shape)"
      ],
      "metadata": {
        "colab": {
          "base_uri": "https://localhost:8080/"
        },
        "id": "cbRaVo4WDEbb",
        "outputId": "14ba79f6-4be4-40fa-e26d-1d24fc0bd14c"
      },
      "execution_count": 5,
      "outputs": [
        {
          "output_type": "stream",
          "name": "stdout",
          "text": [
            "Filtered and downsampled data shape: (30, 35, 60, 1000)\n"
          ]
        }
      ]
    },
    {
      "cell_type": "code",
      "source": [
        "import os\n",
        "import scipy.io\n",
        "import numpy as np\n",
        "from scipy import signal\n",
        "\n",
        "lowcut = 0.5 \n",
        "highcut = 100  \n",
        "fs_original = 500\n",
        "fs_new = 250  \n",
        "\n",
        "concussed_data = []\n",
        "concussed_path = os.path.join(data_path, 'Concussed')\n",
        "for foldername in os.listdir(concussed_path):\n",
        "    subfolder_path = os.path.join(concussed_path, foldername)\n",
        "    concussed_data.append(subfolder_path)\n",
        "\n",
        "Concussed49 = []\n",
        "for concussed_data_path in concussed_data:\n",
        "    n_epochs = 35 #len([f for f in os.listdir(control_data_path) if f.endswith('.mat')])\n",
        "    concussed_arr = []\n",
        "    for i in range(1, n_epochs+1):\n",
        "        epoch_path = f\"{concussed_data_path}/trial{i}.mat\"\n",
        "        mat_data = scipy.io.loadmat(epoch_path)\n",
        "        mat_data1 = mat_data[\"trialData_i\"]\n",
        "        \n",
        "        b, a = signal.butter(4, [lowcut, highcut], fs=fs_original, btype='band')\n",
        "        filtered_data = signal.filtfilt(b, a, mat_data1, axis=-1)\n",
        "        # filtered_data=mat_data1\n",
        "        \n",
        "        
        "        num_samples_original = filtered_data.shape[-1]\n",
        "        num_samples_new = int(num_samples_original * fs_new / fs_original)\n",
        "        downsampled_data = signal.resample(filtered_data, num_samples_new, axis=-1)\n",
        "        \n",
        "        concussed_arr.append(np.array(downsampled_data))\n",
        "        \n",
        "    Concussed49.append(np.array(concussed_arr))\n",
        "\n",
        "Concussed49 = np.array(Concussed49)\n",
        "print( Concussed49[0].shape)\n"
      ],
      "metadata": {
        "colab": {
          "base_uri": "https://localhost:8080/"
        },
        "id": "6rspEww5DEel",
        "outputId": "4133e53b-b781-4a22-c6e1-55bad5793dd8"
      },
      "execution_count": 6,
      "outputs": [
        {
          "output_type": "stream",
          "name": "stdout",
          "text": [
            "(35, 60, 1000)\n"
          ]
        }
      ]
    },
    {
      "cell_type": "code",
      "source": [
        "print(\"Filtered and downsampled data shape:\", Concussed49.shape)"
      ],
      "metadata": {
        "colab": {
          "base_uri": "https://localhost:8080/"
        },
        "id": "rmbCNweVDEgP",
        "outputId": "93f60cea-0f4e-43ce-b2d9-907ef5319dc0"
      },
      "execution_count": 7,
      "outputs": [
        {
          "output_type": "stream",
          "name": "stdout",
          "text": [
            "Filtered and downsampled data shape: (49, 35, 60, 1000)\n"
          ]
        }
      ]
    },
    {
      "cell_type": "code",
      "source": [
        "import numpy as np\n",
        "from sklearn.model_selection import train_test_split\n",
        "dataset = np.concatenate((Control30, Concussed49), axis=0)\n",
        "\n",
        "#(0 for control, 1 for concussed)\n",
        "labels = np.concatenate((np.zeros(len(Control30)), np.ones(len(Concussed49))))"
      ],
      "metadata": {
        "id": "4mUaKEemDdUs"
      },
      "execution_count": 8,
      "outputs": []
    },
    {
      "cell_type": "code",
      "source": [
        "train_ratio = 0.8  # 80% for training\n",
        "val_ratio = 0.1   # 10% for validation\n",
        "test_ratio = 0.1  # 10% for testing"
      ],
      "metadata": {
        "id": "kXVdx5hkDdWw"
      },
      "execution_count": 9,
      "outputs": []
    },
    {
      "cell_type": "code",
      "source": [
        "X_train, X_test, y_train, y_test = train_test_split(dataset, labels, test_size=test_ratio, stratify=labels, random_state=42)\n",
        "X_train, X_val, y_train, y_val = train_test_split(X_train, y_train, test_size=val_ratio/(train_ratio+val_ratio), stratify=y_train, random_state=42)"
      ],
      "metadata": {
        "id": "gGhNAeHuDdZ4"
      },
      "execution_count": 10,
      "outputs": []
    },
    {
      "cell_type": "code",
      "source": [
        "import tensorflow as tf\n",
        "from tensorflow.keras import layers\n",
        "\n",
        "# Normalize the input data (if required)\n",
        "# X_train = X_train / 255.0\n",
        "# X_val = X_val / 255.0\n",
        "# X_test = X_test / 255.0\n",
        "\n",
        "# Reshape the input data based on the expected input shape of the model\n",
        "input_shape = X_train.shape[1:]  # Assuming the first dimension is the number of samples\n",
        "X_train = X_train.reshape((-1,) + input_shape)\n",
        "X_val = X_val.reshape((-1,) + input_shape)\n",
        "X_test = X_test.reshape((-1,) + input_shape)\n",
        "\n",
        "# Build the CNN model\n",
        "model = tf.keras.Sequential()\n",
        "model.add(layers.Conv2D(16, kernel_size=(6, 6),strides=2, activation='relu',padding='same', input_shape=input_shape))\n",
        "model.add(layers.MaxPooling2D(pool_size=(2, 2)))\n",
        "model.add(layers.Dropout(0.5))\n",
        "model.add(layers.Conv2D(32, kernel_size=(3, 3), activation='relu', strides=1,padding='same'))\n",
        "model.add(layers.MaxPooling2D(pool_size=(2, 2)))\n",
        "model.add(layers.Dropout(0.5))\n",
        "model.add(layers.Conv2D(64, kernel_size=(3, 3), activation='relu', strides=1,padding='same'))\n",
        "model.add(layers.MaxPooling2D(pool_size=(2, 2)))\n",
        "model.add(layers.Dropout(0.5))\n",
        "model.add(layers.Flatten())\n",
        "model.add(layers.Dense(256, activation='relu'))\n",
        "model.add(layers.Dropout(0.5))\n",
        "model.add(layers.Dense(2, activation='softmax'))  \n",
        "from keras.callbacks import EarlyStopping\n",
        "\n",
        "\n",
        "callback_list = EarlyStopping(monitor = 'val_loss',\n",
        "                              patience = 20,\n",
        "                              restore_best_weights=True)\n",
        "\n",
        "\n",
        "learning_rate = 0.01  # Specify your desired learning rate\n",
        "optimizer = tf.keras.optimizers.Adam(learning_rate=learning_rate)\n",
        "model.compile(optimizer=optimizer, loss='sparse_categorical_crossentropy', metrics=['accuracy'])\n",
        "\n",
        "# Train the model\n",
        "history = model.fit(X_train, y_train, validation_data=(X_val, y_val), epochs=10, batch_size=16)\n",
        "\n",
        "# Evaluate the model on the test set\n",
        "test_loss, test_accuracy = model.evaluate(X_test, y_test)\n",
        "\n",
        "# Print the test accuracy\n",
        "print(\"Test Accuracy:\", test_accuracy)\n"
      ],
      "metadata": {
        "colab": {
          "base_uri": "https://localhost:8080/"
        },
        "id": "dvwN3RCgDdbq",
        "outputId": "b84610ec-f91f-449c-bc5d-bff437656ebb"
      },
      "execution_count": 11,
      "outputs": [
        {
          "output_type": "stream",
          "name": "stdout",
          "text": [
            "Epoch 1/10\n",
            "4/4 [==============================] - 9s 2s/step - loss: 782.8035 - accuracy: 0.5238 - val_loss: 129.0312 - val_accuracy: 0.6250\n",
            "Epoch 2/10\n",
            "4/4 [==============================] - 6s 1s/step - loss: 1013.3044 - accuracy: 0.6349 - val_loss: 73.6825 - val_accuracy: 0.3750\n",
            "Epoch 3/10\n",
            "4/4 [==============================] - 7s 2s/step - loss: 451.8471 - accuracy: 0.4286 - val_loss: 37.0778 - val_accuracy: 0.6250\n",
            "Epoch 4/10\n",
            "4/4 [==============================] - 5s 1s/step - loss: 991.8259 - accuracy: 0.5238 - val_loss: 8.4003 - val_accuracy: 0.5000\n",
            "Epoch 5/10\n",
            "4/4 [==============================] - 6s 2s/step - loss: 148.8257 - accuracy: 0.5397 - val_loss: 23.4379 - val_accuracy: 0.3750\n",
            "Epoch 6/10\n",
            "4/4 [==============================] - 6s 1s/step - loss: 234.8827 - accuracy: 0.4286 - val_loss: 25.5735 - val_accuracy: 0.3750\n",
            "Epoch 7/10\n",
            "4/4 [==============================] - 5s 1s/step - loss: 226.0634 - accuracy: 0.5714 - val_loss: 24.4051 - val_accuracy: 0.6250\n",
            "Epoch 8/10\n",
            "4/4 [==============================] - 8s 2s/step - loss: 1045.3353 - accuracy: 0.5238 - val_loss: 22.2935 - val_accuracy: 0.6250\n",
            "Epoch 9/10\n",
            "4/4 [==============================] - 6s 1s/step - loss: 696.0734 - accuracy: 0.4762 - val_loss: 45.0854 - val_accuracy: 0.3750\n",
            "Epoch 10/10\n",
            "4/4 [==============================] - 8s 2s/step - loss: 418.8267 - accuracy: 0.3968 - val_loss: 19.5021 - val_accuracy: 0.7500\n",
            "1/1 [==============================] - 0s 251ms/step - loss: 13.8455 - accuracy: 0.7500\n",
            "Test Accuracy: 0.75\n"
          ]
        }
      ]
    },
    {
      "cell_type": "code",
      "source": [
        "import tensorflow as tf\n",
        "from tensorflow.keras import layers\n",
        "from sklearn.model_selection import train_test_split\n",
        "\n",
        "# Split the dataset into training, validation, and test sets\n",
        "X_train, X_test, y_train, y_test = train_test_split(dataset, labels, test_size=test_ratio, stratify=labels, random_state=42)\n",
        "X_train, X_val, y_train, y_val = train_test_split(X_train, y_train, test_size=val_ratio/(train_ratio+val_ratio), stratify=y_train, random_state=42)\n",
        "\n",
        "# Normalize the input data (if required)\n",
        "# X_train = X_train / 255.0\n",
        "# X_val = X_val / 255.0\n",
        "# X_test = X_test / 255.0\n",
        "\n",
        "# Reshape the input data based on the expected input shape of the model\n",
        "input_shape = X_train.shape[1:]  # Assuming the first dimension is the number of samples\n",
        "X_train = X_train.reshape((-1,) + input_shape)\n",
        "X_val = X_val.reshape((-1,) + input_shape)\n",
        "X_test = X_test.reshape((-1,) + input_shape)\n",
        "\n",
        "# Build the CNN model\n",
        "model = tf.keras.Sequential()\n",
        "model.add(layers.Conv2D(32, kernel_size=(3, 3), activation='relu', input_shape=input_shape))\n",
        "model.add(layers.MaxPooling2D(pool_size=(2, 2)))\n",
        "model.add(layers.Conv2D(64, kernel_size=(3, 3), activation='relu'))\n",
        "model.add(layers.MaxPooling2D(pool_size=(2, 2)))\n",
        "model.add(layers.Flatten())\n",
        "model.add(layers.Dense(128, activation='relu'))\n",
        "model.add(layers.Dense(1, activation='sigmoid'))\n",
        "\n",
        "# Compile the model with the desired loss function and optimizer\n",
        "learning_rate = 0.05  # Specify your desired learning rate\n",
        "optimizer = tf.keras.optimizers.Adam(learning_rate=learning_rate)\n",
        "model.compile(optimizer=optimizer, loss='binary_crossentropy', metrics=['accuracy'])\n",
        "\n",
        "# Train the model\n",
        "history = model.fit(X_train, y_train, validation_data=(X_val, y_val), epochs=20, batch_size=32)\n",
        "\n",
        "# Evaluate the model on the test set\n",
        "test_loss, test_accuracy = model.evaluate(X_test, y_test)\n",
        "\n",
        "# Print the test accuracy\n",
        "print(\"Test Accuracy:\", test_accuracy)\n"
      ],
      "metadata": {
        "colab": {
          "base_uri": "https://localhost:8080/"
        },
        "id": "7DjRLwBcMew8",
        "outputId": "67786501-bdb1-4fa7-9620-ecd2346bb1e7"
      },
      "execution_count": 12,
      "outputs": [
        {
          "output_type": "stream",
          "name": "stdout",
          "text": [
            "Epoch 1/20\n",
            "2/2 [==============================] - 9s 3s/step - loss: 46997.7695 - accuracy: 0.5714 - val_loss: 33082.1133 - val_accuracy: 0.3750\n",
            "Epoch 2/20\n",
            "2/2 [==============================] - 6s 3s/step - loss: 16829.5918 - accuracy: 0.4921 - val_loss: 222.3789 - val_accuracy: 0.5000\n",
            "Epoch 3/20\n",
            "2/2 [==============================] - 7s 3s/step - loss: 319.8044 - accuracy: 0.6032 - val_loss: 55.5286 - val_accuracy: 0.7500\n",
            "Epoch 4/20\n",
            "2/2 [==============================] - 6s 3s/step - loss: 55.8173 - accuracy: 0.7302 - val_loss: 0.5498 - val_accuracy: 0.7500\n",
            "Epoch 5/20\n",
            "2/2 [==============================] - 8s 4s/step - loss: 1.6584 - accuracy: 0.6349 - val_loss: 0.5419 - val_accuracy: 0.7500\n",
            "Epoch 6/20\n",
            "2/2 [==============================] - 6s 3s/step - loss: 1091.3159 - accuracy: 0.6349 - val_loss: 0.5339 - val_accuracy: 0.7500\n",
            "Epoch 7/20\n",
            "2/2 [==============================] - 7s 5s/step - loss: 732.1014 - accuracy: 0.6349 - val_loss: 0.5265 - val_accuracy: 0.7500\n",
            "Epoch 8/20\n",
            "2/2 [==============================] - 6s 3s/step - loss: 0.6373 - accuracy: 0.6508 - val_loss: 0.5238 - val_accuracy: 0.7500\n",
            "Epoch 9/20\n",
            "2/2 [==============================] - 7s 4s/step - loss: 0.6186 - accuracy: 0.6667 - val_loss: 0.5236 - val_accuracy: 0.7500\n",
            "Epoch 10/20\n",
            "2/2 [==============================] - 6s 3s/step - loss: 0.6173 - accuracy: 0.6667 - val_loss: 0.5247 - val_accuracy: 0.7500\n",
            "Epoch 11/20\n",
            "2/2 [==============================] - 6s 3s/step - loss: 0.6136 - accuracy: 0.6667 - val_loss: 0.5280 - val_accuracy: 0.7500\n",
            "Epoch 12/20\n",
            "2/2 [==============================] - 7s 3s/step - loss: 0.6156 - accuracy: 0.6667 - val_loss: 0.5354 - val_accuracy: 0.7500\n",
            "Epoch 13/20\n",
            "2/2 [==============================] - 5s 3s/step - loss: 0.6134 - accuracy: 0.6667 - val_loss: 0.5424 - val_accuracy: 0.7500\n",
            "Epoch 14/20\n",
            "2/2 [==============================] - 7s 3s/step - loss: 0.6115 - accuracy: 0.6667 - val_loss: 0.5434 - val_accuracy: 0.7500\n",
            "Epoch 15/20\n",
            "2/2 [==============================] - 6s 3s/step - loss: 0.6125 - accuracy: 0.6667 - val_loss: 0.5398 - val_accuracy: 0.7500\n",
            "Epoch 16/20\n",
            "2/2 [==============================] - 7s 4s/step - loss: 0.6105 - accuracy: 0.6667 - val_loss: 0.5366 - val_accuracy: 0.7500\n",
            "Epoch 17/20\n",
            "2/2 [==============================] - 6s 3s/step - loss: 0.6101 - accuracy: 0.6667 - val_loss: 0.5347 - val_accuracy: 0.7500\n",
            "Epoch 18/20\n",
            "2/2 [==============================] - 7s 4s/step - loss: 0.6097 - accuracy: 0.6667 - val_loss: 0.5313 - val_accuracy: 0.7500\n",
            "Epoch 19/20\n",
            "2/2 [==============================] - 6s 3s/step - loss: 0.6101 - accuracy: 0.6667 - val_loss: 0.5305 - val_accuracy: 0.7500\n",
            "Epoch 20/20\n",
            "2/2 [==============================] - 6s 3s/step - loss: 0.6100 - accuracy: 0.6667 - val_loss: 0.5294 - val_accuracy: 0.7500\n",
            "1/1 [==============================] - 1s 529ms/step - loss: 550.2095 - accuracy: 0.5000\n",
            "Test Accuracy: 0.5\n"
          ]
        }
      ]
    },
    {
      "cell_type": "code",
      "source": [
        "import tensorflow as tf\n",
        "from tensorflow.keras import layers\n",
        "from sklearn.model_selection import train_test_split\n",
        "\n",
        "# Split the dataset into training, validation, and test sets\n",
        "X_train, X_test, y_train, y_test = train_test_split(dataset, labels, test_size=test_ratio, stratify=labels, random_state=42)\n",
        "X_train, X_val, y_train, y_val = train_test_split(X_train, y_train, test_size=val_ratio/(train_ratio+val_ratio), stratify=y_train, random_state=42)\n",
        "\n",
        "# Normalize the input data (if required)\n",
        "# X_train = X_train / 255.0\n",
        "# X_val = X_val / 255.0\n",
        "# X_test = X_test / 255.0\n",
        "\n",
        "# Reshape the input data based on the expected input shape of the model\n",
        "input_shape = X_train.shape[1:]  # Assuming the first dimension is the number of samples\n",
        "X_train = X_train.reshape((-1,) + input_shape)\n",
        "X_val = X_val.reshape((-1,) + input_shape)\n",
        "X_test = X_test.reshape((-1,) + input_shape)\n",
        "\n",
        "# Build the CNN model\n",
        "model = tf.keras.Sequential()\n",
        "model.add(layers.Conv2D(32, kernel_size=(3, 3), activation='relu', input_shape=input_shape))\n",
        "model.add(layers.MaxPooling2D(pool_size=(2, 2)))\n",
        "model.add(layers.Conv2D(64, kernel_size=(3, 3), activation='relu'))\n",
        "model.add(layers.MaxPooling2D(pool_size=(2, 2)))\n",
        "model.add(layers.Flatten())\n",
        "model.add(layers.Dense(128, activation='relu'))\n",
        "model.add(layers.Dense(1, activation='linear'))\n",
        "\n",
        "# Compile the model with the desired loss function and optimizer\n",
        "learning_rate = 0.05  # Specify your desired learning rate\n",
        "optimizer = tf.keras.optimizers.Adam(learning_rate=learning_rate)\n",
        "model.compile(optimizer=optimizer, loss='mean_squared_error', metrics=['accuracy'])\n",
        "\n",
        "# Train the model\n",
        "history = model.fit(X_train, y_train, validation_data=(X_val, y_val), epochs=20, batch_size=32)\n",
        "\n",
        "# Evaluate the model on the test set\n",
        "test_loss, test_accuracy = model.evaluate(X_test, y_test)\n",
        "\n",
        "# Print the test accuracy\n",
        "print(\"Test Accuracy:\", test_accuracy)\n"
      ],
      "metadata": {
        "colab": {
          "base_uri": "https://localhost:8080/"
        },
        "id": "_-T9uu_OMe9G",
        "outputId": "2e39c3c2-3b63-4966-9d0f-89c2e92f68f0"
      },
      "execution_count": 13,
      "outputs": [
        {
          "output_type": "stream",
          "name": "stdout",
          "text": [
            "Epoch 1/20\n",
            "2/2 [==============================] - 7s 3s/step - loss: 2494119018496.0000 - accuracy: 0.4286 - val_loss: 6689343.5000 - val_accuracy: 0.6250\n",
            "Epoch 2/20\n",
            "2/2 [==============================] - 7s 4s/step - loss: 334292746240.0000 - accuracy: 0.5238 - val_loss: 1402674688.0000 - val_accuracy: 0.3750\n",
            "Epoch 3/20\n",
            "2/2 [==============================] - 6s 3s/step - loss: 10845258752.0000 - accuracy: 0.5238 - val_loss: 0.2843 - val_accuracy: 0.3750\n",
            "Epoch 4/20\n",
            "2/2 [==============================] - 7s 4s/step - loss: 123212312.0000 - accuracy: 0.3810 - val_loss: 0.2377 - val_accuracy: 0.6250\n",
            "Epoch 5/20\n",
            "2/2 [==============================] - 6s 3s/step - loss: 0.2355 - accuracy: 0.6190 - val_loss: 0.2425 - val_accuracy: 0.6250\n",
            "Epoch 6/20\n",
            "2/2 [==============================] - 6s 4s/step - loss: 0.2534 - accuracy: 0.6190 - val_loss: 0.2728 - val_accuracy: 0.6250\n",
            "Epoch 7/20\n",
            "2/2 [==============================] - 7s 3s/step - loss: 0.2785 - accuracy: 0.6190 - val_loss: 0.2786 - val_accuracy: 0.6250\n",
            "Epoch 8/20\n",
            "2/2 [==============================] - 6s 3s/step - loss: 0.2817 - accuracy: 0.6190 - val_loss: 0.2742 - val_accuracy: 0.6250\n",
            "Epoch 9/20\n",
            "2/2 [==============================] - 7s 3s/step - loss: 0.2767 - accuracy: 0.6190 - val_loss: 0.2635 - val_accuracy: 0.6250\n",
            "Epoch 10/20\n",
            "2/2 [==============================] - 6s 3s/step - loss: 23239146.0000 - accuracy: 0.6190 - val_loss: 0.2413 - val_accuracy: 0.6250\n",
            "Epoch 11/20\n",
            "2/2 [==============================] - 7s 4s/step - loss: 0.2313 - accuracy: 0.6190 - val_loss: 0.2365 - val_accuracy: 0.6250\n",
            "Epoch 12/20\n",
            "2/2 [==============================] - 6s 3s/step - loss: 0.2412 - accuracy: 0.6190 - val_loss: 0.2609 - val_accuracy: 0.3750\n",
            "Epoch 13/20\n",
            "2/2 [==============================] - 7s 5s/step - loss: 0.2646 - accuracy: 0.3810 - val_loss: 0.3049 - val_accuracy: 0.3750\n",
            "Epoch 14/20\n",
            "2/2 [==============================] - 6s 3s/step - loss: 0.3173 - accuracy: 0.3810 - val_loss: 0.3604 - val_accuracy: 0.3750\n",
            "Epoch 15/20\n",
            "2/2 [==============================] - 7s 4s/step - loss: 0.3733 - accuracy: 0.3810 - val_loss: 0.4212 - val_accuracy: 0.3750\n",
            "Epoch 16/20\n",
            "2/2 [==============================] - 6s 3s/step - loss: 0.4312 - accuracy: 0.3810 - val_loss: 0.4825 - val_accuracy: 0.3750\n",
            "Epoch 17/20\n",
            "2/2 [==============================] - 6s 3s/step - loss: 0.4933 - accuracy: 0.3810 - val_loss: 0.5411 - val_accuracy: 0.3750\n",
            "Epoch 18/20\n",
            "2/2 [==============================] - 7s 3s/step - loss: 0.5485 - accuracy: 0.3810 - val_loss: 0.5953 - val_accuracy: 0.3750\n",
            "Epoch 19/20\n",
            "2/2 [==============================] - 6s 3s/step - loss: 0.6018 - accuracy: 0.3810 - val_loss: 0.6444 - val_accuracy: 0.3750\n",
            "Epoch 20/20\n",
            "2/2 [==============================] - 8s 4s/step - loss: 0.6480 - accuracy: 0.3810 - val_loss: 0.6878 - val_accuracy: 0.3750\n",
            "1/1 [==============================] - 1s 678ms/step - loss: 0.6878 - accuracy: 0.3750\n",
            "Test Accuracy: 0.375\n"
          ]
        }
      ]
    }
  ]
}
