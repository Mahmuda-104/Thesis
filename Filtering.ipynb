{
  "cells": [
    {
      "cell_type": "markdown",
      "metadata": {
        "id": "view-in-github",
        "colab_type": "text"
      },
      "source": [
        "<a href=\"https://colab.research.google.com/github/Mahmuda-104/Thesis/blob/main/Filtering.ipynb\" target=\"_parent\"><img src=\"https://colab.research.google.com/assets/colab-badge.svg\" alt=\"Open In Colab\"/></a>"
      ]
    },
    {
      "cell_type": "code",
      "execution_count": 1,
      "metadata": {
        "id": "XmsnbXPD9XdM"
      },
      "outputs": [],
      "source": [
        "from google.colab import drive\n",
        "import os\n",
        "from scipy.io import loadmat"
      ]
    },
    {
      "cell_type": "code",
      "execution_count": 2,
      "metadata": {
        "colab": {
          "base_uri": "https://localhost:8080/"
        },
        "id": "ExvbtTfG907g",
        "outputId": "7b6b0a0f-3fd8-45c6-b155-9daed76fc4ca"
      },
      "outputs": [
        {
          "output_type": "stream",
          "name": "stdout",
          "text": [
            "Drive already mounted at /content/drive; to attempt to forcibly remount, call drive.mount(\"/content/drive\", force_remount=True).\n"
          ]
        }
      ],
      "source": [
        "drive.mount('/content/drive')"
      ]
    },
    {
      "cell_type": "code",
      "execution_count": 3,
      "metadata": {
        "id": "p02OprQS909G"
      },
      "outputs": [],
      "source": [
        "data_path = '/content/drive/My Drive/Data'"
      ]
    },
    {
      "cell_type": "code",
      "execution_count": 4,
      "metadata": {
        "colab": {
          "base_uri": "https://localhost:8080/"
        },
        "id": "c3P0XMoy91CB",
        "outputId": "e2e8d07a-e476-47f2-9839-68da1ab467a9"
      },
      "outputs": [
        {
          "output_type": "stream",
          "name": "stdout",
          "text": [
            "(60, 60, 1000)\n"
          ]
        }
      ],
      "source": [
        "import os\n",
        "import scipy.io\n",
        "import numpy as np\n",
        "from scipy import signal\n",
        "\n",
        "lowcut = 0.5 \n",
        "highcut = 100  \n",
        "fs_original = 500\n",
        "fs_new = 250\n",
        "\n",
        "control_data = []\n",
        "control_path = os.path.join(data_path, 'Control')\n",
        "for foldername in os.listdir(control_path):\n",
        "    subfolder_path = os.path.join(control_path, foldername)\n",
        "    control_data.append(subfolder_path)\n",
        "\n",
        "Control30 = []\n",
        "for control_data_path in control_data:\n",
        "    n_epochs = 60 #len([f for f in os.listdir(control_data_path) if f.endswith('.mat')])\n",
        "    control_arr = []\n",
        "    for i in range(1, n_epochs+1):\n",
        "        epoch_path = f\"{control_data_path}/trial{i}.mat\"\n",
        "        mat_data = scipy.io.loadmat(epoch_path)\n",
        "        mat_data1 = mat_data[\"trialData_i\"]\n",
        "        \n",
        "        b, a = signal.butter(4, [lowcut, highcut], fs=fs_original, btype='band')\n",
        "        filtered_data = signal.filtfilt(b, a, mat_data1, axis=-1)\n",
        "        \n",
        "        # Downsampling\n",
        "        num_samples_original = filtered_data.shape[-1]\n",
        "        num_samples_new = int(num_samples_original * fs_new / fs_original)\n",
        "        downsampled_data = signal.resample(filtered_data, num_samples_new, axis=-1)\n",
        "        \n",
        "        control_arr.append(np.array(downsampled_data))\n",
        "        \n",
        "    Control30.append(np.array(control_arr))\n",
        "\n",
        "Control30 = np.array(Control30)\n",
        "print( Control30[0].shape)\n"
      ]
    },
    {
      "cell_type": "code",
      "execution_count": 5,
      "metadata": {
        "colab": {
          "base_uri": "https://localhost:8080/"
        },
        "id": "gX79Q8x891Dv",
        "outputId": "e7751434-8a64-4735-8cc8-f164cfdc65c2"
      },
      "outputs": [
        {
          "output_type": "stream",
          "name": "stdout",
          "text": [
            "Filtered and downsampled data shape: (30, 60, 60, 1000)\n"
          ]
        }
      ],
      "source": [
        "print(\"Filtered and downsampled data shape:\", Control30.shape)"
      ]
    },
    {
      "cell_type": "code",
      "execution_count": 6,
      "metadata": {
        "id": "w_tyr_6eZgkb",
        "colab": {
          "base_uri": "https://localhost:8080/"
        },
        "outputId": "844ec2d6-bc73-4e40-e8c0-fa65303f4265"
      },
      "outputs": [
        {
          "output_type": "stream",
          "name": "stdout",
          "text": [
            "(60, 60, 1000)\n"
          ]
        }
      ],
      "source": [
        "import os\n",
        "import scipy.io\n",
        "import numpy as np\n",
        "from scipy import signal\n",
        "\n",
        "lowcut = 0.5 \n",
        "highcut = 100  \n",
        "fs_original = 500\n",
        "fs_new = 250  \n",
        "\n",
        "concussed_data = []\n",
        "concussed_path = os.path.join(data_path, 'Concussed')\n",
        "for foldername in os.listdir(concussed_path):\n",
        "    subfolder_path = os.path.join(concussed_path, foldername)\n",
        "    concussed_data.append(subfolder_path)\n",
        "\n",
        "Concussed49 = []\n",
        "for concussed_data_path in concussed_data:\n",
        "    n_epochs = 60 #len([f for f in os.listdir(control_data_path) if f.endswith('.mat')])\n",
        "    concussed_arr = []\n",
        "    for i in range(1, n_epochs+1):\n",
        "        epoch_path = f\"{concussed_data_path}/trial{i}.mat\"\n",
        "        mat_data = scipy.io.loadmat(epoch_path)\n",
        "        mat_data1 = mat_data[\"trialData_i\"]\n",
        "        \n",
        "        b, a = signal.butter(4, [lowcut, highcut], fs=fs_original, btype='band')\n",
        "        filtered_data = signal.filtfilt(b, a, mat_data1, axis=-1)\n",
        "        \n",
        "        # Downsampling\n",
        "        num_samples_original = filtered_data.shape[-1]\n",
        "        num_samples_new = int(num_samples_original * fs_new / fs_original)\n",
        "        downsampled_data = signal.resample(filtered_data, num_samples_new, axis=-1)\n",
        "        \n",
        "        concussed_arr.append(np.array(downsampled_data))\n",
        "        \n",
        "    Concussed49.append(np.array(control_arr))\n",
        "\n",
        "Concussed49 = np.array(Concussed49)\n",
        "print( Concussed49[0].shape)\n"
      ]
    },
    {
      "cell_type": "code",
      "execution_count": 7,
      "metadata": {
        "id": "mU_a3RJDZgvj",
        "colab": {
          "base_uri": "https://localhost:8080/"
        },
        "outputId": "a944f1bf-3aa9-4abc-c425-6f461fc076e4"
      },
      "outputs": [
        {
          "output_type": "stream",
          "name": "stdout",
          "text": [
            "Filtered and downsampled data shape: (49, 60, 60, 1000)\n"
          ]
        }
      ],
      "source": [
        "print(\"Filtered and downsampled data shape:\", Concussed49.shape)"
      ]
    },
    {
      "cell_type": "code",
      "execution_count": 8,
      "metadata": {
        "id": "YvS2YYpnmF4P"
      },
      "outputs": [],
      "source": [
        "import numpy as np\n",
        "from sklearn.model_selection import train_test_split\n",
        "dataset = np.concatenate((Control30, Concussed49), axis=0)\n",
        "\n",
        "#(0 for control, 1 for concussed)\n",
        "labels = np.concatenate((np.zeros(len(Control30)), np.ones(len(Concussed49))))"
      ]
    },
    {
      "cell_type": "code",
      "execution_count": 9,
      "metadata": {
        "id": "sLTfiC7WmRAL"
      },
      "outputs": [],
      "source": [
        "train_ratio = 0.8  # 80% for training\n",
        "val_ratio = 0.1    # 10% for validation\n",
        "test_ratio = 0.1   # 10% for testing"
      ]
    },
    {
      "cell_type": "code",
      "execution_count": 10,
      "metadata": {
        "id": "4xgLyZM3mVaL"
      },
      "outputs": [],
      "source": [
        "X_train, X_test, y_train, y_test = train_test_split(dataset, labels, test_size=test_ratio, stratify=labels, random_state=42)\n",
        "X_train, X_val, y_train, y_val = train_test_split(X_train, y_train, test_size=val_ratio/(train_ratio+val_ratio), stratify=y_train, random_state=42)"
      ]
    },
    {
      "cell_type": "code",
      "execution_count": 11,
      "metadata": {
        "id": "rYPyALoqZg6L",
        "colab": {
          "base_uri": "https://localhost:8080/"
        },
        "outputId": "8e061726-2f1e-4507-a68d-9019863c4714"
      },
      "outputs": [
        {
          "output_type": "stream",
          "name": "stdout",
          "text": [
            "Epoch 1/10\n",
            "2/2 [==============================] - 9s 4s/step - loss: 329.4138 - accuracy: 0.5873 - val_loss: 4.5367 - val_accuracy: 0.3750\n",
            "Epoch 2/10\n",
            "2/2 [==============================] - 6s 3s/step - loss: 22.3756 - accuracy: 0.4444 - val_loss: 0.6619 - val_accuracy: 0.6250\n",
            "Epoch 3/10\n",
            "2/2 [==============================] - 7s 3s/step - loss: 0.6893 - accuracy: 0.6190 - val_loss: 0.7046 - val_accuracy: 0.3750\n",
            "Epoch 4/10\n",
            "2/2 [==============================] - 6s 3s/step - loss: 0.7715 - accuracy: 0.4762 - val_loss: 0.6626 - val_accuracy: 0.6250\n",
            "Epoch 5/10\n",
            "2/2 [==============================] - 7s 4s/step - loss: 0.6339 - accuracy: 0.6349 - val_loss: 0.6695 - val_accuracy: 0.6250\n",
            "Epoch 6/10\n",
            "2/2 [==============================] - 6s 3s/step - loss: 0.7198 - accuracy: 0.5873 - val_loss: 0.6622 - val_accuracy: 0.6250\n",
            "Epoch 7/10\n",
            "2/2 [==============================] - 7s 4s/step - loss: 0.6617 - accuracy: 0.6190 - val_loss: 0.6765 - val_accuracy: 0.6250\n",
            "Epoch 8/10\n",
            "2/2 [==============================] - 19s 16s/step - loss: 0.6847 - accuracy: 0.5714 - val_loss: 0.6617 - val_accuracy: 0.6250\n",
            "Epoch 9/10\n",
            "2/2 [==============================] - 16s 4s/step - loss: 0.6643 - accuracy: 0.6190 - val_loss: 0.6642 - val_accuracy: 0.6250\n",
            "Epoch 10/10\n",
            "2/2 [==============================] - 6s 3s/step - loss: 0.6989 - accuracy: 0.6190 - val_loss: 0.6662 - val_accuracy: 0.6250\n",
            "1/1 [==============================] - 0s 292ms/step - loss: 0.6662 - accuracy: 0.6250\n",
            "Test Accuracy: 0.625\n"
          ]
        }
      ],
      "source": [
        "import tensorflow as tf\n",
        "from tensorflow.keras import layers\n",
        "\n",
        "# Normalize the input data (if required)\n",
        "X_train = X_train / 255.0\n",
        "X_val = X_val / 255.0\n",
        "X_test = X_test / 255.0\n",
        "\n",
        "# Reshape the input data based on the expected input shape of the model\n",
        "input_shape = X_train.shape[1:]  # Assuming the first dimension is the number of samples\n",
        "X_train = X_train.reshape((-1,) + input_shape)\n",
        "X_val = X_val.reshape((-1,) + input_shape)\n",
        "X_test = X_test.reshape((-1,) + input_shape)\n",
        "\n",
        "# Build the CNN model\n",
        "model = tf.keras.Sequential()\n",
        "model.add(layers.Conv2D(16, kernel_size=(6, 6),strides=2, activation='relu',padding='same', input_shape=input_shape))\n",
        "model.add(layers.MaxPooling2D(pool_size=(2, 2)))\n",
        "model.add(layers.Dropout(0.5))\n",
        "model.add(layers.Conv2D(32, kernel_size=(3, 3), activation='relu', strides=1,padding='same'))\n",
        "model.add(layers.MaxPooling2D(pool_size=(2, 2)))\n",
        "model.add(layers.Dropout(0.5))\n",
        "model.add(layers.Conv2D(64, kernel_size=(3, 3), activation='relu', strides=1,padding='same'))\n",
        "model.add(layers.MaxPooling2D(pool_size=(2, 2)))\n",
        "model.add(layers.Dropout(0.5))\n",
        "model.add(layers.Flatten())\n",
        "model.add(layers.Dense(256, activation='relu'))\n",
        "model.add(layers.Dropout(0.5))\n",
        "model.add(layers.Dense(2, activation='softmax'))  # num_classes is the number of output classes\n",
        "from keras.callbacks import EarlyStopping\n",
        "\n",
        "\n",
        "callback_list = EarlyStopping(monitor = 'val_loss',\n",
        "                              patience = 20,\n",
        "                              restore_best_weights=True)\n",
        "\n",
        "# Compile the model with the desired loss function and optimizer\n",
        "learning_rate = 0.05  # Specify your desired learning rate\n",
        "optimizer = tf.keras.optimizers.Adam(learning_rate=learning_rate)\n",
        "model.compile(optimizer=optimizer, loss='sparse_categorical_crossentropy', metrics=['accuracy'])\n",
        "\n",
        "# Train the model\n",
        "history = model.fit(X_train, y_train, validation_data=(X_val, y_val), epochs=10, batch_size=32)\n",
        "\n",
        "# Evaluate the model on the test set\n",
        "test_loss, test_accuracy = model.evaluate(X_test, y_test)\n",
        "\n",
        "# Print the test accuracy\n",
        "print(\"Test Accuracy:\", test_accuracy)\n"
      ]
    },
    {
      "cell_type": "code",
      "source": [
        "import tensorflow as tf\n",
        "from tensorflow.keras import layers\n",
        "from sklearn.model_selection import train_test_split\n",
        "\n",
        "# Split the dataset into training, validation, and test sets\n",
        "X_train, X_test, y_train, y_test = train_test_split(dataset, labels, test_size=test_ratio, stratify=labels, random_state=42)\n",
        "X_train, X_val, y_train, y_val = train_test_split(X_train, y_train, test_size=val_ratio/(train_ratio+val_ratio), stratify=y_train, random_state=42)\n",
        "\n",
        "# Normalize the input data (if required)\n",
        "X_train = X_train / 255.0\n",
        "X_val = X_val / 255.0\n",
        "X_test = X_test / 255.0\n",
        "\n",
        "# Reshape the input data based on the expected input shape of the model\n",
        "input_shape = X_train.shape[1:]  # Assuming the first dimension is the number of samples\n",
        "X_train = X_train.reshape((-1,) + input_shape)\n",
        "X_val = X_val.reshape((-1,) + input_shape)\n",
        "X_test = X_test.reshape((-1,) + input_shape)\n",
        "\n",
        "# Build the CNN model\n",
        "model = tf.keras.Sequential()\n",
        "model.add(layers.Conv2D(32, kernel_size=(3, 3), activation='relu', input_shape=input_shape))\n",
        "model.add(layers.MaxPooling2D(pool_size=(2, 2)))\n",
        "model.add(layers.Conv2D(64, kernel_size=(3, 3), activation='relu'))\n",
        "model.add(layers.MaxPooling2D(pool_size=(2, 2)))\n",
        "model.add(layers.Flatten())\n",
        "model.add(layers.Dense(128, activation='relu'))\n",
        "model.add(layers.Dense(1, activation='sigmoid'))\n",
        "\n",
        "# Compile the model with the desired loss function and optimizer\n",
        "learning_rate = 0.001  # Specify your desired learning rate\n",
        "optimizer = tf.keras.optimizers.Adam(learning_rate=learning_rate)\n",
        "model.compile(optimizer=optimizer, loss='binary_crossentropy', metrics=['accuracy'])\n",
        "\n",
        "# Train the model\n",
        "history = model.fit(X_train, y_train, validation_data=(X_val, y_val), epochs=10, batch_size=32)\n",
        "\n",
        "# Evaluate the model on the test set\n",
        "test_loss, test_accuracy = model.evaluate(X_test, y_test)\n",
        "\n",
        "# Print the test accuracy\n",
        "print(\"Test Accuracy:\", test_accuracy)\n"
      ],
      "metadata": {
        "colab": {
          "base_uri": "https://localhost:8080/"
        },
        "id": "ZjyxNa3VLMlV",
        "outputId": "22f9c103-fc5c-4816-a248-041e2b62a4cc"
      },
      "execution_count": 12,
      "outputs": [
        {
          "output_type": "stream",
          "name": "stdout",
          "text": [
            "Epoch 1/10\n",
            "2/2 [==============================] - 10s 5s/step - loss: 0.6040 - accuracy: 0.6508 - val_loss: 0.2960 - val_accuracy: 1.0000\n",
            "Epoch 2/10\n",
            "2/2 [==============================] - 7s 4s/step - loss: 0.2325 - accuracy: 0.9683 - val_loss: 0.0773 - val_accuracy: 1.0000\n",
            "Epoch 3/10\n",
            "2/2 [==============================] - 8s 4s/step - loss: 0.0847 - accuracy: 0.9841 - val_loss: 0.0023 - val_accuracy: 1.0000\n",
            "Epoch 4/10\n",
            "2/2 [==============================] - 8s 4s/step - loss: 0.1053 - accuracy: 0.9841 - val_loss: 0.0048 - val_accuracy: 1.0000\n",
            "Epoch 5/10\n",
            "2/2 [==============================] - 8s 3s/step - loss: 0.0797 - accuracy: 0.9841 - val_loss: 0.4371 - val_accuracy: 0.3750\n",
            "Epoch 6/10\n",
            "2/2 [==============================] - 8s 4s/step - loss: 0.4096 - accuracy: 0.6032 - val_loss: 2.1695e-04 - val_accuracy: 1.0000\n",
            "Epoch 7/10\n",
            "2/2 [==============================] - 7s 4s/step - loss: 0.2277 - accuracy: 0.9841 - val_loss: 0.0056 - val_accuracy: 1.0000\n",
            "Epoch 8/10\n",
            "2/2 [==============================] - 8s 5s/step - loss: 0.3093 - accuracy: 0.9841 - val_loss: 0.0472 - val_accuracy: 1.0000\n",
            "Epoch 9/10\n",
            "2/2 [==============================] - 7s 3s/step - loss: 0.3354 - accuracy: 0.9841 - val_loss: 0.0833 - val_accuracy: 1.0000\n",
            "Epoch 10/10\n",
            "2/2 [==============================] - 8s 4s/step - loss: 0.2799 - accuracy: 0.9841 - val_loss: 0.0598 - val_accuracy: 1.0000\n",
            "1/1 [==============================] - 0s 387ms/step - loss: 0.0677 - accuracy: 1.0000\n",
            "Test Accuracy: 1.0\n"
          ]
        }
      ]
    },
    {
      "cell_type": "code",
      "source": [
        "import tensorflow as tf\n",
        "from tensorflow.keras import layers\n",
        "from sklearn.model_selection import train_test_split\n",
        "\n",
        "# Split the dataset into training, validation, and test sets\n",
        "X_train, X_test, y_train, y_test = train_test_split(dataset, labels, test_size=test_ratio, stratify=labels, random_state=42)\n",
        "X_train, X_val, y_train, y_val = train_test_split(X_train, y_train, test_size=val_ratio/(train_ratio+val_ratio), stratify=y_train, random_state=42)\n",
        "\n",
        "# Normalize the input data (if required)\n",
        "X_train = X_train / 255.0\n",
        "X_val = X_val / 255.0\n",
        "X_test = X_test / 255.0\n",
        "\n",
        "# Reshape the input data based on the expected input shape of the model\n",
        "input_shape = X_train.shape[1:]  # Assuming the first dimension is the number of samples\n",
        "X_train = X_train.reshape((-1,) + input_shape)\n",
        "X_val = X_val.reshape((-1,) + input_shape)\n",
        "X_test = X_test.reshape((-1,) + input_shape)\n",
        "\n",
        "# Build the CNN model\n",
        "model = tf.keras.Sequential()\n",
        "model.add(layers.Conv2D(32, kernel_size=(3, 3), activation='relu', input_shape=input_shape))\n",
        "model.add(layers.MaxPooling2D(pool_size=(2, 2)))\n",
        "model.add(layers.Conv2D(64, kernel_size=(3, 3), activation='relu'))\n",
        "model.add(layers.MaxPooling2D(pool_size=(2, 2)))\n",
        "model.add(layers.Flatten())\n",
        "model.add(layers.Dense(128, activation='relu'))\n",
        "model.add(layers.Dense(1, activation='linear'))\n",
        "\n",
        "# Compile the model with the desired loss function and optimizer\n",
        "learning_rate = 0.001  # Specify your desired learning rate\n",
        "optimizer = tf.keras.optimizers.Adam(learning_rate=learning_rate)\n",
        "model.compile(optimizer=optimizer, loss='mean_squared_error', metrics=['accuracy'])\n",
        "\n",
        "# Train the model\n",
        "history = model.fit(X_train, y_train, validation_data=(X_val, y_val), epochs=10, batch_size=32)\n",
        "\n",
        "# Evaluate the model on the test set\n",
        "test_loss, test_accuracy = model.evaluate(X_test, y_test)\n",
        "\n",
        "# Print the test accuracy\n",
        "print(\"Test Accuracy:\", test_accuracy)\n"
      ],
      "metadata": {
        "colab": {
          "base_uri": "https://localhost:8080/"
        },
        "id": "CqEWWSRHMEsM",
        "outputId": "778ac207-db37-49cf-926e-09577a54c313"
      },
      "execution_count": 13,
      "outputs": [
        {
          "output_type": "stream",
          "name": "stdout",
          "text": [
            "Epoch 1/10\n",
            "2/2 [==============================] - 9s 4s/step - loss: 37.7335 - accuracy: 0.4921 - val_loss: 0.1992 - val_accuracy: 0.8750\n",
            "Epoch 2/10\n",
            "2/2 [==============================] - 9s 4s/step - loss: 3.4921 - accuracy: 0.7302 - val_loss: 0.7001 - val_accuracy: 0.3750\n",
            "Epoch 3/10\n",
            "2/2 [==============================] - 8s 5s/step - loss: 0.7685 - accuracy: 0.3810 - val_loss: 0.6151 - val_accuracy: 0.3750\n",
            "Epoch 4/10\n",
            "2/2 [==============================] - 7s 4s/step - loss: 0.6603 - accuracy: 0.3810 - val_loss: 0.5602 - val_accuracy: 0.3750\n",
            "Epoch 5/10\n",
            "2/2 [==============================] - 8s 4s/step - loss: 0.6128 - accuracy: 0.3651 - val_loss: 0.5185 - val_accuracy: 0.3750\n",
            "Epoch 6/10\n",
            "2/2 [==============================] - 7s 4s/step - loss: 0.5269 - accuracy: 0.3651 - val_loss: 0.4902 - val_accuracy: 0.3750\n",
            "Epoch 7/10\n",
            "2/2 [==============================] - 8s 4s/step - loss: 0.4910 - accuracy: 0.3810 - val_loss: 0.4565 - val_accuracy: 0.3750\n",
            "Epoch 8/10\n",
            "2/2 [==============================] - 7s 4s/step - loss: 0.4698 - accuracy: 0.3810 - val_loss: 0.4196 - val_accuracy: 0.3750\n",
            "Epoch 9/10\n",
            "2/2 [==============================] - 8s 4s/step - loss: 0.4106 - accuracy: 0.3810 - val_loss: 0.3770 - val_accuracy: 0.3750\n",
            "Epoch 10/10\n",
            "2/2 [==============================] - 8s 5s/step - loss: 0.3740 - accuracy: 0.3651 - val_loss: 0.3335 - val_accuracy: 0.3750\n",
            "1/1 [==============================] - 0s 387ms/step - loss: 0.3294 - accuracy: 0.3750\n",
            "Test Accuracy: 0.375\n"
          ]
        }
      ]
    }
  ],
  "metadata": {
    "colab": {
      "provenance": [],
      "authorship_tag": "ABX9TyPHyMuB6OAjcA/O0Q2yJaYg",
      "include_colab_link": true
    },
    "kernelspec": {
      "display_name": "Python 3",
      "name": "python3"
    },
    "language_info": {
      "name": "python"
    }
  },
  "nbformat": 4,
  "nbformat_minor": 0
}