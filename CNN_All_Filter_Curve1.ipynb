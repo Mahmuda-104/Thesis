{
  "nbformat": 4,
  "nbformat_minor": 0,
  "metadata": {
    "colab": {
      "provenance": [],
      "authorship_tag": "ABX9TyNSXOZwga6pU8gRb8T4+RGz",
      "include_colab_link": true
    },
    "kernelspec": {
      "name": "python3",
      "display_name": "Python 3"
    },
    "language_info": {
      "name": "python"
    }
  },
  "cells": [
    {
      "cell_type": "markdown",
      "metadata": {
        "id": "view-in-github",
        "colab_type": "text"
      },
      "source": [
        "<a href=\"https://colab.research.google.com/github/Mahmuda-104/Thesis/blob/main/CNN_All_Filter_Curve1.ipynb\" target=\"_parent\"><img src=\"https://colab.research.google.com/assets/colab-badge.svg\" alt=\"Open In Colab\"/></a>"
      ]
    },
    {
      "cell_type": "code",
      "execution_count": 1,
      "metadata": {
        "id": "o-u1CJg68676"
      },
      "outputs": [],
      "source": [
        "from google.colab import drive\n",
        "import os\n",
        "from scipy.io import loadmat"
      ]
    },
    {
      "cell_type": "code",
      "source": [
        "drive.mount('/content/drive')"
      ],
      "metadata": {
        "colab": {
          "base_uri": "https://localhost:8080/"
        },
        "id": "zu_pMUqI9BCR",
        "outputId": "f57deb77-e803-4ae4-d40d-e8a81789f721"
      },
      "execution_count": 2,
      "outputs": [
        {
          "output_type": "stream",
          "name": "stdout",
          "text": [
            "Mounted at /content/drive\n"
          ]
        }
      ]
    },
    {
      "cell_type": "code",
      "source": [
        "data_path = '/content/drive/My Drive/Data'"
      ],
      "metadata": {
        "id": "dD6tRiqQ9BD6"
      },
      "execution_count": 3,
      "outputs": []
    },
    {
      "cell_type": "code",
      "source": [
        "import os\n",
        "import scipy.io\n",
        "import numpy as np\n",
        "from scipy import signal\n",
        "\n",
        "lowcut = 0.4 \n",
        "highcut = 100  \n",
        "fs_original = 500\n",
        "fs_new = 250\n",
        "\n",
        "control_data = []\n",
        "control_path = os.path.join(data_path, 'Control')\n",
        "for foldername in os.listdir(control_path):\n",
        "    subfolder_path = os.path.join(control_path, foldername)\n",
        "    control_data.append(subfolder_path)\n",
        "\n",
        "Control30 = []\n",
        "for control_data_path in control_data:\n",
        "    n_epochs = 55 #len([f for f in os.listdir(control_data_path) if f.endswith('.mat')])\n",
        "    control_arr = []\n",
        "    for i in range(1, n_epochs+1):\n",
        "        epoch_path = f\"{control_data_path}/trial{i}.mat\"\n",
        "        mat_data = scipy.io.loadmat(epoch_path)\n",
        "        mat_data1 = mat_data[\"trialData_i\"]\n",
        "        \n",
        "        # Average referencing\n",
        "        average_potential = np.mean(mat_data1, axis=0, keepdims=True)\n",
        "        referenced_data = mat_data1 - average_potential\n",
        "        \n",
        "        # Bandpass filtering\n",
        "        b, a = signal.butter(4, [lowcut, highcut], fs=fs_original, btype='band')\n",
        "        filtered_data = signal.filtfilt(b, a, referenced_data, axis=-1)\n",
        "        \n",
        "        # Apply notch filter\n",
        "        f0 = 60  # Frequency to be removed (e.g., power line interference)\n",
        "        Q = 30   # Quality factor\n",
        "        w0 = f0 / (fs_original / 2)\n",
        "        b, a = signal.iirnotch(w0, Q)\n",
        "        filtered_data = signal.filtfilt(b, a, filtered_data, axis=-1)\n",
        "\n",
        "        # Downsampling\n",
        "        num_samples_original = filtered_data.shape[-1]\n",
        "        num_samples_new = int(num_samples_original * fs_new / fs_original)\n",
        "        downsampled_data = signal.resample(filtered_data, num_samples_new, axis=-1)\n",
        "        \n",
        "        control_arr.append(np.array(downsampled_data))\n",
        "        \n",
        "    Control30.append(np.array(control_arr))\n",
        "\n",
        "Control30 = np.array(Control30)\n",
        "print(Control30[0].shape)\n"
      ],
      "metadata": {
        "colab": {
          "base_uri": "https://localhost:8080/"
        },
        "id": "yGRUhckm9BHT",
        "outputId": "82a85dc9-d26e-4896-d7f1-f7b840f21e7c"
      },
      "execution_count": 4,
      "outputs": [
        {
          "output_type": "stream",
          "name": "stdout",
          "text": [
            "(55, 60, 1000)\n"
          ]
        }
      ]
    },
    {
      "cell_type": "code",
      "source": [
        "print(\"Filtered and downsampled data shape:\", Control30.shape)"
      ],
      "metadata": {
        "colab": {
          "base_uri": "https://localhost:8080/"
        },
        "id": "ns78tec19BJY",
        "outputId": "34ad36ef-fdb2-4870-a9e3-2fca3adebed3"
      },
      "execution_count": 5,
      "outputs": [
        {
          "output_type": "stream",
          "name": "stdout",
          "text": [
            "Filtered and downsampled data shape: (32, 55, 60, 1000)\n"
          ]
        }
      ]
    },
    {
      "cell_type": "code",
      "source": [
        "import os\n",
        "import scipy.io\n",
        "import numpy as np\n",
        "from scipy import signal\n",
        "\n",
        "lowcut = 0.4\n",
        "highcut = 100  \n",
        "fs_original = 500\n",
        "fs_new = 250  \n",
        "\n",
        "concussed_data = []\n",
        "concussed_path = os.path.join(data_path, 'Concussed')\n",
        "for foldername in os.listdir(concussed_path):\n",
        "    subfolder_path = os.path.join(concussed_path, foldername)\n",
        "    concussed_data.append(subfolder_path)\n",
        "\n",
        "Concussed52 = []\n",
        "for concussed_data_path in concussed_data:\n",
        "    n_epochs = 55 #len([f for f in os.listdir(control_data_path) if f.endswith('.mat')])\n",
        "    concussed_arr = []\n",
        "    for i in range(1, n_epochs+1):\n",
        "        epoch_path = f\"{concussed_data_path}/trial{i}.mat\"\n",
        "        mat_data = scipy.io.loadmat(epoch_path)\n",
        "        mat_data1 = mat_data[\"trialData_i\"]\n",
        "        \n",
        "        # Average referencing\n",
        "        average_potential = np.mean(mat_data1, axis=0, keepdims=True)\n",
        "        referenced_data = mat_data1 - average_potential\n",
        "        \n",
        "        # Bandpass filtering\n",
        "        b, a = signal.butter(4, [lowcut, highcut], fs=fs_original, btype='band')\n",
        "        filtered_data = signal.filtfilt(b, a, referenced_data, axis=-1)\n",
        "        \n",
        "        # Apply notch filter\n",
        "        f0 = 60  # Frequency to be removed (e.g., power line interference)\n",
        "        Q = 30   # Quality factor\n",
        "        w0 = f0 / (fs_original / 2)\n",
        "        b, a = signal.iirnotch(w0, Q)\n",
        "        filtered_data = signal.filtfilt(b, a, filtered_data, axis=-1)\n",
        "\n",
        "        # Downsampling\n",
        "        num_samples_original = filtered_data.shape[-1]\n",
        "        num_samples_new = int(num_samples_original * fs_new / fs_original)\n",
        "        downsampled_data = signal.resample(filtered_data, num_samples_new, axis=-1)\n",
        "        \n",
        "        concussed_arr.append(np.array(downsampled_data))\n",
        "        \n",
        "    Concussed52.append(np.array(concussed_arr))\n",
        "\n",
        "Concussed52 = np.array(Concussed52)\n",
        "print(Concussed52[0].shape)"
      ],
      "metadata": {
        "colab": {
          "base_uri": "https://localhost:8080/"
        },
        "id": "jpluKBg99BMP",
        "outputId": "f6ae7fb6-ab24-47c9-8a6d-b3b1a460c359"
      },
      "execution_count": 6,
      "outputs": [
        {
          "output_type": "stream",
          "name": "stdout",
          "text": [
            "(55, 60, 1000)\n"
          ]
        }
      ]
    },
    {
      "cell_type": "code",
      "source": [
        "print(\"Filtered and downsampled data shape:\", Concussed52.shape)"
      ],
      "metadata": {
        "colab": {
          "base_uri": "https://localhost:8080/"
        },
        "id": "25vqeILK9BOA",
        "outputId": "59774e72-1a1b-474f-a83a-bae2a99ed748"
      },
      "execution_count": 7,
      "outputs": [
        {
          "output_type": "stream",
          "name": "stdout",
          "text": [
            "Filtered and downsampled data shape: (52, 55, 60, 1000)\n"
          ]
        }
      ]
    },
    {
      "cell_type": "code",
      "source": [
        "import numpy as np\n",
        "from sklearn.model_selection import train_test_split\n",
        "dataset = np.concatenate((Control30, Concussed52), axis=0)\n",
        "\n",
        "#(0 for control, 1 for concussed)\n",
        "labels = np.concatenate((np.zeros(len(Control30)), np.ones(len(Concussed52))))"
      ],
      "metadata": {
        "id": "tssbTsYc9BRs"
      },
      "execution_count": 8,
      "outputs": []
    },
    {
      "cell_type": "code",
      "source": [
        "train_ratio = 0.7  # 80% for training\n",
        "val_ratio = 0.15   # 10% for validation\n",
        "test_ratio = 0.15  # 10% for testing"
      ],
      "metadata": {
        "id": "usvfDAgN9BTb"
      },
      "execution_count": 9,
      "outputs": []
    },
    {
      "cell_type": "code",
      "source": [
        "X_train, X_test, y_train, y_test = train_test_split(dataset, labels, test_size=test_ratio, stratify=labels, random_state=42)\n",
        "X_train, X_val, y_train, y_val = train_test_split(X_train, y_train, test_size=val_ratio/(train_ratio+val_ratio), stratify=y_train, random_state=42)"
      ],
      "metadata": {
        "id": "n5wAHHeU9BXY"
      },
      "execution_count": 10,
      "outputs": []
    },
    {
      "cell_type": "code",
      "source": [
        "import tensorflow as tf\n",
        "from tensorflow.keras import layers\n",
        "from tensorflow.keras.callbacks import EarlyStopping\n",
        "import matplotlib.pyplot as plt\n",
        "\n",
        "# Normalize the input data\n",
        "# X_train = X_train / 255.0\n",
        "# X_val = X_val / 255.0\n",
        "# X_test = X_test / 255.0\n",
        "input_shape = X_train.shape[1:]\n",
        "# Build the CNN model\n",
        "model = tf.keras.Sequential()\n",
        "model.add(layers.Conv2D(16, kernel_size=(6, 6), strides=2, activation='relu', padding='same', input_shape=input_shape))\n",
        "model.add(layers.MaxPooling2D(pool_size=(2, 2)))\n",
        "model.add(layers.Dropout(0.5))\n",
        "model.add(layers.Conv2D(32, kernel_size=(3, 3), activation='relu', strides=1, padding='same'))\n",
        "model.add(layers.MaxPooling2D(pool_size=(2, 2)))\n",
        "model.add(layers.Dropout(0.5))\n",
        "model.add(layers.Conv2D(64, kernel_size=(3, 3), activation='relu', strides=1, padding='same'))\n",
        "model.add(layers.MaxPooling2D(pool_size=(2, 2)))\n",
        "model.add(layers.Dropout(0.5))\n",
        "model.add(layers.Flatten())\n",
        "model.add(layers.Dense(256, activation='relu'))\n",
        "model.add(layers.Dropout(0.5))\n",
        "model.add(layers.Dense(2, activation='softmax'))\n",
        "\n",
        "learning_rate = 0.05\n",
        "optimizer = tf.keras.optimizers.Adam(learning_rate=learning_rate)\n",
        "model.compile(optimizer=optimizer, loss='sparse_categorical_crossentropy', metrics=['accuracy'])\n",
        "\n",
        "# Define the early stopping callback\n",
        "early_stopping = EarlyStopping(monitor='val_loss', patience=10, restore_best_weights=True)\n",
        "\n",
        "# Train the model with early stopping\n",
        "history = model.fit(X_train, y_train, validation_data=(X_val, y_val), epochs=100, batch_size=32, callbacks=[early_stopping])\n",
        "\n",
        "# Evaluate the model on the test set\n",
        "test_loss, test_accuracy = model.evaluate(X_test, y_test)\n",
        "val_loss, val_accuracy = model.evaluate(X_val, y_val)\n",
        "\n",
        "# Print the test accuracy\n",
        "print(\"Test Accuracy:\", test_accuracy)\n",
        "\n",
        "# Generate training and testing accuracy\n",
        "training_accuracy = history.history['accuracy']\n",
        "testing_accuracy = history.history['val_accuracy']\n",
        "\n",
        "# Generate learning curve\n",
        "training_loss = history.history['loss']\n",
        "validation_loss = history.history['val_loss']\n",
        "\n",
        "# Plot training and testing accuracy\n",
        "plt.plot(training_accuracy, label='Training Accuracy')\n",
        "plt.plot(testing_accuracy, label='Testing Accuracy')\n",
        "plt.xlabel('Epochs')\n",
        "plt.ylabel('Accuracy')\n",
        "plt.legend()\n",
        "plt.show()\n",
        "\n",
        "# Plot learning curve\n",
        "plt.plot(training_loss, label='Training Loss')\n",
        "plt.plot(validation_loss, label='Validation Loss')\n",
        "plt.xlabel('Epochs')\n",
        "plt.ylabel('Loss')\n",
        "plt.legend()\n",
        "plt.show()\n"
      ],
      "metadata": {
        "colab": {
          "base_uri": "https://localhost:8080/",
          "height": 1000
        },
        "id": "HtiW53tdWgE3",
        "outputId": "f94bdf28-f2ff-48a2-ae42-7699e5a27a36"
      },
      "execution_count": 13,
      "outputs": [
        {
          "output_type": "stream",
          "name": "stdout",
          "text": [
            "Epoch 1/100\n",
            "2/2 [==============================] - 13s 6s/step - loss: 229.5763 - accuracy: 0.6034 - val_loss: 222.4885 - val_accuracy: 0.3846\n",
            "Epoch 2/100\n",
            "2/2 [==============================] - 10s 5s/step - loss: 173.5259 - accuracy: 0.3793 - val_loss: 0.6641 - val_accuracy: 0.3846\n",
            "Epoch 3/100\n",
            "2/2 [==============================] - 10s 4s/step - loss: 1.9701 - accuracy: 0.3966 - val_loss: 0.6045 - val_accuracy: 0.6923\n",
            "Epoch 4/100\n",
            "2/2 [==============================] - 11s 5s/step - loss: 0.6724 - accuracy: 0.5862 - val_loss: 0.6507 - val_accuracy: 0.3846\n",
            "Epoch 5/100\n",
            "2/2 [==============================] - 10s 6s/step - loss: 0.8079 - accuracy: 0.4310 - val_loss: 0.6595 - val_accuracy: 0.3846\n",
            "Epoch 6/100\n",
            "2/2 [==============================] - 9s 4s/step - loss: 0.6411 - accuracy: 0.5862 - val_loss: 0.5908 - val_accuracy: 0.6923\n",
            "Epoch 7/100\n",
            "2/2 [==============================] - 11s 5s/step - loss: 0.7262 - accuracy: 0.6552 - val_loss: 0.6041 - val_accuracy: 0.6923\n",
            "Epoch 8/100\n",
            "2/2 [==============================] - 11s 6s/step - loss: 0.7369 - accuracy: 0.6207 - val_loss: 0.5965 - val_accuracy: 0.6923\n",
            "Epoch 9/100\n",
            "2/2 [==============================] - 9s 4s/step - loss: 17.0460 - accuracy: 0.6034 - val_loss: 0.6682 - val_accuracy: 0.6154\n",
            "Epoch 10/100\n",
            "2/2 [==============================] - 11s 4s/step - loss: 0.7314 - accuracy: 0.5345 - val_loss: 0.6692 - val_accuracy: 0.6154\n",
            "Epoch 11/100\n",
            "2/2 [==============================] - 11s 6s/step - loss: 0.8285 - accuracy: 0.4655 - val_loss: 0.6663 - val_accuracy: 0.6154\n",
            "Epoch 12/100\n",
            "2/2 [==============================] - 10s 5s/step - loss: 0.7758 - accuracy: 0.4828 - val_loss: 0.6759 - val_accuracy: 0.6154\n",
            "Epoch 13/100\n",
            "2/2 [==============================] - 10s 4s/step - loss: 0.6639 - accuracy: 0.6207 - val_loss: 0.6783 - val_accuracy: 0.6154\n",
            "Epoch 14/100\n",
            "2/2 [==============================] - 11s 6s/step - loss: 0.6672 - accuracy: 0.6207 - val_loss: 0.6707 - val_accuracy: 0.6154\n",
            "Epoch 15/100\n",
            "2/2 [==============================] - 11s 6s/step - loss: 0.6731 - accuracy: 0.6207 - val_loss: 0.6663 - val_accuracy: 0.6154\n",
            "Epoch 16/100\n",
            "2/2 [==============================] - 9s 4s/step - loss: 0.6522 - accuracy: 0.6207 - val_loss: 0.6691 - val_accuracy: 0.6154\n",
            "1/1 [==============================] - 1s 633ms/step - loss: 0.6848 - accuracy: 0.6154\n",
            "1/1 [==============================] - 1s 1s/step - loss: 0.5908 - accuracy: 0.6923\n",
            "Test Accuracy: 0.6153846383094788\n"
          ]
        },
        {
          "output_type": "display_data",
          "data": {
            "text/plain": [
              "<Figure size 640x480 with 1 Axes>"
            ],
            "image/png": "[encoded data removed]"
          },
          "metadata": {}
        },
        {
          "output_type": "display_data",
          "data": {
            "text/plain": [
              "<Figure size 640x480 with 1 Axes>"
            ],
            "image/png": "[encoded data removed]"
          },
          "metadata": {}
        }
      ]
    },
    {
      "cell_type": "code",
      "source": [],
      "metadata": {
        "id": "V2LvjUTaiLkS"
      },
      "execution_count": null,
      "outputs": []
    },
    {
      "cell_type": "code",
      "source": [
        "import tensorflow as tf\n",
        "from tensorflow.keras import layers\n",
        "from keras.callbacks import EarlyStopping\n",
        "from sklearn.model_selection import train_test_split\n",
        "\n",
        "# Split the dataset into training, validation, and test sets\n",
        "# X_train, X_test, y_train, y_test = train_test_split(dataset, labels, test_size=test_ratio, stratify=labels, random_state=42)\n",
        "# X_train, X_val, y_train, y_val = train_test_split(X_train, y_train, test_size=val_ratio/(train_ratio+val_ratio), stratify=y_train, random_state=42)\n",
        "\n",
        "# Normalize the input data (if required)\n",
        "# X_train = X_train / 255.0\n",
        "# X_val = X_val / 255.0\n",
        "# X_test = X_test / 255.0\n",
        "\n",
        "# Reshape the input data based on the expected input shape of the model\n",
        "input_shape = X_train.shape[1:]  # Assuming the first dimension is the number of samples\n",
        "X_train = X_train.reshape((-1,) + input_shape)\n",
        "X_val = X_val.reshape((-1,) + input_shape)\n",
        "X_test = X_test.reshape((-1,) + input_shape)\n",
        "\n",
        "# Build the CNN model\n",
        "model = tf.keras.Sequential()\n",
        "model.add(layers.Conv2D(16, kernel_size=(6, 6),strides=2, activation='relu',padding='same', input_shape=input_shape))\n",
        "model.add(layers.MaxPooling2D(pool_size=(2, 2)))\n",
        "model.add(layers.Dropout(0.3))\n",
        "model.add(layers.Conv2D(32, kernel_size=(3, 3), activation='relu', input_shape=input_shape))\n",
        "model.add(layers.MaxPooling2D(pool_size=(2, 2)))\n",
        "model.add(layers.Dropout(0.3))\n",
        "model.add(layers.Conv2D(64, kernel_size=(3, 3), activation='relu'))\n",
        "model.add(layers.MaxPooling2D(pool_size=(2, 2)))\n",
        "model.add(layers.Dropout(0.3))\n",
        "model.add(layers.Flatten())\n",
        "model.add(layers.Dense(128, activation='relu'))\n",
        "model.add(layers.Dropout(0.3))\n",
        "model.add(layers.Dense(1, activation='sigmoid'))\n",
        "\n",
        "# Compile the model with the desired loss function and optimizer\n",
        "learning_rate = 0.001  # Specify your desired learning rate\n",
        "optimizer = tf.keras.optimizers.Adam(learning_rate=learning_rate)\n",
        "model.compile(optimizer=optimizer, loss='binary_crossentropy', metrics=['accuracy'])\n",
        "\n",
        "early_stopping = EarlyStopping(monitor='val_loss', patience=10, restore_best_weights=True)\n",
        "# Train the model\n",
        "history = model.fit(X_train, y_train, validation_data=(X_val, y_val), epochs=100, batch_size=32, callbacks=[early_stopping])\n",
        "\n",
        "# Evaluate the model on the test set\n",
        "test_loss, test_accuracy = model.evaluate(X_test, y_test)\n",
        "val_loss, val_accuracy = model.evaluate(X_val, y_val)\n",
        "\n",
        "# Print the test accuracy\n",
        "print(\"Test Accuracy:\", test_accuracy)"
      ],
      "metadata": {
        "id": "23tq6A0IWgPw"
      },
      "execution_count": null,
      "outputs": []
    },
    {
      "cell_type": "code",
      "source": [],
      "metadata": {
        "id": "YQhVnvQXWgWv"
      },
      "execution_count": null,
      "outputs": []
    }
  ]
}