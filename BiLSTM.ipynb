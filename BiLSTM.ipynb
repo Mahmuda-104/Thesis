{
  "nbformat": 4,
  "nbformat_minor": 0,
  "metadata": {
    "colab": {
      "provenance": [],
      "authorship_tag": "ABX9TyO10mjyCEOeEmdtR83hKx/6",
      "include_colab_link": true
    },
    "kernelspec": {
      "name": "python3",
      "display_name": "Python 3"
    },
    "language_info": {
      "name": "python"
    }
  },
  "cells": [
    {
      "cell_type": "markdown",
      "metadata": {
        "id": "view-in-github",
        "colab_type": "text"
      },
      "source": [
        "<a href=\"https://colab.research.google.com/github/Mahmuda-104/Thesis/blob/main/BiLSTM.ipynb\" target=\"_parent\"><img src=\"https://colab.research.google.com/assets/colab-badge.svg\" alt=\"Open In Colab\"/></a>"
      ]
    },
    {
      "cell_type": "code",
      "execution_count": 1,
      "metadata": {
        "id": "m-WwslmALdAK"
      },
      "outputs": [],
      "source": [
        "from google.colab import drive\n",
        "import os\n",
        "from scipy.io import loadmat"
      ]
    },
    {
      "cell_type": "code",
      "source": [
        "drive.mount('/content/drive')"
      ],
      "metadata": {
        "colab": {
          "base_uri": "https://localhost:8080/"
        },
        "id": "igUxGlrqLfZX",
        "outputId": "345204af-2594-4dfa-b94a-824baa0dfdb6"
      },
      "execution_count": 2,
      "outputs": [
        {
          "output_type": "stream",
          "name": "stdout",
          "text": [
            "Drive already mounted at /content/drive; to attempt to forcibly remount, call drive.mount(\"/content/drive\", force_remount=True).\n"
          ]
        }
      ]
    },
    {
      "cell_type": "code",
      "source": [
        "data_path = '/content/drive/My Drive/Data'"
      ],
      "metadata": {
        "id": "NHYkvHw8LfbK"
      },
      "execution_count": 3,
      "outputs": []
    },
    {
      "cell_type": "code",
      "source": [
        "import os\n",
        "import scipy.io\n",
        "import numpy as np\n",
        "from scipy import signal\n",
        "fs_original = 500\n",
        "fs_new = 250\n",
        "\n",
        "control_data = []\n",
        "control_path = os.path.join(data_path, 'Control')\n",
        "for foldername in os.listdir(control_path):\n",
        "    subfolder_path = os.path.join(control_path, foldername)\n",
        "    control_data.append(subfolder_path)\n",
        "\n",
        "Control30 = []\n",
        "for control_data_path in control_data:\n",
        "    n_epochs = 35 #len([f for f in os.listdir(control_data_path) if f.endswith('.mat')])\n",
        "    control_arr = []\n",
        "    for i in range(1, n_epochs+1):\n",
        "        epoch_path = f\"{control_data_path}/trial{i}.mat\"\n",
        "        mat_data = scipy.io.loadmat(epoch_path)\n",
        "        mat_data1 = mat_data[\"trialData_i\"]\n",
        "\n",
        "        # Downsampling\n",
        "        num_samples_original = mat_data1.shape[-1]\n",
        "        num_samples_new = int(num_samples_original * fs_new / fs_original)\n",
        "        downsampled_data = signal.resample(mat_data1, num_samples_new, axis=-1)\n",
        "\n",
        "        control_arr.append(np.array(downsampled_data))\n",
        "\n",
        "    Control30.append(np.array(control_arr))\n",
        "\n",
        "Control30 = np.array(Control30)\n",
        "print( Control30[0].shape)\n"
      ],
      "metadata": {
        "colab": {
          "base_uri": "https://localhost:8080/"
        },
        "id": "0dkjcUvOLfex",
        "outputId": "a9a220a3-b4cd-4abb-8a9f-879d43afd3d9"
      },
      "execution_count": 4,
      "outputs": [
        {
          "output_type": "stream",
          "name": "stdout",
          "text": [
            "(35, 60, 1000)\n"
          ]
        }
      ]
    },
    {
      "cell_type": "code",
      "source": [
        "import os\n",
        "import scipy.io\n",
        "import numpy as np\n",
        "from scipy import signal\n",
        "\n",
        "fs_original = 500\n",
        "fs_new = 250\n",
        "\n",
        "concussed_data = []\n",
        "concussed_path = os.path.join(data_path, 'Concussed')\n",
        "for foldername in os.listdir(concussed_path):\n",
        "    subfolder_path = os.path.join(concussed_path, foldername)\n",
        "    concussed_data.append(subfolder_path)\n",
        "\n",
        "Concussed52 = []\n",
        "for concussed_data_path in concussed_data:\n",
        "    n_epochs = 35 #len([f for f in os.listdir(control_data_path) if f.endswith('.mat')])\n",
        "    concussed_arr = []\n",
        "    for i in range(1, n_epochs+1):\n",
        "        epoch_path = f\"{concussed_data_path}/trial{i}.mat\"\n",
        "        mat_data = scipy.io.loadmat(epoch_path)\n",
        "        mat_data1 = mat_data[\"trialData_i\"]\n",
        "\n",
        "        # Downsampling\n",
        "        num_samples_original = mat_data1.shape[-1]\n",
        "        num_samples_new = int(num_samples_original * fs_new / fs_original)\n",
        "        downsampled_data = signal.resample(mat_data1, num_samples_new, axis=-1)\n",
        "\n",
        "        concussed_arr.append(np.array(downsampled_data))\n",
        "\n",
        "    Concussed52.append(np.array(concussed_arr))\n",
        "\n",
        "Concussed52 = np.array(Concussed52)\n",
        "print( Concussed52[0].shape)\n"
      ],
      "metadata": {
        "colab": {
          "base_uri": "https://localhost:8080/"
        },
        "id": "ulaaqikjLfgl",
        "outputId": "5710afb1-0e93-4c23-a2d5-9c0a8fe3502c"
      },
      "execution_count": 5,
      "outputs": [
        {
          "output_type": "stream",
          "name": "stdout",
          "text": [
            "(35, 60, 1000)\n"
          ]
        }
      ]
    },
    {
      "cell_type": "code",
      "source": [
        "import numpy as np\n",
        "from sklearn.model_selection import train_test_split\n",
        "from sklearn.preprocessing import MinMaxScaler\n",
        "\n",
        "# Step 1: Data Preparation\n",
        "# Combine control and concussed data\n",
        "data_combined = np.concatenate((Control30, Concussed52), axis=0)\n",
        "\n",
        "# Create labels for binary classification\n",
        "control_labels = np.zeros(Control30.shape[0])\n",
        "concussed_labels = np.ones(Concussed52.shape[0])\n",
        "labels_combined = np.concatenate((control_labels, concussed_labels))\n",
        "\n",
        "# Step 2: Split the data into training and testing sets\n",
        "x_train, x_test, y_train, y_test = train_test_split(data_combined, labels_combined, test_size=0.2, random_state=42)\n",
        "\n",
        "# Step 3: Normalize the data\n",
        "scaler = MinMaxScaler()\n",
        "x_train_normalized = scaler.fit_transform(x_train.reshape(x_train.shape[0], -1))\n",
        "x_test_normalized = scaler.transform(x_test.reshape(x_test.shape[0], -1))\n",
        "\n",
        "# Reshape the normalized data back to its original shape\n",
        "x_train_normalized = x_train_normalized.reshape(x_train.shape)\n",
        "x_test_normalized = x_test_normalized.reshape(x_test.shape)\n",
        "\n",
        "# Verify the shapes of the training and testing sets\n",
        "print(\"x_train shape:\", x_train_normalized.shape)\n",
        "print(\"y_train shape:\", y_train.shape)\n",
        "print(\"x_test shape:\", x_test_normalized.shape)\n",
        "print(\"y_test shape:\", y_test.shape)\n"
      ],
      "metadata": {
        "colab": {
          "base_uri": "https://localhost:8080/"
        },
        "id": "3R_NSxHELfks",
        "outputId": "ad1148a5-58a2-441b-f1bd-0922256c2f1f"
      },
      "execution_count": 6,
      "outputs": [
        {
          "output_type": "stream",
          "name": "stdout",
          "text": [
            "x_train shape: (67, 35, 60, 1000)\n",
            "y_train shape: (67,)\n",
            "x_test shape: (17, 35, 60, 1000)\n",
            "y_test shape: (17,)\n"
          ]
        }
      ]
    },
    {
      "cell_type": "code",
      "source": [
        "import numpy as np\n",
        "from sklearn.model_selection import train_test_split\n",
        "from sklearn.preprocessing import StandardScaler\n",
        "from keras.models import Sequential\n",
        "from keras.layers import LSTM, GRU, Dense, Dropout, Reshape, Bidirectional\n",
        "from keras.callbacks import EarlyStopping\n",
        "\n",
        "# Reshape the data\n",
        "x_train_reshaped = x_train.reshape(x_train.shape[0], -1)\n",
        "x_test_reshaped = x_test.reshape(x_test.shape[0], -1)\n",
        "\n",
        "# Standardize the data\n",
        "scaler = StandardScaler()\n",
        "x_train_scaled = scaler.fit_transform(x_train_reshaped)\n",
        "x_test_scaled = scaler.transform(x_test_reshaped)\n",
        "\n",
        "# Convert the labels to categorical (one-hot encoding)\n",
        "from keras.utils import to_categorical\n",
        "y_train_categorical = to_categorical(y_train)\n",
        "y_test_categorical = to_categorical(y_test)\n",
        "\n",
        "# Reshape the flattened data back to 3D shape\n",
        "x_train_scaled = x_train_scaled.reshape(x_train.shape[0], x_train.shape[1], -1)\n",
        "x_test_scaled = x_test_scaled.reshape(x_test.shape[0], x_test.shape[1], -1)\n",
        "\n",
        "# Build the model architecture\n",
        "model = Sequential()\n",
        "model.add(Bidirectional(LSTM(128, return_sequences=True), input_shape=(x_train.shape[1], x_train_scaled.shape[2])))\n",
        "model.add(Dropout(0.2))\n",
        "model.add(Bidirectional(LSTM(units=256, return_sequences=True)))\n",
        "model.add(Dropout(0.2))\n",
        "model.add(Bidirectional(LSTM(units=64, return_sequences=True)))\n",
        "model.add(Dropout(0.2))\n",
        "model.add(Bidirectional(GRU(units=64, return_sequences=True)))\n",
        "model.add(Dropout(0.2))\n",
        "model.add(Bidirectional(GRU(units=32)))\n",
        "model.add(Dropout(0.2))\n",
        "model.add(Dense(units=16, activation='relu'))\n",
        "model.add(Dense(units=2, activation='softmax'))\n",
        "\n",
        "# Compile the model\n",
        "model.compile(optimizer='adam', loss='categorical_crossentropy', metrics=['accuracy'])\n",
        "\n",
        "# Define early stopping\n",
        "early_stopping = EarlyStopping(monitor='val_loss', patience=20, restore_best_weights=True)\n",
        "\n",
        "# Train the model with early stopping\n",
        "history = model.fit(x_train_scaled, y_train_categorical, validation_data=(x_test_scaled, y_test_categorical),\n",
        "                    epochs=200, batch_size=256, callbacks=[early_stopping])\n",
        "\n",
        "# Evaluate the model on the test set\n",
        "loss, accuracy = model.evaluate(x_test_scaled, y_test_categorical)\n",
        "print('Test loss:', loss)\n",
        "print('Test accuracy:', accuracy)\n"
      ],
      "metadata": {
        "colab": {
          "base_uri": "https://localhost:8080/"
        },
        "id": "-NUQHGAJL5qD",
        "outputId": "84dbf116-65ae-4b64-cc91-ea67133e8894"
      },
      "execution_count": 7,
      "outputs": [
        {
          "output_type": "stream",
          "name": "stdout",
          "text": [
            "Epoch 1/200\n",
            "1/1 [==============================] - 64s 64s/step - loss: 0.6720 - accuracy: 0.6567 - val_loss: 0.6316 - val_accuracy: 0.7059\n",
            "Epoch 2/200\n",
            "1/1 [==============================] - 28s 28s/step - loss: 0.4868 - accuracy: 0.7761 - val_loss: 0.6589 - val_accuracy: 0.5882\n",
            "Epoch 3/200\n",
            "1/1 [==============================] - 24s 24s/step - loss: 0.2270 - accuracy: 1.0000 - val_loss: 0.7577 - val_accuracy: 0.6471\n",
            "Epoch 4/200\n",
            "1/1 [==============================] - 21s 21s/step - loss: 0.0994 - accuracy: 1.0000 - val_loss: 0.8947 - val_accuracy: 0.6471\n",
            "Epoch 5/200\n",
            "1/1 [==============================] - 22s 22s/step - loss: 0.0488 - accuracy: 1.0000 - val_loss: 1.0530 - val_accuracy: 0.5882\n",
            "Epoch 6/200\n",
            "1/1 [==============================] - 23s 23s/step - loss: 0.0209 - accuracy: 1.0000 - val_loss: 1.2106 - val_accuracy: 0.6471\n",
            "Epoch 7/200\n",
            "1/1 [==============================] - 24s 24s/step - loss: 0.0117 - accuracy: 1.0000 - val_loss: 1.3748 - val_accuracy: 0.6471\n",
            "Epoch 8/200\n",
            "1/1 [==============================] - 21s 21s/step - loss: 0.0067 - accuracy: 1.0000 - val_loss: 1.5435 - val_accuracy: 0.6471\n",
            "Epoch 9/200\n",
            "1/1 [==============================] - 32s 32s/step - loss: 0.0036 - accuracy: 1.0000 - val_loss: 1.7092 - val_accuracy: 0.6471\n",
            "Epoch 10/200\n",
            "1/1 [==============================] - 23s 23s/step - loss: 0.0026 - accuracy: 1.0000 - val_loss: 1.8622 - val_accuracy: 0.6471\n",
            "Epoch 11/200\n",
            "1/1 [==============================] - 24s 24s/step - loss: 0.0017 - accuracy: 1.0000 - val_loss: 1.9959 - val_accuracy: 0.6471\n",
            "Epoch 12/200\n",
            "1/1 [==============================] - 21s 21s/step - loss: 0.0012 - accuracy: 1.0000 - val_loss: 2.1170 - val_accuracy: 0.6471\n",
            "Epoch 13/200\n",
            "1/1 [==============================] - 24s 24s/step - loss: 9.9768e-04 - accuracy: 1.0000 - val_loss: 2.2252 - val_accuracy: 0.6471\n",
            "Epoch 14/200\n",
            "1/1 [==============================] - 21s 21s/step - loss: 0.0011 - accuracy: 1.0000 - val_loss: 2.3196 - val_accuracy: 0.6471\n",
            "Epoch 15/200\n",
            "1/1 [==============================] - 24s 24s/step - loss: 5.7550e-04 - accuracy: 1.0000 - val_loss: 2.4006 - val_accuracy: 0.6471\n",
            "Epoch 16/200\n",
            "1/1 [==============================] - 21s 21s/step - loss: 6.9878e-04 - accuracy: 1.0000 - val_loss: 2.4690 - val_accuracy: 0.6471\n",
            "Epoch 17/200\n",
            "1/1 [==============================] - 23s 23s/step - loss: 5.8421e-04 - accuracy: 1.0000 - val_loss: 2.5241 - val_accuracy: 0.6471\n",
            "Epoch 18/200\n",
            "1/1 [==============================] - 21s 21s/step - loss: 4.5446e-04 - accuracy: 1.0000 - val_loss: 2.5691 - val_accuracy: 0.6471\n",
            "Epoch 19/200\n",
            "1/1 [==============================] - 23s 23s/step - loss: 3.7109e-04 - accuracy: 1.0000 - val_loss: 2.6062 - val_accuracy: 0.6471\n",
            "Epoch 20/200\n",
            "1/1 [==============================] - 21s 21s/step - loss: 3.6539e-04 - accuracy: 1.0000 - val_loss: 2.6369 - val_accuracy: 0.6471\n",
            "Epoch 21/200\n",
            "1/1 [==============================] - 23s 23s/step - loss: 2.8863e-04 - accuracy: 1.0000 - val_loss: 2.6629 - val_accuracy: 0.6471\n",
            "1/1 [==============================] - 2s 2s/step - loss: 0.6316 - accuracy: 0.7059\n",
            "Test loss: 0.631605327129364\n",
            "Test accuracy: 0.7058823704719543\n"
          ]
        }
      ]
    },
    {
      "cell_type": "code",
      "source": [
        "import numpy as np\n",
        "from sklearn.metrics import confusion_matrix, classification_report\n",
        "\n",
        "\n",
        "y_pred_probs = model.predict(x_test_scaled)\n",
        "\n",
        "y_pred = np.argmax(y_pred_probs, axis=1)\n",
        "\n",
        "y_test_single = np.argmax(y_test_categorical, axis=1)\n",
        "\n",
        "cm = confusion_matrix(y_test_single, y_pred)\n",
        "\n",
        "report = classification_report(y_test_single, y_pred)\n",
        "\n",
        "print(\"Confusion Matrix:\")\n",
        "print(cm)\n",
        "print(\"\\nClassification Report:\")\n",
        "print(report)\n"
      ],
      "metadata": {
        "colab": {
          "base_uri": "https://localhost:8080/"
        },
        "id": "3KjtphpLL5r_",
        "outputId": "8d9dbfa3-f0c9-454a-e886-a8d82355e10f"
      },
      "execution_count": 9,
      "outputs": [
        {
          "output_type": "stream",
          "name": "stdout",
          "text": [
            "1/1 [==============================] - 2s 2s/step\n",
            "Confusion Matrix:\n",
            "[[ 2  4]\n",
            " [ 1 10]]\n",
            "\n",
            "Classification Report:\n",
            "              precision    recall  f1-score   support\n",
            "\n",
            "           0       0.67      0.33      0.44         6\n",
            "           1       0.71      0.91      0.80        11\n",
            "\n",
            "    accuracy                           0.71        17\n",
            "   macro avg       0.69      0.62      0.62        17\n",
            "weighted avg       0.70      0.71      0.67        17\n",
            "\n"
          ]
        }
      ]
    },
    {
      "cell_type": "code",
      "source": [],
      "metadata": {
        "id": "3m4LxCoDL5wP"
      },
      "execution_count": 8,
      "outputs": []
    },
    {
      "cell_type": "code",
      "source": [],
      "metadata": {
        "id": "ekDTmpdXL5x0"
      },
      "execution_count": 8,
      "outputs": []
    }
  ]
}