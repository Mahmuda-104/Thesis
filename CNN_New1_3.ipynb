{
  "cells": [
    {
      "cell_type": "markdown",
      "metadata": {
        "id": "view-in-github",
        "colab_type": "text"
      },
      "source": [
        "<a href=\"https://colab.research.google.com/github/Mahmuda-104/Thesis/blob/main/CNN_New1_3.ipynb\" target=\"_parent\"><img src=\"https://colab.research.google.com/assets/colab-badge.svg\" alt=\"Open In Colab\"/></a>"
      ]
    },
    {
      "cell_type": "code",
      "execution_count": 1,
      "metadata": {
        "id": "Ys5wsnPiDABT"
      },
      "outputs": [],
      "source": [
        "from google.colab import drive\n",
        "import os\n",
        "from scipy.io import loadmat"
      ]
    },
    {
      "cell_type": "code",
      "execution_count": 2,
      "metadata": {
        "colab": {
          "base_uri": "https://localhost:8080/"
        },
        "id": "LBfziNCXDEUH",
        "outputId": "a7d807a1-8881-4a81-be1b-effaa55d97b1"
      },
      "outputs": [
        {
          "output_type": "stream",
          "name": "stdout",
          "text": [
            "Mounted at /content/drive\n"
          ]
        }
      ],
      "source": [
        "drive.mount('/content/drive')"
      ]
    },
    {
      "cell_type": "code",
      "execution_count": 3,
      "metadata": {
        "id": "vHuWQYqvDEV0"
      },
      "outputs": [],
      "source": [
        "data_path = '/content/drive/My Drive/Data'"
      ]
    },
    {
      "cell_type": "code",
      "execution_count": 4,
      "metadata": {
        "colab": {
          "base_uri": "https://localhost:8080/"
        },
        "id": "8N7M_q0rDEZG",
        "outputId": "5d08460b-a0d7-4000-f85b-0fc60d81bdc7"
      },
      "outputs": [
        {
          "output_type": "stream",
          "name": "stdout",
          "text": [
            "(30, 60, 1000)\n"
          ]
        }
      ],
      "source": [
        "import os\n",
        "import scipy.io\n",
        "import numpy as np\n",
        "from scipy import signal\n",
        "\n",
        "lowcut = 0.5 \n",
        "highcut = 100  \n",
        "fs_original = 500\n",
        "fs_new = 250\n",
        "\n",
        "control_data = []\n",
        "control_path = os.path.join(data_path, 'Control')\n",
        "for foldername in os.listdir(control_path):\n",
        "    subfolder_path = os.path.join(control_path, foldername)\n",
        "    control_data.append(subfolder_path)\n",
        "\n",
        "Control30 = []\n",
        "for control_data_path in control_data:\n",
        "    n_epochs = 30 #len([f for f in os.listdir(control_data_path) if f.endswith('.mat')])\n",
        "    control_arr = []\n",
        "    for i in range(1, n_epochs+1):\n",
        "        epoch_path = f\"{control_data_path}/trial{i}.mat\"\n",
        "        mat_data = scipy.io.loadmat(epoch_path)\n",
        "        mat_data1 = mat_data[\"trialData_i\"]\n",
        "        \n",
        "        # b, a = signal.butter(4, [lowcut, highcut], fs=fs_original, btype='band')\n",
        "        # filtered_data = signal.filtfilt(b, a, mat_data1, axis=-1)\n",
        "        filtered_data=mat_data1\n",
        "        \n",
        "        # Downsampling\n",
        "        num_samples_original = filtered_data.shape[-1]\n",
        "        num_samples_new = int(num_samples_original * fs_new / fs_original)\n",
        "        downsampled_data = signal.resample(filtered_data, num_samples_new, axis=-1)\n",
        "        \n",
        "        control_arr.append(np.array(downsampled_data))\n",
        "        \n",
        "    Control30.append(np.array(control_arr))\n",
        "\n",
        "Control30 = np.array(Control30)\n",
        "print( Control30[0].shape)\n"
      ]
    },
    {
      "cell_type": "code",
      "execution_count": 5,
      "metadata": {
        "colab": {
          "base_uri": "https://localhost:8080/"
        },
        "id": "cbRaVo4WDEbb",
        "outputId": "077726b3-aba8-42b1-fb44-497684513b56"
      },
      "outputs": [
        {
          "output_type": "stream",
          "name": "stdout",
          "text": [
            "Filtered and downsampled data shape: (32, 30, 60, 1000)\n"
          ]
        }
      ],
      "source": [
        "print(\"Filtered and downsampled data shape:\", Control30.shape)"
      ]
    },
    {
      "cell_type": "code",
      "execution_count": 6,
      "metadata": {
        "colab": {
          "base_uri": "https://localhost:8080/"
        },
        "id": "6rspEww5DEel",
        "outputId": "4bbfcfe7-aa9a-4cf4-ec67-105d4ec16656"
      },
      "outputs": [
        {
          "output_type": "stream",
          "name": "stdout",
          "text": [
            "(30, 60, 1000)\n"
          ]
        }
      ],
      "source": [
        "import os\n",
        "import scipy.io\n",
        "import numpy as np\n",
        "from scipy import signal\n",
        "\n",
        "lowcut = 0.5 \n",
        "highcut = 100  \n",
        "fs_original = 500\n",
        "fs_new = 250  \n",
        "\n",
        "concussed_data = []\n",
        "concussed_path = os.path.join(data_path, 'Concussed')\n",
        "for foldername in os.listdir(concussed_path):\n",
        "    subfolder_path = os.path.join(concussed_path, foldername)\n",
        "    concussed_data.append(subfolder_path)\n",
        "\n",
        "Concussed49 = []\n",
        "for concussed_data_path in concussed_data:\n",
        "    n_epochs = 30 #len([f for f in os.listdir(control_data_path) if f.endswith('.mat')])\n",
        "    concussed_arr = []\n",
        "    for i in range(1, n_epochs+1):\n",
        "        epoch_path = f\"{concussed_data_path}/trial{i}.mat\"\n",
        "        mat_data = scipy.io.loadmat(epoch_path)\n",
        "        mat_data1 = mat_data[\"trialData_i\"]\n",
        "        \n",
        "        # b, a = signal.butter(4, [lowcut, highcut], fs=fs_original, btype='band')\n",
        "        # filtered_data = signal.filtfilt(b, a, mat_data1, axis=-1)\n",
        "        filtered_data=mat_data1\n",
        "        \n",
        "        # Downsampling\n",
        "        num_samples_original = filtered_data.shape[-1]\n",
        "        num_samples_new = int(num_samples_original * fs_new / fs_original)\n",
        "        downsampled_data = signal.resample(filtered_data, num_samples_new, axis=-1)\n",
        "        \n",
        "        concussed_arr.append(np.array(downsampled_data))\n",
        "        \n",
        "    Concussed49.append(np.array(concussed_arr))\n",
        "\n",
        "Concussed49 = np.array(Concussed49)\n",
        "print( Concussed49[0].shape)\n"
      ]
    },
    {
      "cell_type": "code",
      "execution_count": 15,
      "metadata": {
        "colab": {
          "base_uri": "https://localhost:8080/"
        },
        "id": "rmbCNweVDEgP",
        "outputId": "3553f81e-96d1-41d2-c97e-fdef810c47fa"
      },
      "outputs": [
        {
          "output_type": "stream",
          "name": "stdout",
          "text": [
            "Filtered and downsampled data shape: (52, 30, 60, 1000)\n"
          ]
        }
      ],
      "source": [
        "print(\"Filtered and downsampled data shape:\", Concussed49.shape)"
      ]
    },
    {
      "cell_type": "code",
      "execution_count": 8,
      "metadata": {
        "id": "4mUaKEemDdUs"
      },
      "outputs": [],
      "source": [
        "# import numpy as np\n",
        "# from sklearn.model_selection import train_test_split\n",
        "# dataset = np.concatenate((Control30, Concussed49), axis=0)\n",
        "\n",
        "# #(0 for control, 1 for concussed)\n",
        "# labels = np.concatenate((np.zeros(len(Control30)), np.ones(len(Concussed49))))\n"
      ]
    },
    {
      "cell_type": "code",
      "source": [
        "import numpy as np\n",
        "import tensorflow as tf\n",
        "from tensorflow.keras import layers\n",
        "\n",
        "# Define your dataset and labels\n",
        "dataset = np.concatenate((Control30, Concussed49), axis=0)\n",
        "labels = np.concatenate((np.zeros(len(Control30)), np.ones(len(Concussed49))))\n",
        "\n",
        "# Define the number of training datasets you want to use\n",
        "num_train_datasets = 5\n",
        "\n",
        "# Define the size of the training set and testing set\n",
        "train_ratio = 0.8\n",
        "test_ratio = 0.2\n",
        "\n",
        "# Calculate the total number of datasets and the step size for each iteration\n",
        "total_datasets = len(dataset)\n",
        "step_size = int((total_datasets - train_ratio * total_datasets) / (num_train_datasets - 1))\n",
        "\n",
        "for i in range(num_train_datasets):\n",
        "    # Calculate the starting index for the current training set\n",
        "    start_idx = i * step_size\n",
        "\n",
        "    # Calculate the ending index for the current training set\n",
        "    end_idx = int(start_idx + train_ratio * total_datasets)\n",
        "\n",
        "    # Extract the current training set\n",
        "    X_train = dataset[start_idx:end_idx]\n",
        "    y_train = labels[start_idx:end_idx]\n",
        "\n",
        "    # Extract the current testing set\n",
        "    X_test = dataset[end_idx:]\n",
        "    y_test = labels[end_idx:]\n",
        "\n",
        "    # Normalize the input data (if required)\n",
        "    # X_train = X_train / 255.0\n",
        "    # X_test = X_test / 255.0\n",
        "\n",
        "    # Reshape the input data based on the expected input shape of the model\n",
        "    input_shape = X_train.shape[1:]\n",
        "    X_train = X_train.reshape((-1,) + input_shape)\n",
        "    X_test = X_test.reshape((-1,) + input_shape)\n",
        "\n",
        "    # Build the model\n",
        "    model = tf.keras.Sequential()\n",
        "    model.add(layers.Conv2D(16, kernel_size=(6, 6), strides=2, activation='relu', padding='same', input_shape=input_shape))\n",
        "    model.add(layers.MaxPooling2D(pool_size=(2, 2)))\n",
        "    model.add(layers.Dropout(0.5))\n",
        "    model.add(layers.Conv2D(32, kernel_size=(3, 3), activation='relu', strides=1, padding='same'))\n",
        "    model.add(layers.MaxPooling2D(pool_size=(2, 2)))\n",
        "    model.add(layers.Dropout(0.5))\n",
        "    model.add(layers.Conv2D(64, kernel_size=(3, 3), activation='relu', strides=1, padding='same'))\n",
        "    model.add(layers.MaxPooling2D(pool_size=(2, 2)))\n",
        "    model.add(layers.Dropout(0.5))\n",
        "    model.add(layers.Flatten())\n",
        "    model.add(layers.Dense(256, activation='relu'))\n",
        "    model.add(layers.Dropout(0.5))\n",
        "    model.add(layers.Dense(2, activation='softmax'))\n",
        "\n",
        "    learning_rate = 0.005  # Specify your desired learning rate\n",
        "    optimizer = tf.keras.optimizers.Adam(learning_rate=learning_rate)\n",
        "    model.compile(optimizer=optimizer, loss='sparse_categorical_crossentropy', metrics=['accuracy'])\n",
        "\n",
        "    # Train the model\n",
        "    model.fit(X_train, y_train, epochs=100, batch_size=32, verbose=0)\n",
        "\n",
        "    # Evaluate the model on the testing set\n",
        "    test_loss, test_accuracy = model.evaluate(X_test, y_test)\n",
        "\n",
        "    # Print the iteration number and test accuracy\n",
        "    print(\"Iteration:\", i+1)\n",
        "    print(\"Test Accuracy:\", test_accuracy)\n"
      ],
      "metadata": {
        "colab": {
          "base_uri": "https://localhost:8080/"
        },
        "id": "24uw_cTbcx8f",
        "outputId": "4626220a-1241-45d0-aba8-e183c1ffdb1d"
      },
      "execution_count": 20,
      "outputs": [
        {
          "output_type": "stream",
          "name": "stdout",
          "text": [
            "1/1 [==============================] - 1s 1s/step - loss: 1.7850 - accuracy: 0.8824\n",
            "Iteration: 1\n",
            "Test Accuracy: 0.8823529481887817\n",
            "1/1 [==============================] - 1s 873ms/step - loss: 0.6240 - accuracy: 1.0000\n",
            "Iteration: 2\n",
            "Test Accuracy: 1.0\n",
            "1/1 [==============================] - 0s 454ms/step - loss: 0.4565 - accuracy: 1.0000\n",
            "Iteration: 3\n",
            "Test Accuracy: 1.0\n",
            "1/1 [==============================] - 0s 317ms/step - loss: 0.4287 - accuracy: 1.0000\n",
            "Iteration: 4\n",
            "Test Accuracy: 1.0\n"
          ]
        },
        {
          "output_type": "stream",
          "name": "stderr",
          "text": [
            "WARNING:tensorflow:5 out of the last 5 calls to <function Model.make_test_function.<locals>.test_function at 0x7fdc24981750> triggered tf.function retracing. Tracing is expensive and the excessive number of tracings could be due to (1) creating @tf.function repeatedly in a loop, (2) passing tensors with different shapes, (3) passing Python objects instead of tensors. For (1), please define your @tf.function outside of the loop. For (2), @tf.function has reduce_retracing=True option that can avoid unnecessary retracing. For (3), please refer to https://www.tensorflow.org/guide/function#controlling_retracing and https://www.tensorflow.org/api_docs/python/tf/function for  more details.\n"
          ]
        },
        {
          "output_type": "stream",
          "name": "stdout",
          "text": [
            "1/1 [==============================] - 0s 194ms/step - loss: 0.3097 - accuracy: 1.0000\n",
            "Iteration: 5\n",
            "Test Accuracy: 1.0\n"
          ]
        }
      ]
    },
    {
      "cell_type": "code",
      "source": [
        "print(\"Test Accuracy:\", test_accuracy)"
      ],
      "metadata": {
        "colab": {
          "base_uri": "https://localhost:8080/",
          "height": 167
        },
        "id": "onog04fqODp1",
        "outputId": "f200c7b6-709d-494a-f3c3-bca4f406dac8"
      },
      "execution_count": 13,
      "outputs": [
        {
          "output_type": "error",
          "ename": "NameError",
          "evalue": "ignored",
          "traceback": [
            "\u001b[0;31m---------------------------------------------------------------------------\u001b[0m",
            "\u001b[0;31mNameError\u001b[0m                                 Traceback (most recent call last)",
            "\u001b[0;32m<ipython-input-13-8de69a845e2a>\u001b[0m in \u001b[0;36m<cell line: 1>\u001b[0;34m()\u001b[0m\n\u001b[0;32m----> 1\u001b[0;31m \u001b[0mprint\u001b[0m\u001b[0;34m(\u001b[0m\u001b[0;34m\"Test Accuracy:\"\u001b[0m\u001b[0;34m,\u001b[0m \u001b[0mtest_accuracy\u001b[0m\u001b[0;34m)\u001b[0m\u001b[0;34m\u001b[0m\u001b[0;34m\u001b[0m\u001b[0m\n\u001b[0m",
            "\u001b[0;31mNameError\u001b[0m: name 'test_accuracy' is not defined"
          ]
        }
      ]
    },
    {
      "cell_type": "code",
      "execution_count": 10,
      "metadata": {
        "id": "kXVdx5hkDdWw"
      },
      "outputs": [],
      "source": [
        "train_ratio = 0.8  # 80% for training\n",
        "val_ratio = 0.1   # 10% for validation\n",
        "test_ratio = 0.1  # 10% for testing"
      ]
    },
    {
      "cell_type": "code",
      "execution_count": 11,
      "metadata": {
        "id": "gGhNAeHuDdZ4",
        "colab": {
          "base_uri": "https://localhost:8080/",
          "height": 201
        },
        "outputId": "a21338b6-08a1-4282-c612-d068553666ec"
      },
      "outputs": [
        {
          "output_type": "error",
          "ename": "NameError",
          "evalue": "ignored",
          "traceback": [
            "\u001b[0;31m---------------------------------------------------------------------------\u001b[0m",
            "\u001b[0;31mNameError\u001b[0m                                 Traceback (most recent call last)",
            "\u001b[0;32m<ipython-input-11-814dcd38b7b9>\u001b[0m in \u001b[0;36m<cell line: 1>\u001b[0;34m()\u001b[0m\n\u001b[0;32m----> 1\u001b[0;31m \u001b[0mX_train\u001b[0m\u001b[0;34m,\u001b[0m \u001b[0mX_test\u001b[0m\u001b[0;34m,\u001b[0m \u001b[0my_train\u001b[0m\u001b[0;34m,\u001b[0m \u001b[0my_test\u001b[0m \u001b[0;34m=\u001b[0m \u001b[0mtrain_test_split\u001b[0m\u001b[0;34m(\u001b[0m\u001b[0mdataset\u001b[0m\u001b[0;34m,\u001b[0m \u001b[0mlabels\u001b[0m\u001b[0;34m,\u001b[0m \u001b[0mtest_size\u001b[0m\u001b[0;34m=\u001b[0m\u001b[0mtest_ratio\u001b[0m\u001b[0;34m,\u001b[0m \u001b[0mstratify\u001b[0m\u001b[0;34m=\u001b[0m\u001b[0mlabels\u001b[0m\u001b[0;34m,\u001b[0m \u001b[0mrandom_state\u001b[0m\u001b[0;34m=\u001b[0m\u001b[0;36m42\u001b[0m\u001b[0;34m)\u001b[0m\u001b[0;34m\u001b[0m\u001b[0;34m\u001b[0m\u001b[0m\n\u001b[0m\u001b[1;32m      2\u001b[0m \u001b[0mX_train\u001b[0m\u001b[0;34m,\u001b[0m \u001b[0mX_val\u001b[0m\u001b[0;34m,\u001b[0m \u001b[0my_train\u001b[0m\u001b[0;34m,\u001b[0m \u001b[0my_val\u001b[0m \u001b[0;34m=\u001b[0m \u001b[0mtrain_test_split\u001b[0m\u001b[0;34m(\u001b[0m\u001b[0mX_train\u001b[0m\u001b[0;34m,\u001b[0m \u001b[0my_train\u001b[0m\u001b[0;34m,\u001b[0m \u001b[0mtest_size\u001b[0m\u001b[0;34m=\u001b[0m\u001b[0mval_ratio\u001b[0m\u001b[0;34m/\u001b[0m\u001b[0;34m(\u001b[0m\u001b[0mtrain_ratio\u001b[0m\u001b[0;34m+\u001b[0m\u001b[0mval_ratio\u001b[0m\u001b[0;34m)\u001b[0m\u001b[0;34m,\u001b[0m \u001b[0mstratify\u001b[0m\u001b[0;34m=\u001b[0m\u001b[0my_train\u001b[0m\u001b[0;34m,\u001b[0m \u001b[0mrandom_state\u001b[0m\u001b[0;34m=\u001b[0m\u001b[0;36m42\u001b[0m\u001b[0;34m)\u001b[0m\u001b[0;34m\u001b[0m\u001b[0;34m\u001b[0m\u001b[0m\n",
            "\u001b[0;31mNameError\u001b[0m: name 'train_test_split' is not defined"
          ]
        }
      ],
      "source": [
        "X_train, X_test, y_train, y_test = train_test_split(dataset, labels, test_size=test_ratio, stratify=labels, random_state=42)\n",
        "X_train, X_val, y_train, y_val = train_test_split(X_train, y_train, test_size=val_ratio/(train_ratio+val_ratio), stratify=y_train, random_state=42)"
      ]
    },
    {
      "cell_type": "code",
      "execution_count": null,
      "metadata": {
        "id": "dvwN3RCgDdbq"
      },
      "outputs": [],
      "source": [
        "import tensorflow as tf\n",
        "from tensorflow.keras import layers\n",
        "from keras.callbacks import EarlyStopping\n",
        "\n",
        "# Normalize the input data (if required)\n",
        "# X_train = X_train / 255.0\n",
        "# X_val = X_val / 255.0\n",
        "# X_test = X_test / 255.0\n",
        "\n",
        "# Reshape the input data based on the expected input shape of the model\n",
        "input_shape = X_train.shape[1:]  # Assuming the first dimension is the number of samples\n",
        "X_train = X_train.reshape((-1,) + input_shape)\n",
        "X_val = X_val.reshape((-1,) + input_shape)\n",
        "X_test = X_test.reshape((-1,) + input_shape)\n",
        "\n",
        "# Build the CNN model\n",
        "model = tf.keras.Sequential()\n",
        "model.add(layers.Conv2D(16, kernel_size=(6, 6), strides=2, activation='relu', padding='same', input_shape=input_shape))\n",
        "model.add(layers.MaxPooling2D(pool_size=(2, 2)))\n",
        "model.add(layers.Dropout(0.5))\n",
        "model.add(layers.Conv2D(32, kernel_size=(3, 3), activation='relu', strides=1, padding='same'))\n",
        "model.add(layers.MaxPooling2D(pool_size=(2, 2)))\n",
        "model.add(layers.Dropout(0.5))\n",
        "model.add(layers.Conv2D(64, kernel_size=(3, 3), activation='relu', strides=1, padding='same'))\n",
        "model.add(layers.MaxPooling2D(pool_size=(2, 2)))\n",
        "model.add(layers.Dropout(0.5))\n",
        "model.add(layers.Flatten())\n",
        "model.add(layers.Dense(256, activation='relu'))\n",
        "model.add(layers.Dropout(0.5))\n",
        "model.add(layers.Dense(2, activation='softmax'))\n",
        "\n",
        "learning_rate = 0.005  # Specify your desired learning rate\n",
        "optimizer = tf.keras.optimizers.Adam(learning_rate=learning_rate)\n",
        "model.compile(optimizer=optimizer, loss='sparse_categorical_crossentropy', metrics=['accuracy'])\n",
        "\n",
        "# Define the early stopping callback\n",
        "early_stopping = EarlyStopping(monitor='val_loss', patience=10, restore_best_weights=True)\n",
        "\n",
        "# Train the model with early stopping\n",
        "history = model.fit(X_train, y_train, validation_data=(X_val, y_val), epochs=100, batch_size=32, callbacks=[early_stopping])\n",
        "\n",
        "# Evaluate the model on the test set\n",
        "test_loss, test_accuracy = model.evaluate(X_test, y_test)\n",
        "val_loss, val_accuracy = model.evaluate(X_val, y_val)\n",
        "\n",
        "# Print the test accuracy\n",
        "print(\"Test Accuracy:\", test_accuracy)"
      ]
    },
    {
      "cell_type": "code",
      "execution_count": null,
      "metadata": {
        "id": "FdJKSNLwoQyq"
      },
      "outputs": [],
      "source": [
        "import tensorflow as tf\n",
        "from tensorflow.keras import layers\n",
        "from sklearn.model_selection import GridSearchCV\n",
        "from tensorflow.keras.wrappers.scikit_learn import KerasClassifier\n",
        "from sklearn.metrics import accuracy_score\n",
        "input_shape = X_train.shape[1:]  # Assuming the first dimension is the number of samples\n",
        "X_train = X_train.reshape((-1,) + input_shape)\n",
        "X_val = X_val.reshape((-1,) + input_shape)\n",
        "X_test = X_test.reshape((-1,) + input_shape)\n",
        "\n",
        "# Define a function that creates your CNN model\n",
        "def create_model(learning_rate=0.005, dropout_rate=0.5):\n",
        "    model = tf.keras.Sequential()\n",
        "    model.add(layers.Conv2D(16, kernel_size=(6, 6), strides=2, activation='relu', padding='same', input_shape=input_shape))\n",
        "    model.add(layers.MaxPooling2D(pool_size=(2, 2)))\n",
        "    model.add(layers.Dropout(dropout_rate))\n",
        "    model.add(layers.Conv2D(32, kernel_size=(3, 3), activation='relu', strides=1, padding='same'))\n",
        "    model.add(layers.MaxPooling2D(pool_size=(2, 2)))\n",
        "    model.add(layers.Dropout(dropout_rate))\n",
        "    model.add(layers.Conv2D(64, kernel_size=(3, 3), activation='relu', strides=1, padding='same'))\n",
        "    model.add(layers.MaxPooling2D(pool_size=(2, 2)))\n",
        "    model.add(layers.Dropout(dropout_rate))\n",
        "    model.add(layers.Flatten())\n",
        "    model.add(layers.Dense(256, activation='relu'))\n",
        "    model.add(layers.Dropout(dropout_rate))\n",
        "    model.add(layers.Dense(2, activation='softmax'))\n",
        "\n",
        "    # Compile the model\n",
        "    optimizer = tf.keras.optimizers.Adam(learning_rate=learning_rate)\n",
        "    model.compile(optimizer=optimizer, loss='sparse_categorical_crossentropy', metrics=['accuracy'])\n",
        "    return model\n",
        "\n",
        "# Create a KerasClassifier based on your model function\n",
        "model = KerasClassifier(build_fn=create_model, verbose=0)\n",
        "\n",
        "# Define the hyperparameters and their possible values for grid search\n",
        "param_grid = {\n",
        "    'learning_rate': [0.001, 0.005, 0.01],\n",
        "    'dropout_rate': [0.3, 0.5, 0.7],\n",
        "    'epochs': [10, 20, 30],\n",
        "    'batch_size': [16, 32, 64]\n",
        "}\n",
        "\n",
        "# Create the grid search object\n",
        "grid_search = GridSearchCV(estimator=model, param_grid=param_grid, cv=3)\n",
        "\n",
        "# Perform the grid search\n",
        "grid_search.fit(X_train, y_train)\n",
        "\n",
        "# Get the best parameters and model\n",
        "best_params = grid_search.best_params_\n",
        "best_model = grid_search.best_estimator_\n",
        "\n",
        "# Evaluate the best model on the test set\n",
        "test_loss, test_accuracy = best_model.model.evaluate(X_test, y_test)\n",
        "val_accuracy = best_model.model.evaluate(X_val, y_val)\n",
        "\n",
        "# Print the best parameters and test accuracy\n",
        "print(\"Best Parameters:\", best_params)\n",
        "print(\"Test Accuracy:\", test_accuracy)\n",
        "print(\"Validation Accuracy:\", val_accuracy)\n",
        "\n",
        "# Predict on the test set using the best model\n",
        "y_pred = best_model.predict(X_test)\n",
        "test_accuracy = accuracy_score(y_test, y_pred)\n",
        "print(\"Test Accuracy (using predictions):\", test_accuracy)\n"
      ]
    },
    {
      "cell_type": "code",
      "execution_count": null,
      "metadata": {
        "id": "7DjRLwBcMew8"
      },
      "outputs": [],
      "source": [
        "import tensorflow as tf\n",
        "from tensorflow.keras import layers\n",
        "from sklearn.model_selection import train_test_split\n",
        "\n",
        "# Split the dataset into training, validation, and test sets\n",
        "# X_train, X_test, y_train, y_test = train_test_split(dataset, labels, test_size=test_ratio, stratify=labels, random_state=42)\n",
        "# X_train, X_val, y_train, y_val = train_test_split(X_train, y_train, test_size=val_ratio/(train_ratio+val_ratio), stratify=y_train, random_state=42)\n",
        "\n",
        "# Normalize the input data (if required)\n",
        "# X_train = X_train / 255.0\n",
        "# X_val = X_val / 255.0\n",
        "# X_test = X_test / 255.0\n",
        "\n",
        "# Reshape the input data based on the expected input shape of the model\n",
        "input_shape = X_train.shape[1:]  # Assuming the first dimension is the number of samples\n",
        "X_train = X_train.reshape((-1,) + input_shape)\n",
        "X_val = X_val.reshape((-1,) + input_shape)\n",
        "X_test = X_test.reshape((-1,) + input_shape)\n",
        "\n",
        "# Build the CNN model\n",
        "model = tf.keras.Sequential()\n",
        "model.add(layers.Conv2D(16, kernel_size=(6, 6),strides=2, activation='relu',padding='same', input_shape=input_shape))\n",
        "model.add(layers.MaxPooling2D(pool_size=(2, 2)))\n",
        "model.add(layers.Conv2D(32, kernel_size=(3, 3), activation='relu', input_shape=input_shape))\n",
        "model.add(layers.MaxPooling2D(pool_size=(2, 2)))\n",
        "model.add(layers.Conv2D(64, kernel_size=(3, 3), activation='relu'))\n",
        "model.add(layers.MaxPooling2D(pool_size=(2, 2)))\n",
        "model.add(layers.Flatten())\n",
        "model.add(layers.Dense(128, activation='relu'))\n",
        "model.add(layers.Dense(1, activation='sigmoid'))\n",
        "\n",
        "# Compile the model with the desired loss function and optimizer\n",
        "learning_rate = 0.05  # Specify your desired learning rate\n",
        "optimizer = tf.keras.optimizers.Adam(learning_rate=learning_rate)\n",
        "model.compile(optimizer=optimizer, loss='binary_crossentropy', metrics=['accuracy'])\n",
        "\n",
        "# Train the model\n",
        "history = model.fit(X_train, y_train, validation_data=(X_val, y_val), epochs=20, batch_size=32)\n",
        "\n",
        "# Evaluate the model on the test set\n",
        "test_loss, test_accuracy = model.evaluate(X_test, y_test)\n",
        "\n",
        "# Print the test accuracy\n",
        "print(\"Test Accuracy:\", test_accuracy)\n"
      ]
    },
    {
      "cell_type": "code",
      "execution_count": null,
      "metadata": {
        "id": "_-T9uu_OMe9G"
      },
      "outputs": [],
      "source": [
        "# import tensorflow as tf\n",
        "# from tensorflow.keras import layers\n",
        "# from sklearn.model_selection import train_test_split\n",
        "\n",
        "# # Split the dataset into training, validation, and test sets\n",
        "# X_train, X_test, y_train, y_test = train_test_split(dataset, labels, test_size=test_ratio, stratify=labels, random_state=42)\n",
        "# X_train, X_val, y_train, y_val = train_test_split(X_train, y_train, test_size=val_ratio/(train_ratio+val_ratio), stratify=y_train, random_state=42)\n",
        "\n",
        "# # Normalize the input data (if required)\n",
        "# # X_train = X_train / 255.0\n",
        "# # X_val = X_val / 255.0\n",
        "# # X_test = X_test / 255.0\n",
        "\n",
        "# # Reshape the input data based on the expected input shape of the model\n",
        "# input_shape = X_train.shape[1:]  # Assuming the first dimension is the number of samples\n",
        "# X_train = X_train.reshape((-1,) + input_shape)\n",
        "# X_val = X_val.reshape((-1,) + input_shape)\n",
        "# X_test = X_test.reshape((-1,) + input_shape)\n",
        "\n",
        "# # Build the CNN model\n",
        "# model = tf.keras.Sequential()\n",
        "# model.add(layers.Conv2D(32, kernel_size=(3, 3), activation='relu', input_shape=input_shape))\n",
        "# model.add(layers.MaxPooling2D(pool_size=(2, 2)))\n",
        "# model.add(layers.Conv2D(64, kernel_size=(3, 3), activation='relu'))\n",
        "# model.add(layers.MaxPooling2D(pool_size=(2, 2)))\n",
        "# model.add(layers.Flatten())\n",
        "# model.add(layers.Dense(128, activation='relu'))\n",
        "# model.add(layers.Dense(1, activation='linear'))\n",
        "\n",
        "# # Compile the model with the desired loss function and optimizer\n",
        "# learning_rate = 0.05  # Specify your desired learning rate\n",
        "# optimizer = tf.keras.optimizers.Adam(learning_rate=learning_rate)\n",
        "# model.compile(optimizer=optimizer, loss='mean_squared_error', metrics=['accuracy'])\n",
        "\n",
        "# # Train the model\n",
        "# history = model.fit(X_train, y_train, validation_data=(X_val, y_val), epochs=20, batch_size=32)\n",
        "\n",
        "# # Evaluate the model on the test set\n",
        "# test_loss, test_accuracy = model.evaluate(X_test, y_test)\n",
        "\n",
        "# # Print the test accuracy\n",
        "# print(\"Test Accuracy:\", test_accuracy)\n"
      ]
    }
  ],
  "metadata": {
    "colab": {
      "provenance": [],
      "gpuType": "T4",
      "authorship_tag": "ABX9TyPnEGxyCwZ2i8FfnO7WtcFZ",
      "include_colab_link": true
    },
    "kernelspec": {
      "display_name": "Python 3",
      "name": "python3"
    },
    "language_info": {
      "name": "python"
    }
  },
  "nbformat": 4,
  "nbformat_minor": 0
}