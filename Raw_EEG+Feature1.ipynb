{
  "cells": [
    {
      "cell_type": "markdown",
      "metadata": {
        "id": "view-in-github",
        "colab_type": "text"
      },
      "source": [
        "<a href=\"https://colab.research.google.com/github/Mahmuda-104/Thesis/blob/main/Raw_EEG%2BFeature1.ipynb\" target=\"_parent\"><img src=\"https://colab.research.google.com/assets/colab-badge.svg\" alt=\"Open In Colab\"/></a>"
      ]
    },
    {
      "cell_type": "code",
      "execution_count": 1,
      "metadata": {
        "id": "8LtOEfFQqd6S"
      },
      "outputs": [],
      "source": [
        "from google.colab import drive\n",
        "import os\n",
        "from scipy.io import loadmat"
      ]
    },
    {
      "cell_type": "code",
      "execution_count": 2,
      "metadata": {
        "colab": {
          "base_uri": "https://localhost:8080/"
        },
        "id": "6GvJGyfwqlpx",
        "outputId": "e20b9e54-39fb-43cd-b96b-4c1ae70e3dfb"
      },
      "outputs": [
        {
          "output_type": "stream",
          "name": "stdout",
          "text": [
            "Mounted at /content/drive\n"
          ]
        }
      ],
      "source": [
        "drive.mount('/content/drive')"
      ]
    },
    {
      "cell_type": "code",
      "execution_count": 3,
      "metadata": {
        "id": "z2H0sHlGqlrg"
      },
      "outputs": [],
      "source": [
        "data_path = '/content/drive/My Drive/Data'"
      ]
    },
    {
      "cell_type": "code",
      "execution_count": 4,
      "metadata": {
        "colab": {
          "base_uri": "https://localhost:8080/"
        },
        "id": "6-qnElI8qlvH",
        "outputId": "a53fed5e-c585-4dbc-ce93-7838cf9a2cd9"
      },
      "outputs": [
        {
          "output_type": "stream",
          "name": "stdout",
          "text": [
            "(40, 60, 1000)\n"
          ]
        }
      ],
      "source": [
        "import os\n",
        "import scipy.io\n",
        "import numpy as np\n",
        "from scipy import signal\n",
        "\n",
        "fs_original = 500\n",
        "fs_new = 250\n",
        "\n",
        "control_data = []\n",
        "control_path = os.path.join(data_path, 'Control')\n",
        "for foldername in os.listdir(control_path):\n",
        "    subfolder_path = os.path.join(control_path, foldername)\n",
        "    control_data.append(subfolder_path)\n",
        "\n",
        "Control30 = []\n",
        "for control_data_path in control_data:\n",
        "    n_epochs = 40 #len([f for f in os.listdir(control_data_path) if f.endswith('.mat')])\n",
        "    control_arr = []\n",
        "    for i in range(1, n_epochs+1):\n",
        "        epoch_path = f\"{control_data_path}/trial{i}.mat\"\n",
        "        mat_data = scipy.io.loadmat(epoch_path)\n",
        "        mat_data1 = mat_data[\"trialData_i\"]\n",
        "        \n",
        "        # Downsampling\n",
        "        num_samples_original = mat_data1.shape[-1]\n",
        "        num_samples_new = int(num_samples_original * fs_new / fs_original)\n",
        "        downsampled_data = signal.resample(mat_data1, num_samples_new, axis=-1)\n",
        "        \n",
        "        control_arr.append(np.array(downsampled_data))\n",
        "        \n",
        "    Control30.append(np.array(control_arr))\n",
        "\n",
        "Control30 = np.array(Control30)\n",
        "print( Control30[0].shape)\n"
      ]
    },
    {
      "cell_type": "code",
      "execution_count": 6,
      "metadata": {
        "colab": {
          "base_uri": "https://localhost:8080/"
        },
        "id": "PZpBuNGvqlwx",
        "outputId": "f5bc8494-0a45-48ab-ccca-180033255341"
      },
      "outputs": [
        {
          "output_type": "stream",
          "name": "stdout",
          "text": [
            "(32, 40, 60, 1004)\n",
            "32\n"
          ]
        }
      ],
      "source": [
        "import numpy as np\n",
        "import json\n",
        "from sklearn.preprocessing import MinMaxScaler\n",
        "from google.colab import drive\n",
        "from scipy.stats import entropy\n",
        "\n",
        "delta_band = (0.5, 4)\n",
        "alpha_band = (8, 12)\n",
        "beta_band = (12, 35)\n",
        "\n",
        "all_control_power = []\n",
        "scaler = MinMaxScaler()\n",
        "epsilon = 1e-10\n",
        "\n",
        "for i in range(0, len(Control30)):\n",
        "    control_data = Control30[i]\n",
        "    control_power = []\n",
        "    for epoch in control_data:\n",
        "        epoch_power = []\n",
        "        for channel_data in epoch:\n",
        "            freq_spectrum = np.fft.fft(channel_data)\n",
        "            power_spectrum = np.abs(freq_spectrum) ** 2\n",
        "\n",
        "            alpha_power = np.sum(power_spectrum[(alpha_band[0] <= freq_spectrum) & (freq_spectrum <= alpha_band[1])])\n",
        "            beta_power = np.sum(power_spectrum[(beta_band[0] <= freq_spectrum) & (freq_spectrum <= beta_band[1])])\n",
        "            delta_power = np.sum(power_spectrum[(delta_band[0] <= freq_spectrum) & (freq_spectrum <= delta_band[1])])\n",
        "\n",
        "            power_spectrum_adjusted = power_spectrum + epsilon\n",
        "            entropy_values = entropy(power_spectrum_adjusted)\n",
        "\n",
        "            concatenated_data = np.concatenate((channel_data, [alpha_power, beta_power, delta_power, entropy_values]))\n",
        "            epoch_power.append(concatenated_data.tolist())\n",
        "\n",
        "        control_power.append(np.array(epoch_power))\n",
        "\n",
        "    all_control_power.append(np.array(control_power))\n",
        "all_control_power=np.array(all_control_power)\n",
        "print(all_control_power.shape)\n",
        "print(len(Control30))\n"
      ]
    },
    {
      "cell_type": "code",
      "execution_count": 7,
      "metadata": {
        "colab": {
          "base_uri": "https://localhost:8080/"
        },
        "id": "8Zg2epfvql0j",
        "outputId": "9b5944a5-0905-472e-e216-2f66f2191ea5"
      },
      "outputs": [
        {
          "output_type": "stream",
          "name": "stdout",
          "text": [
            "(40, 60, 1000)\n"
          ]
        }
      ],
      "source": [
        "import os\n",
        "import scipy.io\n",
        "import numpy as np\n",
        "from scipy import signal\n",
        "  \n",
        "fs_original = 500\n",
        "fs_new = 250  \n",
        "\n",
        "concussed_data = []\n",
        "concussed_path = os.path.join(data_path, 'Concussed')\n",
        "for foldername in os.listdir(concussed_path):\n",
        "    subfolder_path = os.path.join(concussed_path, foldername)\n",
        "    concussed_data.append(subfolder_path)\n",
        "\n",
        "Concussed52 = []\n",
        "for concussed_data_path in concussed_data:\n",
        "    n_epochs = 40 #len([f for f in os.listdir(control_data_path) if f.endswith('.mat')])\n",
        "    concussed_arr = []\n",
        "    for i in range(1, n_epochs+1):\n",
        "        epoch_path = f\"{concussed_data_path}/trial{i}.mat\"\n",
        "        mat_data = scipy.io.loadmat(epoch_path)\n",
        "        mat_data1 = mat_data[\"trialData_i\"]\n",
        "        \n",
        "        # Downsampling\n",
        "        num_samples_original = mat_data1.shape[-1]\n",
        "        num_samples_new = int(num_samples_original * fs_new / fs_original)\n",
        "        downsampled_data = signal.resample(mat_data1, num_samples_new, axis=-1)\n",
        "        \n",
        "        concussed_arr.append(np.array(downsampled_data))\n",
        "        \n",
        "    Concussed52.append(np.array(concussed_arr))\n",
        "\n",
        "Concussed52 = np.array(Concussed52)\n",
        "print( Concussed52[0].shape)\n"
      ]
    },
    {
      "cell_type": "code",
      "execution_count": 8,
      "metadata": {
        "colab": {
          "base_uri": "https://localhost:8080/"
        },
        "id": "u2dr53Utql2I",
        "outputId": "e289e6a3-bbbd-493a-98bd-75a70acc31ec"
      },
      "outputs": [
        {
          "output_type": "stream",
          "name": "stdout",
          "text": [
            "52\n",
            "52\n"
          ]
        }
      ],
      "source": [
        "import numpy as np\n",
        "import json\n",
        "from sklearn.preprocessing import MinMaxScaler\n",
        "from google.colab import drive\n",
        "from scipy.stats import entropy\n",
        "\n",
        "delta_band = (0.5, 4)\n",
        "alpha_band = (8, 12)\n",
        "beta_band = (12, 35)\n",
        "\n",
        "all_concussed_power = []\n",
        "scaler = MinMaxScaler()\n",
        "epsilon = 1e-10\n",
        "\n",
        "for i in range(0, len(Concussed52)):\n",
        "    concussed_data = Concussed52[i]\n",
        "    concussed_power = []\n",
        "    for epoch in concussed_data:\n",
        "        epoch_power = []\n",
        "        for channel_data in epoch:\n",
        "            freq_spectrum = np.fft.fft(channel_data)\n",
        "            power_spectrum = np.abs(freq_spectrum) ** 2\n",
        "\n",
        "            alpha_power = np.sum(power_spectrum[(alpha_band[0] <= freq_spectrum) & (freq_spectrum <= alpha_band[1])])\n",
        "            beta_power = np.sum(power_spectrum[(beta_band[0] <= freq_spectrum) & (freq_spectrum <= beta_band[1])])\n",
        "            delta_power = np.sum(power_spectrum[(delta_band[0] <= freq_spectrum) & (freq_spectrum <= delta_band[1])])\n",
        "\n",
        "            power_spectrum_adjusted = power_spectrum + epsilon\n",
        "            entropy_values = entropy(power_spectrum_adjusted)\n",
        "\n",
        "            concatenated_data = np.concatenate((channel_data, [alpha_power, beta_power, delta_power, entropy_values]))\n",
        "            epoch_power.append(concatenated_data.tolist())\n",
        "\n",
        "        concussed_power.append(np.array(epoch_power))\n",
        "\n",
        "    all_concussed_power.append(np.array(concussed_power))\n",
        "\n",
        "all_concussed_power=np.array(all_concussed_power)\n",
        "print(len(all_concussed_power))\n",
        "print(len(Concussed52))\n"
      ]
    },
    {
      "cell_type": "code",
      "execution_count": 9,
      "metadata": {
        "colab": {
          "base_uri": "https://localhost:8080/"
        },
        "id": "61pJdrijql51",
        "outputId": "8ed42cf2-b7d2-4807-824e-8621dfeb9508"
      },
      "outputs": [
        {
          "output_type": "stream",
          "name": "stdout",
          "text": [
            "(52, 40, 60, 1004)\n"
          ]
        }
      ],
      "source": [
        "#concussed_power=np.array(concussed_power)\n",
        "print(all_concussed_power.shape)"
      ]
    },
    {
      "cell_type": "code",
      "execution_count": 10,
      "metadata": {
        "id": "00KsyN0Aql7e"
      },
      "outputs": [],
      "source": [
        "import numpy as np\n",
        "from sklearn.model_selection import train_test_split\n",
        "dataset = np.concatenate((all_concussed_power, all_control_power), axis=0)\n",
        "\n",
        "#(0 for control, 1 for concussed)\n",
        "labels = np.concatenate((np.zeros(len(all_control_power)), np.ones(len(all_concussed_power))))"
      ]
    },
    {
      "cell_type": "code",
      "source": [
        "train_ratio = 0.8  # 80% for training\n",
        "val_ratio = 0.1   # 10% for validation\n",
        "test_ratio = 0.1  # 10% for testing"
      ],
      "metadata": {
        "id": "UXuT0xWgUS7M"
      },
      "execution_count": 11,
      "outputs": []
    },
    {
      "cell_type": "code",
      "source": [
        "X_train, X_test, y_train, y_test = train_test_split(dataset, labels, test_size=test_ratio, stratify=labels, random_state=42)\n",
        "X_train, X_val, y_train, y_val = train_test_split(X_train, y_train, test_size=val_ratio/(train_ratio+val_ratio), stratify=y_train, random_state=42)"
      ],
      "metadata": {
        "id": "SD1yqzOCUTDg"
      },
      "execution_count": 12,
      "outputs": []
    },
    {
      "cell_type": "code",
      "source": [
        "import tensorflow as tf\n",
        "from tensorflow.keras import layers\n",
        "from tensorflow.keras.callbacks import EarlyStopping\n",
        "import matplotlib.pyplot as plt\n",
        "\n",
        "# Normalize the input data\n",
        "# X_train = X_train / 255.0\n",
        "# X_val = X_val / 255.0\n",
        "# X_test = X_test / 255.0\n",
        "input_shape = X_train.shape[1:]\n",
        "# Build the CNN model\n",
        "model = tf.keras.Sequential()\n",
        "model.add(layers.Conv2D(16, kernel_size=(6, 6), strides=1, activation='relu', padding='same', input_shape=input_shape))\n",
        "model.add(layers.MaxPooling2D(pool_size=(2, 2)))\n",
        "model.add(layers.Dropout(0.5))\n",
        "model.add(layers.Conv2D(32, kernel_size=(3, 3), activation='relu', strides=1, padding='same'))\n",
        "model.add(layers.MaxPooling2D(pool_size=(2, 2)))\n",
        "model.add(layers.Dropout(0.5))\n",
        "model.add(layers.Conv2D(64, kernel_size=(3, 3), activation='relu', strides=1, padding='same'))\n",
        "model.add(layers.MaxPooling2D(pool_size=(2, 2)))\n",
        "model.add(layers.Dropout(0.5))\n",
        "model.add(layers.Flatten())\n",
        "model.add(layers.Dense(256, activation='relu'))\n",
        "model.add(layers.Dropout(0.5))\n",
        "model.add(layers.Dense(2, activation='softmax'))\n",
        "\n",
        "learning_rate = 0.005\n",
        "optimizer = tf.keras.optimizers.Adam(learning_rate=learning_rate)\n",
        "model.compile(optimizer=optimizer, loss='sparse_categorical_crossentropy', metrics=['accuracy'])\n",
        "\n",
        "# Define the early stopping callback\n",
        "early_stopping = EarlyStopping(monitor='val_loss', patience=10, restore_best_weights=True)\n",
        "\n",
        "# Train the model with early stopping\n",
        "history = model.fit(X_train, y_train, validation_data=(X_val, y_val), epochs=100, batch_size=32, callbacks=[early_stopping])\n",
        "\n",
        "# Evaluate the model on the test set\n",
        "test_loss, test_accuracy = model.evaluate(X_test, y_test)\n",
        "val_loss, val_accuracy = model.evaluate(X_val, y_val)\n",
        "\n",
        "# Print the test accuracy\n",
        "print(\"Test Accuracy:\", test_accuracy)\n",
        "\n",
        "# Generate training and testing accuracy\n",
        "training_accuracy = history.history['accuracy']\n",
        "testing_accuracy = history.history['val_accuracy']\n",
        "\n",
        "# Generate learning curve\n",
        "training_loss = history.history['loss']\n",
        "validation_loss = history.history['val_loss']\n",
        "\n",
        "# Plot training and testing accuracy\n",
        "plt.plot(training_accuracy, label='Training Accuracy')\n",
        "plt.plot(testing_accuracy, label='Testing Accuracy')\n",
        "plt.xlabel('Epochs')\n",
        "plt.ylabel('Accuracy')\n",
        "plt.legend()\n",
        "plt.show()\n",
        "\n",
        "# Plot learning curve\n",
        "plt.plot(training_loss, label='Training Loss')\n",
        "plt.plot(validation_loss, label='Validation Loss')\n",
        "plt.xlabel('Epochs')\n",
        "plt.ylabel('Loss')\n",
        "plt.legend()\n",
        "plt.show()\n"
      ],
      "metadata": {
        "colab": {
          "base_uri": "https://localhost:8080/",
          "height": 1000
        },
        "id": "ln-2AsXXUTFJ",
        "outputId": "2df539b4-f223-4f88-b5b8-f943999293ca"
      },
      "execution_count": 14,
      "outputs": [
        {
          "output_type": "stream",
          "name": "stdout",
          "text": [
            "Epoch 1/100\n",
            "3/3 [==============================] - 24s 6s/step - loss: 7751776.5000 - accuracy: 0.5606 - val_loss: 82895.7031 - val_accuracy: 0.6667\n",
            "Epoch 2/100\n",
            "3/3 [==============================] - 16s 5s/step - loss: 397158.2500 - accuracy: 0.6061 - val_loss: 187238.2500 - val_accuracy: 0.2222\n",
            "Epoch 3/100\n",
            "3/3 [==============================] - 20s 6s/step - loss: 173602.5000 - accuracy: 0.5303 - val_loss: 101936.0938 - val_accuracy: 0.2222\n",
            "Epoch 4/100\n",
            "3/3 [==============================] - 19s 6s/step - loss: 127452.6250 - accuracy: 0.5303 - val_loss: 31849.4609 - val_accuracy: 0.3333\n",
            "Epoch 5/100\n",
            "3/3 [==============================] - 17s 4s/step - loss: 55072.5078 - accuracy: 0.6515 - val_loss: 10853.8623 - val_accuracy: 0.6667\n",
            "Epoch 6/100\n",
            "3/3 [==============================] - 16s 4s/step - loss: 76099.1953 - accuracy: 0.6364 - val_loss: 13333.3525 - val_accuracy: 0.6667\n",
            "Epoch 7/100\n",
            "3/3 [==============================] - 18s 4s/step - loss: 57070.9531 - accuracy: 0.6364 - val_loss: 13584.1523 - val_accuracy: 0.6667\n",
            "Epoch 8/100\n",
            "3/3 [==============================] - 19s 5s/step - loss: 50265.8789 - accuracy: 0.6212 - val_loss: 11361.2773 - val_accuracy: 0.6667\n",
            "Epoch 9/100\n",
            "3/3 [==============================] - 17s 4s/step - loss: 68097.3594 - accuracy: 0.5758 - val_loss: 8594.9443 - val_accuracy: 0.6667\n",
            "Epoch 10/100\n",
            "3/3 [==============================] - 19s 6s/step - loss: 53832.3320 - accuracy: 0.5758 - val_loss: 6798.5669 - val_accuracy: 0.5556\n",
            "Epoch 11/100\n",
            "3/3 [==============================] - 20s 6s/step - loss: 32477.6055 - accuracy: 0.6667 - val_loss: 10278.1914 - val_accuracy: 0.4444\n",
            "Epoch 12/100\n",
            "3/3 [==============================] - 16s 5s/step - loss: 45873.7969 - accuracy: 0.5455 - val_loss: 13226.0332 - val_accuracy: 0.4444\n",
            "Epoch 13/100\n",
            "3/3 [==============================] - 17s 5s/step - loss: 26818.5938 - accuracy: 0.6364 - val_loss: 21980.9590 - val_accuracy: 0.3333\n",
            "Epoch 14/100\n",
            "3/3 [==============================] - 20s 6s/step - loss: 20165.6973 - accuracy: 0.6515 - val_loss: 25393.2676 - val_accuracy: 0.3333\n",
            "Epoch 15/100\n",
            "3/3 [==============================] - 18s 5s/step - loss: 31268.7852 - accuracy: 0.4848 - val_loss: 24769.6543 - val_accuracy: 0.3333\n",
            "Epoch 16/100\n",
            "3/3 [==============================] - 17s 5s/step - loss: 26776.4961 - accuracy: 0.5909 - val_loss: 23052.4297 - val_accuracy: 0.3333\n",
            "Epoch 17/100\n",
            "3/3 [==============================] - 21s 6s/step - loss: 35713.3477 - accuracy: 0.5152 - val_loss: 21281.9219 - val_accuracy: 0.3333\n",
            "Epoch 18/100\n",
            "3/3 [==============================] - 17s 5s/step - loss: 19313.2461 - accuracy: 0.5606 - val_loss: 20052.9785 - val_accuracy: 0.4444\n",
            "Epoch 19/100\n",
            "3/3 [==============================] - 19s 5s/step - loss: 20752.4336 - accuracy: 0.5909 - val_loss: 19658.8574 - val_accuracy: 0.4444\n",
            "Epoch 20/100\n",
            "3/3 [==============================] - 17s 5s/step - loss: 13609.6699 - accuracy: 0.6667 - val_loss: 18433.8594 - val_accuracy: 0.4444\n",
            "1/1 [==============================] - 1s 829ms/step - loss: 1204.3251 - accuracy: 0.7778\n",
            "1/1 [==============================] - 1s 832ms/step - loss: 6798.5669 - accuracy: 0.5556\n",
            "Test Accuracy: 0.7777777910232544\n"
          ]
        },
        {
          "output_type": "display_data",
          "data": {
            "text/plain": [
              "<Figure size 640x480 with 1 Axes>"
            ],
            "image/png": "[encoded data removed]"
          },
          "metadata": {}
        },
        {
          "output_type": "display_data",
          "data": {
            "text/plain": [
              "<Figure size 640x480 with 1 Axes>"
            ],
            "image/png": "[encoded data removed]"
          },
          "metadata": {}
        }
      ]
    }
  ],
  "metadata": {
    "colab": {
      "provenance": [],
      "authorship_tag": "ABX9TyNX+o6mhU6+c1G5G1JZ1ELl",
      "include_colab_link": true
    },
    "kernelspec": {
      "display_name": "Python 3",
      "name": "python3"
    },
    "language_info": {
      "name": "python"
    }
  },
  "nbformat": 4,
  "nbformat_minor": 0
}