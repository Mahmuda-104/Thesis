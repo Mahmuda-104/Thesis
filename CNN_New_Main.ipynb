{
  "nbformat": 4,
  "nbformat_minor": 0,
  "metadata": {
    "colab": {
      "provenance": [],
      "authorship_tag": "ABX9TyN3+5B5DDmBOM+Y4LMVvGEF",
      "include_colab_link": true
    },
    "kernelspec": {
      "name": "python3",
      "display_name": "Python 3"
    },
    "language_info": {
      "name": "python"
    }
  },
  "cells": [
    {
      "cell_type": "markdown",
      "metadata": {
        "id": "view-in-github",
        "colab_type": "text"
      },
      "source": [
        "<a href=\"https://colab.research.google.com/github/Mahmuda-104/Thesis/blob/main/CNN_New_Main.ipynb\" target=\"_parent\"><img src=\"https://colab.research.google.com/assets/colab-badge.svg\" alt=\"Open In Colab\"/></a>"
      ]
    },
    {
      "cell_type": "code",
      "execution_count": 1,
      "metadata": {
        "id": "Ys5wsnPiDABT"
      },
      "outputs": [],
      "source": [
        "from google.colab import drive\n",
        "import os\n",
        "from scipy.io import loadmat"
      ]
    },
    {
      "cell_type": "code",
      "source": [
        "import tensorflow as tf\n",
        "from tensorflow.keras import layers\n",
        "from sklearn.model_selection import GridSearchCV\n",
        "from tensorflow.keras.wrappers.scikit_learn import KerasClassifier\n",
        "from sklearn.metrics import accuracy_score"
      ],
      "metadata": {
        "id": "c5U3UNePvCya"
      },
      "execution_count": 2,
      "outputs": []
    },
    {
      "cell_type": "code",
      "source": [
        "drive.mount('/content/drive')"
      ],
      "metadata": {
        "colab": {
          "base_uri": "https://localhost:8080/"
        },
        "id": "LBfziNCXDEUH",
        "outputId": "20ee6f4e-7d54-46dc-e2bb-a640a0a7f034"
      },
      "execution_count": 3,
      "outputs": [
        {
          "output_type": "stream",
          "name": "stdout",
          "text": [
            "Mounted at /content/drive\n"
          ]
        }
      ]
    },
    {
      "cell_type": "code",
      "source": [
        "data_path = '/content/drive/My Drive/Data'"
      ],
      "metadata": {
        "id": "vHuWQYqvDEV0"
      },
      "execution_count": 4,
      "outputs": []
    },
    {
      "cell_type": "code",
      "source": [
        "import os\n",
        "import scipy.io\n",
        "import numpy as np\n",
        "from scipy import signal\n",
        "\n",
        "lowcut = 0.5 \n",
        "highcut = 100  \n",
        "fs_original = 500\n",
        "fs_new = 250\n",
        "\n",
        "control_data = []\n",
        "control_path = os.path.join(data_path, 'Control')\n",
        "for foldername in os.listdir(control_path):\n",
        "    subfolder_path = os.path.join(control_path, foldername)\n",
        "    control_data.append(subfolder_path)\n",
        "\n",
        "Control30 = []\n",
        "for control_data_path in control_data:\n",
        "    n_epochs = 40 #len([f for f in os.listdir(control_data_path) if f.endswith('.mat')])\n",
        "    control_arr = []\n",
        "    for i in range(1, n_epochs+1):\n",
        "        epoch_path = f\"{control_data_path}/trial{i}.mat\"\n",
        "        mat_data = scipy.io.loadmat(epoch_path)\n",
        "        mat_data1 = mat_data[\"trialData_i\"]\n",
        "        \n",
        "        b, a = signal.butter(4, [lowcut, highcut], fs=fs_original, btype='band')\n",
        "        filtered_data = signal.filtfilt(b, a, mat_data1, axis=-1)\n",
        "        #filtered_data=mat_data1\n",
        "        \n",
        "        # Downsampling\n",
        "        num_samples_original = filtered_data.shape[-1]\n",
        "        num_samples_new = int(num_samples_original * fs_new / fs_original)\n",
        "        downsampled_data = signal.resample(filtered_data, num_samples_new, axis=-1)\n",
        "        \n",
        "        control_arr.append(np.array(downsampled_data))\n",
        "        \n",
        "    Control30.append(np.array(control_arr))\n",
        "\n",
        "Control30 = np.array(Control30)\n",
        "print( Control30[0].shape)\n"
      ],
      "metadata": {
        "colab": {
          "base_uri": "https://localhost:8080/"
        },
        "id": "8N7M_q0rDEZG",
        "outputId": "8d6de40d-8d3b-4ddb-a221-1972ead8b1b6"
      },
      "execution_count": 5,
      "outputs": [
        {
          "output_type": "stream",
          "name": "stdout",
          "text": [
            "(40, 60, 1000)\n"
          ]
        }
      ]
    },
    {
      "cell_type": "code",
      "source": [
        "print(\"Filtered and downsampled data shape:\", Control30.shape)"
      ],
      "metadata": {
        "colab": {
          "base_uri": "https://localhost:8080/"
        },
        "id": "cbRaVo4WDEbb",
        "outputId": "b299d698-4d77-428b-e7dc-d44b9746e04c"
      },
      "execution_count": 6,
      "outputs": [
        {
          "output_type": "stream",
          "name": "stdout",
          "text": [
            "Filtered and downsampled data shape: (32, 40, 60, 1000)\n"
          ]
        }
      ]
    },
    {
      "cell_type": "code",
      "source": [
        "import os\n",
        "import scipy.io\n",
        "import numpy as np\n",
        "from scipy import signal\n",
        "\n",
        "lowcut = 0.5 \n",
        "highcut = 100  \n",
        "fs_original = 500\n",
        "fs_new = 250  \n",
        "\n",
        "concussed_data = []\n",
        "concussed_path = os.path.join(data_path, 'Concussed')\n",
        "for foldername in os.listdir(concussed_path):\n",
        "    subfolder_path = os.path.join(concussed_path, foldername)\n",
        "    concussed_data.append(subfolder_path)\n",
        "\n",
        "Concussed49 = []\n",
        "for concussed_data_path in concussed_data:\n",
        "    n_epochs = 40 #len([f for f in os.listdir(control_data_path) if f.endswith('.mat')])\n",
        "    concussed_arr = []\n",
        "    for i in range(1, n_epochs+1):\n",
        "        epoch_path = f\"{concussed_data_path}/trial{i}.mat\"\n",
        "        mat_data = scipy.io.loadmat(epoch_path)\n",
        "        mat_data1 = mat_data[\"trialData_i\"]\n",
        "        \n",
        "        b, a = signal.butter(4, [lowcut, highcut], fs=fs_original, btype='band')\n",
        "        filtered_data = signal.filtfilt(b, a, mat_data1, axis=-1)\n",
        "        # filtered_data=mat_data1\n",
        "        \n",
        "        # Downsampling\n",
        "        num_samples_original = filtered_data.shape[-1]\n",
        "        num_samples_new = int(num_samples_original * fs_new / fs_original)\n",
        "        downsampled_data = signal.resample(filtered_data, num_samples_new, axis=-1)\n",
        "        \n",
        "        concussed_arr.append(np.array(downsampled_data))\n",
        "        \n",
        "    Concussed49.append(np.array(concussed_arr))\n",
        "\n",
        "Concussed49 = np.array(Concussed49)\n",
        "print( Concussed49[0].shape)\n"
      ],
      "metadata": {
        "colab": {
          "base_uri": "https://localhost:8080/"
        },
        "id": "6rspEww5DEel",
        "outputId": "3e9d173f-ec33-457a-a3d5-b91dc09e76dc"
      },
      "execution_count": 7,
      "outputs": [
        {
          "output_type": "stream",
          "name": "stdout",
          "text": [
            "(40, 60, 1000)\n"
          ]
        }
      ]
    },
    {
      "cell_type": "code",
      "source": [
        "print(\"Filtered and downsampled data shape:\", Concussed49.shape)"
      ],
      "metadata": {
        "colab": {
          "base_uri": "https://localhost:8080/"
        },
        "id": "rmbCNweVDEgP",
        "outputId": "9a0356b7-10f4-46d7-c4af-17a307771607"
      },
      "execution_count": 8,
      "outputs": [
        {
          "output_type": "stream",
          "name": "stdout",
          "text": [
            "Filtered and downsampled data shape: (52, 40, 60, 1000)\n"
          ]
        }
      ]
    },
    {
      "cell_type": "code",
      "source": [
        "import numpy as np\n",
        "from sklearn.model_selection import train_test_split\n",
        "dataset = np.concatenate((Control30, Concussed49), axis=0)\n",
        "\n",
        "#(0 for control, 1 for concussed)\n",
        "labels = np.concatenate((np.zeros(len(Control30)), np.ones(len(Concussed49))))"
      ],
      "metadata": {
        "id": "4mUaKEemDdUs"
      },
      "execution_count": 9,
      "outputs": []
    },
    {
      "cell_type": "code",
      "source": [
        "train_ratio = 0.8  # 80% for training\n",
        "val_ratio = 0.1   # 10% for validation\n",
        "test_ratio = 0.1  # 10% for testing"
      ],
      "metadata": {
        "id": "kXVdx5hkDdWw"
      },
      "execution_count": 10,
      "outputs": []
    },
    {
      "cell_type": "code",
      "source": [
        "X_train, X_test, y_train, y_test = train_test_split(dataset, labels, test_size=test_ratio, stratify=labels, random_state=42)\n",
        "X_train, X_val, y_train, y_val = train_test_split(X_train, y_train, test_size=val_ratio/(train_ratio+val_ratio), stratify=y_train, random_state=42)"
      ],
      "metadata": {
        "id": "gGhNAeHuDdZ4"
      },
      "execution_count": 11,
      "outputs": []
    },
    {
      "cell_type": "code",
      "source": [
        "import tensorflow as tf\n",
        "from tensorflow.keras import layers\n",
        "from keras.callbacks import EarlyStopping\n",
        "\n",
        "# Normalize the input data (if required)\n",
        "# X_train = X_train / 255.0\n",
        "# X_val = X_val / 255.0\n",
        "# X_test = X_test / 255.0\n",
        "\n",
        "# Reshape the input data based on the expected input shape of the model\n",
        "input_shape = X_train.shape[1:]  # Assuming the first dimension is the number of samples\n",
        "X_train = X_train.reshape((-1,) + input_shape)\n",
        "X_val = X_val.reshape((-1,) + input_shape)\n",
        "X_test = X_test.reshape((-1,) + input_shape)\n",
        "\n",
        "# Build the CNN model\n",
        "model = tf.keras.Sequential()\n",
        "model.add(layers.Conv2D(16, kernel_size=(6, 6), strides=2, activation='relu', padding='same', input_shape=input_shape))\n",
        "model.add(layers.MaxPooling2D(pool_size=(2, 2)))\n",
        "model.add(layers.Dropout(0.5))\n",
        "model.add(layers.Conv2D(32, kernel_size=(3, 3), activation='relu', strides=1, padding='same'))\n",
        "model.add(layers.MaxPooling2D(pool_size=(2, 2)))\n",
        "model.add(layers.Dropout(0.5))\n",
        "model.add(layers.Conv2D(64, kernel_size=(3, 3), activation='relu', strides=1, padding='same'))\n",
        "model.add(layers.MaxPooling2D(pool_size=(2, 2)))\n",
        "model.add(layers.Dropout(0.5))\n",
        "model.add(layers.Flatten())\n",
        "model.add(layers.Dense(256, activation='relu'))\n",
        "model.add(layers.Dropout(0.5))\n",
        "model.add(layers.Dense(2, activation='softmax'))\n",
        "\n",
        "learning_rate = 0.005  # Specify your desired learning rate\n",
        "optimizer = tf.keras.optimizers.Adam(learning_rate=learning_rate)\n",
        "model.compile(optimizer=optimizer, loss='sparse_categorical_crossentropy', metrics=['accuracy'])\n",
        "\n",
        "# Define the early stopping callback\n",
        "early_stopping = EarlyStopping(monitor='val_loss', patience=10, restore_best_weights=True)\n",
        "\n",
        "# Train the model with early stopping\n",
        "history = model.fit(X_train, y_train, validation_data=(X_val, y_val), epochs=100, batch_size=32, callbacks=[early_stopping])\n",
        "\n",
        "# Evaluate the model on the test set\n",
        "test_loss, test_accuracy = model.evaluate(X_test, y_test)\n",
        "val_loss, val_accuracy = model.evaluate(X_val, y_val)\n",
        "\n",
        "# Print the test accuracy\n",
        "print(\"Test Accuracy:\", test_accuracy)\n",
        "#print(\"Validation Accuracy\", val_accuracy)\n"
      ],
      "metadata": {
        "colab": {
          "base_uri": "https://localhost:8080/"
        },
        "id": "dvwN3RCgDdbq",
        "outputId": "8732ad49-78d5-4331-ee5a-076b941aa012"
      },
      "execution_count": 19,
      "outputs": [
        {
          "output_type": "stream",
          "name": "stdout",
          "text": [
            "Epoch 1/100\n",
            "3/3 [==============================] - 13s 2s/step - loss: 145.0856 - accuracy: 0.4848 - val_loss: 147.2396 - val_accuracy: 0.3333\n",
            "Epoch 2/100\n",
            "3/3 [==============================] - 8s 3s/step - loss: 1635.2545 - accuracy: 0.4697 - val_loss: 129.4431 - val_accuracy: 0.3333\n",
            "Epoch 3/100\n",
            "3/3 [==============================] - 7s 2s/step - loss: 426.1223 - accuracy: 0.4394 - val_loss: 47.4081 - val_accuracy: 0.3333\n",
            "Epoch 4/100\n",
            "3/3 [==============================] - 8s 3s/step - loss: 464.3602 - accuracy: 0.4242 - val_loss: 34.4259 - val_accuracy: 0.3333\n",
            "Epoch 5/100\n",
            "3/3 [==============================] - 7s 2s/step - loss: 309.1807 - accuracy: 0.4545 - val_loss: 30.9968 - val_accuracy: 0.5556\n",
            "Epoch 6/100\n",
            "3/3 [==============================] - 8s 3s/step - loss: 414.1347 - accuracy: 0.5606 - val_loss: 23.9459 - val_accuracy: 0.5556\n",
            "Epoch 7/100\n",
            "3/3 [==============================] - 6s 2s/step - loss: 235.6315 - accuracy: 0.5000 - val_loss: 31.8794 - val_accuracy: 0.1111\n",
            "Epoch 8/100\n",
            "3/3 [==============================] - 8s 3s/step - loss: 280.0911 - accuracy: 0.4697 - val_loss: 21.8102 - val_accuracy: 0.5556\n",
            "Epoch 9/100\n",
            "3/3 [==============================] - 7s 2s/step - loss: 116.6182 - accuracy: 0.6212 - val_loss: 23.4041 - val_accuracy: 0.6667\n",
            "Epoch 10/100\n",
            "3/3 [==============================] - 8s 2s/step - loss: 500.6628 - accuracy: 0.5758 - val_loss: 11.6977 - val_accuracy: 0.4444\n",
            "Epoch 11/100\n",
            "3/3 [==============================] - 7s 2s/step - loss: 350.0469 - accuracy: 0.5455 - val_loss: 10.1708 - val_accuracy: 0.4444\n",
            "Epoch 12/100\n",
            "3/3 [==============================] - 8s 2s/step - loss: 325.3887 - accuracy: 0.3939 - val_loss: 6.9759 - val_accuracy: 0.2222\n",
            "Epoch 13/100\n",
            "3/3 [==============================] - 6s 2s/step - loss: 107.7399 - accuracy: 0.5606 - val_loss: 3.7449 - val_accuracy: 0.4444\n",
            "Epoch 14/100\n",
            "3/3 [==============================] - 9s 2s/step - loss: 115.5014 - accuracy: 0.5152 - val_loss: 6.5035 - val_accuracy: 0.6667\n",
            "Epoch 15/100\n",
            "3/3 [==============================] - 7s 2s/step - loss: 188.4951 - accuracy: 0.4394 - val_loss: 9.1615 - val_accuracy: 0.6667\n",
            "Epoch 16/100\n",
            "3/3 [==============================] - 8s 2s/step - loss: 94.8325 - accuracy: 0.5455 - val_loss: 5.0352 - val_accuracy: 0.5556\n",
            "Epoch 17/100\n",
            "3/3 [==============================] - 7s 2s/step - loss: 135.4832 - accuracy: 0.4848 - val_loss: 3.6357 - val_accuracy: 0.4444\n",
            "Epoch 18/100\n",
            "3/3 [==============================] - 8s 2s/step - loss: 56.8070 - accuracy: 0.5303 - val_loss: 4.8999 - val_accuracy: 0.3333\n",
            "Epoch 19/100\n",
            "3/3 [==============================] - 7s 2s/step - loss: 77.5601 - accuracy: 0.5303 - val_loss: 4.9953 - val_accuracy: 0.4444\n",
            "Epoch 20/100\n",
            "3/3 [==============================] - 7s 2s/step - loss: 55.0082 - accuracy: 0.5606 - val_loss: 3.9911 - val_accuracy: 0.4444\n",
            "Epoch 21/100\n",
            "3/3 [==============================] - 8s 2s/step - loss: 55.9117 - accuracy: 0.6061 - val_loss: 3.6495 - val_accuracy: 0.4444\n",
            "Epoch 22/100\n",
            "3/3 [==============================] - 7s 2s/step - loss: 354.7742 - accuracy: 0.5000 - val_loss: 3.7838 - val_accuracy: 0.4444\n",
            "Epoch 23/100\n",
            "3/3 [==============================] - 8s 3s/step - loss: 76.7584 - accuracy: 0.5758 - val_loss: 3.6156 - val_accuracy: 0.3333\n",
            "Epoch 24/100\n",
            "3/3 [==============================] - 7s 2s/step - loss: 52.8694 - accuracy: 0.4848 - val_loss: 2.8341 - val_accuracy: 0.3333\n",
            "Epoch 25/100\n",
            "3/3 [==============================] - 8s 3s/step - loss: 49.2043 - accuracy: 0.4848 - val_loss: 2.1257 - val_accuracy: 0.5556\n",
            "Epoch 26/100\n",
            "3/3 [==============================] - 7s 2s/step - loss: 100.0884 - accuracy: 0.4545 - val_loss: 1.9650 - val_accuracy: 0.4444\n",
            "Epoch 27/100\n",
            "3/3 [==============================] - 8s 3s/step - loss: 352.0882 - accuracy: 0.4394 - val_loss: 2.2295 - val_accuracy: 0.6667\n",
            "Epoch 28/100\n",
            "3/3 [==============================] - 6s 2s/step - loss: 45.0796 - accuracy: 0.6515 - val_loss: 2.0246 - val_accuracy: 0.6667\n",
            "Epoch 29/100\n",
            "3/3 [==============================] - 8s 3s/step - loss: 20.1675 - accuracy: 0.6970 - val_loss: 1.4301 - val_accuracy: 0.4444\n",
            "Epoch 30/100\n",
            "3/3 [==============================] - 6s 2s/step - loss: 12.4407 - accuracy: 0.6212 - val_loss: 2.1863 - val_accuracy: 0.3333\n",
            "Epoch 31/100\n",
            "3/3 [==============================] - 8s 3s/step - loss: 41.1419 - accuracy: 0.5152 - val_loss: 2.6776 - val_accuracy: 0.3333\n",
            "Epoch 32/100\n",
            "3/3 [==============================] - 7s 2s/step - loss: 21.1839 - accuracy: 0.4848 - val_loss: 1.9842 - val_accuracy: 0.3333\n",
            "Epoch 33/100\n",
            "3/3 [==============================] - 8s 2s/step - loss: 26.9678 - accuracy: 0.4697 - val_loss: 2.5547 - val_accuracy: 0.3333\n",
            "Epoch 34/100\n",
            "3/3 [==============================] - 7s 2s/step - loss: 14.3615 - accuracy: 0.5758 - val_loss: 3.0033 - val_accuracy: 0.3333\n",
            "Epoch 35/100\n",
            "3/3 [==============================] - 8s 2s/step - loss: 12.0280 - accuracy: 0.6515 - val_loss: 3.7582 - val_accuracy: 0.2222\n",
            "Epoch 36/100\n",
            "3/3 [==============================] - 7s 2s/step - loss: 30.2054 - accuracy: 0.5000 - val_loss: 4.2080 - val_accuracy: 0.4444\n",
            "Epoch 37/100\n",
            "3/3 [==============================] - 8s 2s/step - loss: 32.3321 - accuracy: 0.4848 - val_loss: 3.9362 - val_accuracy: 0.5556\n",
            "Epoch 38/100\n",
            "3/3 [==============================] - 7s 2s/step - loss: 18.9995 - accuracy: 0.5909 - val_loss: 3.1091 - val_accuracy: 0.5556\n",
            "Epoch 39/100\n",
            "3/3 [==============================] - 8s 2s/step - loss: 22.2857 - accuracy: 0.5606 - val_loss: 2.7848 - val_accuracy: 0.5556\n",
            "1/1 [==============================] - 0s 416ms/step - loss: 0.6158 - accuracy: 0.7778\n",
            "1/1 [==============================] - 0s 320ms/step - loss: 1.4301 - accuracy: 0.4444\n",
            "Test Accuracy: 0.7777777910232544\n"
          ]
        }
      ]
    },
    {
      "cell_type": "code",
      "source": [
        "# from sklearn.model_selection import GridSearchCV\n",
        "# from tensorflow.keras.wrappers.scikit_learn import KerasClassifier\n",
        "# from sklearn.metrics import accuracy_score\n",
        "# from tensorflow.keras import layers\n",
        "\n",
        "\n",
        "# input_shape = X_train.shape[1:]  # Assuming the first dimension is the number of samples\n",
        "# X_train = X_train.reshape((-1,) + input_shape)\n",
        "# X_val = X_val.reshape((-1,) + input_shape)\n",
        "# X_test = X_test.reshape((-1,) + input_shape)\n",
        "\n",
        "# # Define a function that creates your CNN model\n",
        "# def create_model(learning_rate=0.005, dropout_rate=0.5):\n",
        "#     model = tf.keras.Sequential()\n",
        "#     model.add(layers.Conv2D(16, kernel_size=(6, 6), strides=2, activation='relu', padding='same', input_shape=input_shape))\n",
        "#     model.add(layers.MaxPooling2D(pool_size=(2, 2)))\n",
        "#     model.add(layers.Dropout(dropout_rate))\n",
        "#     model.add(layers.Conv2D(32, kernel_size=(3, 3), activation='relu', strides=1, padding='same'))\n",
        "#     model.add(layers.MaxPooling2D(pool_size=(2, 2)))\n",
        "#     model.add(layers.Dropout(dropout_rate))\n",
        "#     model.add(layers.Conv2D(64, kernel_size=(3, 3), activation='relu', strides=1, padding='same'))\n",
        "#     model.add(layers.MaxPooling2D(pool_size=(2, 2)))\n",
        "#     model.add(layers.Dropout(dropout_rate))\n",
        "#     model.add(layers.Flatten())\n",
        "#     model.add(layers.Dense(256, activation='relu'))\n",
        "#     model.add(layers.Dropout(dropout_rate))\n",
        "#     model.add(layers.Dense(2, activation='softmax'))\n",
        "#     model.compile(optimizer=tf.keras.optimizers.Adam(learning_rate=learning_rate),\n",
        "#                   loss='sparse_categorical_crossentropy',\n",
        "#                   metrics=['accuracy'])\n",
        "#     return model\n",
        "\n",
        "# # Create the KerasClassifier with your model function\n",
        "# model = KerasClassifier(build_fn=create_model, verbose=0)\n",
        "\n",
        "# # Define the hyperparameters to tune\n",
        "# parameters = {\n",
        "#     'learning_rate': [0.001, 0.005, 0.01],\n",
        "#     'dropout_rate': [0.3, 0.5, 0.7],\n",
        "#     'batch_size': [16, 32, 64]\n",
        "# }\n",
        "\n",
        "# # Perform grid search\n",
        "# grid_search = GridSearchCV(estimator=model, param_grid=parameters, cv=3)\n",
        "# grid_search_result = grid_search.fit(X_train, y_train)\n",
        "\n",
        "# # Print the best parameters and best accuracy\n",
        "# print(\"Best Parameters:\", grid_search_result.best_params_)\n",
        "# #print(\"Best Accuracy:\", grid_search_result.best_score_)\n"
      ],
      "metadata": {
        "id": "FdJKSNLwoQyq"
      },
      "execution_count": 13,
      "outputs": []
    },
    {
      "cell_type": "code",
      "source": [
        "# from sklearn.model_selection import RandomizedSearchCV\n",
        "# from tensorflow.keras.wrappers.scikit_learn import KerasClassifier\n",
        "# from tensorflow.keras import layers\n",
        "# input_shape = X_train.shape[1:]  \n",
        "# X_train = X_train.reshape((-1,) + input_shape)\n",
        "# X_val = X_val.reshape((-1,) + input_shape)\n",
        "# X_test = X_test.reshape((-1,) + input_shape)\n",
        "\n",
        "\n",
        "# # Define a function that creates your CNN model\n",
        "# def create_model(learning_rate=0.005, dropout_rate=0.5, batch_size=32):\n",
        "#     model = tf.keras.Sequential()\n",
        "#     model.add(layers.Conv2D(16, kernel_size=(6, 6), strides=2, activation='relu', padding='same', input_shape=input_shape))\n",
        "#     model.add(layers.MaxPooling2D(pool_size=(2, 2)))\n",
        "#     model.add(layers.Dropout(dropout_rate))\n",
        "#     model.add(layers.Conv2D(32, kernel_size=(3, 3), activation='relu', strides=1, padding='same'))\n",
        "#     model.add(layers.MaxPooling2D(pool_size=(2, 2)))\n",
        "#     model.add(layers.Dropout(dropout_rate))\n",
        "#     model.add(layers.Conv2D(64, kernel_size=(3, 3), activation='relu', strides=1, padding='same'))\n",
        "#     model.add(layers.MaxPooling2D(pool_size=(2, 2)))\n",
        "#     model.add(layers.Dropout(dropout_rate))\n",
        "#     model.add(layers.Flatten())\n",
        "#     model.add(layers.Dense(256, activation='relu'))\n",
        "#     model.add(layers.Dropout(dropout_rate))\n",
        "#     model.add(layers.Dense(2, activation='softmax'))\n",
        "#     model.compile(optimizer=tf.keras.optimizers.Adam(learning_rate=learning_rate),\n",
        "#                   loss='sparse_categorical_crossentropy',\n",
        "#                   metrics=['accuracy'])\n",
        "#     return model\n",
        "\n",
        "# # Create the KerasClassifier with your model function\n",
        "# model = KerasClassifier(build_fn=create_model, verbose=0)\n",
        "\n",
        "# # Define the hyperparameters to search\n",
        "# parameters = {\n",
        "#     'learning_rate': [0.001, 0.005, 0.01],\n",
        "#     'dropout_rate': [0.3, 0.5, 0.7],\n",
        "#     'batch_size': [16, 32, 64]\n",
        "# }\n",
        "\n",
        "# # Perform random search\n",
        "# random_search = RandomizedSearchCV(estimator=model, param_distributions=parameters, cv=3)\n",
        "# random_search_result = random_search.fit(X_train, y_train)\n",
        "\n",
        "# # Print the best parameters and best accuracy\n",
        "# print(\"Best Parameters:\", random_search_result.best_params_)\n",
        "# #print(\"Best Accuracy:\", random_search_result.best_score_)\n"
      ],
      "metadata": {
        "id": "tD_OwmVIDKmq"
      },
      "execution_count": 14,
      "outputs": []
    },
    {
      "cell_type": "code",
      "source": [
        "# print(\"Best Accuracy:\", random_search_result.best_score_)"
      ],
      "metadata": {
        "id": "OHbUF_EJDUUg"
      },
      "execution_count": 15,
      "outputs": []
    },
    {
      "cell_type": "code",
      "source": [
        "# import tensorflow as tf\n",
        "# from tensorflow.keras import layers\n",
        "# from sklearn.model_selection import train_test_split\n",
        "\n",
        "# # Split the dataset into training, validation, and test sets\n",
        "# # X_train, X_test, y_train, y_test = train_test_split(dataset, labels, test_size=test_ratio, stratify=labels, random_state=42)\n",
        "# # X_train, X_val, y_train, y_val = train_test_split(X_train, y_train, test_size=val_ratio/(train_ratio+val_ratio), stratify=y_train, random_state=42)\n",
        "\n",
        "# # Normalize the input data (if required)\n",
        "# # X_train = X_train / 255.0\n",
        "# # X_val = X_val / 255.0\n",
        "# # X_test = X_test / 255.0\n",
        "\n",
        "# # Reshape the input data based on the expected input shape of the model\n",
        "# input_shape = X_train.shape[1:]  # Assuming the first dimension is the number of samples\n",
        "# X_train = X_train.reshape((-1,) + input_shape)\n",
        "# X_val = X_val.reshape((-1,) + input_shape)\n",
        "# X_test = X_test.reshape((-1,) + input_shape)\n",
        "\n",
        "# # Build the CNN model\n",
        "# model = tf.keras.Sequential()\n",
        "# model.add(layers.Conv2D(16, kernel_size=(6, 6),strides=2, activation='relu',padding='same', input_shape=input_shape))\n",
        "# model.add(layers.MaxPooling2D(pool_size=(2, 2)))\n",
        "# model.add(layers.Conv2D(32, kernel_size=(3, 3), activation='relu', input_shape=input_shape))\n",
        "# model.add(layers.MaxPooling2D(pool_size=(2, 2)))\n",
        "# model.add(layers.Conv2D(64, kernel_size=(3, 3), activation='relu'))\n",
        "# model.add(layers.MaxPooling2D(pool_size=(2, 2)))\n",
        "# model.add(layers.Flatten())\n",
        "# model.add(layers.Dense(128, activation='relu'))\n",
        "# model.add(layers.Dense(1, activation='sigmoid'))\n",
        "\n",
        "# # Compile the model with the desired loss function and optimizer\n",
        "# learning_rate = 0.05  # Specify your desired learning rate\n",
        "# optimizer = tf.keras.optimizers.Adam(learning_rate=learning_rate)\n",
        "# model.compile(optimizer=optimizer, loss='binary_crossentropy', metrics=['accuracy'])\n",
        "\n",
        "# # Train the model\n",
        "# history = model.fit(X_train, y_train, validation_data=(X_val, y_val), epochs=20, batch_size=32)\n",
        "\n",
        "# # Evaluate the model on the test set\n",
        "# test_loss, test_accuracy = model.evaluate(X_test, y_test)\n",
        "\n",
        "# # Print the test accuracy\n",
        "# print(\"Test Accuracy:\", test_accuracy)\n"
      ],
      "metadata": {
        "id": "7DjRLwBcMew8"
      },
      "execution_count": 16,
      "outputs": []
    },
    {
      "cell_type": "code",
      "source": [
        "# import tensorflow as tf\n",
        "# from tensorflow.keras import layers\n",
        "# from sklearn.model_selection import train_test_split\n",
        "\n",
        "# # Split the dataset into training, validation, and test sets\n",
        "# X_train, X_test, y_train, y_test = train_test_split(dataset, labels, test_size=test_ratio, stratify=labels, random_state=42)\n",
        "# X_train, X_val, y_train, y_val = train_test_split(X_train, y_train, test_size=val_ratio/(train_ratio+val_ratio), stratify=y_train, random_state=42)\n",
        "\n",
        "# # Normalize the input data (if required)\n",
        "# # X_train = X_train / 255.0\n",
        "# # X_val = X_val / 255.0\n",
        "# # X_test = X_test / 255.0\n",
        "\n",
        "# # Reshape the input data based on the expected input shape of the model\n",
        "# input_shape = X_train.shape[1:]  # Assuming the first dimension is the number of samples\n",
        "# X_train = X_train.reshape((-1,) + input_shape)\n",
        "# X_val = X_val.reshape((-1,) + input_shape)\n",
        "# X_test = X_test.reshape((-1,) + input_shape)\n",
        "\n",
        "# # Build the CNN model\n",
        "# model = tf.keras.Sequential()\n",
        "# model.add(layers.Conv2D(32, kernel_size=(3, 3), activation='relu', input_shape=input_shape))\n",
        "# model.add(layers.MaxPooling2D(pool_size=(2, 2)))\n",
        "# model.add(layers.Conv2D(64, kernel_size=(3, 3), activation='relu'))\n",
        "# model.add(layers.MaxPooling2D(pool_size=(2, 2)))\n",
        "# model.add(layers.Flatten())\n",
        "# model.add(layers.Dense(128, activation='relu'))\n",
        "# model.add(layers.Dense(1, activation='linear'))\n",
        "\n",
        "# # Compile the model with the desired loss function and optimizer\n",
        "# learning_rate = 0.05  # Specify your desired learning rate\n",
        "# optimizer = tf.keras.optimizers.Adam(learning_rate=learning_rate)\n",
        "# model.compile(optimizer=optimizer, loss='mean_squared_error', metrics=['accuracy'])\n",
        "\n",
        "# # Train the model\n",
        "# history = model.fit(X_train, y_train, validation_data=(X_val, y_val), epochs=20, batch_size=32)\n",
        "\n",
        "# # Evaluate the model on the test set\n",
        "# test_loss, test_accuracy = model.evaluate(X_test, y_test)\n",
        "\n",
        "# # Print the test accuracy\n",
        "# print(\"Test Accuracy:\", test_accuracy)\n"
      ],
      "metadata": {
        "id": "_-T9uu_OMe9G"
      },
      "execution_count": 17,
      "outputs": []
    }
  ]
}